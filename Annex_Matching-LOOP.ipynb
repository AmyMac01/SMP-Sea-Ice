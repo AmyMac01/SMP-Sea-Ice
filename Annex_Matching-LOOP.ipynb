{
 "cells": [
  {
   "cell_type": "markdown",
   "metadata": {},
   "source": [
    "# SMP and snow pit profile matching\n",
    "An example of SMP profiles at snow pit locations are scaled to account for differences\n",
    "in the target snowpack structure. Because the SMP and density cutter profiles are physically\n",
    "displaced we use a brute-force approach to match them as best as possible using a 4 step\n",
    "procedure\n",
    "\n",
    "1. Make a first guess at the density from the SMP using the P15\n",
    "2. Break up the SMP profile into L_RESAMPLE sized layers\n",
    "3. Randomly scale each layer according to MAX_STRETCH_LAYER\n",
    "4. Compare against density profile\n",
    "5. Select best fit scaling where RMSE and R are optimized\n"
   ]
  },
  {
   "cell_type": "code",
   "execution_count": 1,
   "metadata": {},
   "outputs": [],
   "source": [
    "# Community packages\n",
    "import os \n",
    "import numpy as np\n",
    "np.random.seed(2019) \n",
    "import pandas as pd\n",
    "from matplotlib import pyplot as plt\n",
    "from matplotlib.patches import ConnectionPatch\n",
    "from scipy import stats\n",
    "from statsmodels.formula.api import ols\n",
    "import pickle\n",
    "\n",
    "\n",
    "# Local packages\n",
    "import smpfunc #SMP helper functions\n",
    "\n",
    "# Import SLF SMP Package\n",
    "from snowmicropyn import Profile, proksch2015, loewe2012\n",
    "\n",
    "# Import data\n",
    "pit_summary = pd.read_csv(\"./data/Pit/pit_summary.csv\")\n",
    "pit_desnity = pd.read_csv(\"./data/Pit/pit_density.csv\")\n",
    "input_data = os.path.abspath(\"./data/SMP/Calibration\")\n",
    "pit_desnity['BOTTOM'] = pit_desnity['BOTTOM'] - pit_desnity['Height correction mm']\n",
    "pit_desnity['TOP'] = pit_desnity['TOP'] - pit_desnity['Height correction mm']\n",
    "\n",
    "\n",
    "# Set constants\n",
    "CUTTER_SIZE = 2.5 #15 # Half the height of the density cutter in mm\n",
    "WINDOW_SIZE = 5 # SMP analysis window in mm\n",
    "H_RESAMPLE = 1 # delta height in mm for standardized SMP profiles\n",
    "L_RESAMPLE = 25 # layer unit height in mm for SMP matching                   ## originally 50\n",
    "MAX_STRETCH_LAYER = 0.75 # Max layer change in % of height\n",
    "MAX_STRETCH_OVERALL = 0.15 # Max profile change in % of total height\n",
    "NUM_TESTS = 10000\n",
    "\n",
    "axis_value_size = 12\n",
    "axis_label_size = 14\n",
    "\n",
    "coeffs = pickle.load(open('./output/density_k20b_coeffs.pkl', 'rb'))"
   ]
  },
  {
   "cell_type": "code",
   "execution_count": 2,
   "metadata": {},
   "outputs": [
    {
     "name": "stderr",
     "output_type": "stream",
     "text": [
      "C:\\Users\\amyrm\\Documents\\GitHub\\SMP-Sea-Ice\\smpfunc.py:104: FutureWarning: ChainedAssignmentError: behaviour will change in pandas 3.0!\n",
      "You are setting values through chained assignment. Currently this works in certain cases, but when using Copy-on-Write (which will become the default behaviour in pandas 3.0) this will never work to update the original DataFrame or Series, because the intermediate object on which we are setting values will behave as a copy.\n",
      "A typical example is when you are setting values in a column of a DataFrame, like:\n",
      "\n",
      "df[\"col\"][row_indexer] = value\n",
      "\n",
      "Use `df.loc[row_indexer, \"col\"] = values` instead, to perform the assignment in a single step and ensure this keeps updating the original `df`.\n",
      "\n",
      "See the caveats in the documentation: https://pandas.pydata.org/pandas-docs/stable/user_guide/indexing.html#returning-a-view-versus-a-copy\n",
      "\n",
      "  profile.samples.force[nans]= np.interp(x(nans), x(~nans), profile.samples.force[~nans])\n",
      "C:\\Users\\amyrm\\Documents\\GitHub\\SMP-Sea-Ice\\smpfunc.py:104: FutureWarning: ChainedAssignmentError: behaviour will change in pandas 3.0!\n",
      "You are setting values through chained assignment. Currently this works in certain cases, but when using Copy-on-Write (which will become the default behaviour in pandas 3.0) this will never work to update the original DataFrame or Series, because the intermediate object on which we are setting values will behave as a copy.\n",
      "A typical example is when you are setting values in a column of a DataFrame, like:\n",
      "\n",
      "df[\"col\"][row_indexer] = value\n",
      "\n",
      "Use `df.loc[row_indexer, \"col\"] = values` instead, to perform the assignment in a single step and ensure this keeps updating the original `df`.\n",
      "\n",
      "See the caveats in the documentation: https://pandas.pydata.org/pandas-docs/stable/user_guide/indexing.html#returning-a-view-versus-a-copy\n",
      "\n",
      "  profile.samples.force[nans]= np.interp(x(nans), x(~nans), profile.samples.force[~nans])\n",
      "C:\\Users\\amyrm\\Documents\\GitHub\\SMP-Sea-Ice\\smpfunc.py:104: FutureWarning: ChainedAssignmentError: behaviour will change in pandas 3.0!\n",
      "You are setting values through chained assignment. Currently this works in certain cases, but when using Copy-on-Write (which will become the default behaviour in pandas 3.0) this will never work to update the original DataFrame or Series, because the intermediate object on which we are setting values will behave as a copy.\n",
      "A typical example is when you are setting values in a column of a DataFrame, like:\n",
      "\n",
      "df[\"col\"][row_indexer] = value\n",
      "\n",
      "Use `df.loc[row_indexer, \"col\"] = values` instead, to perform the assignment in a single step and ensure this keeps updating the original `df`.\n",
      "\n",
      "See the caveats in the documentation: https://pandas.pydata.org/pandas-docs/stable/user_guide/indexing.html#returning-a-view-versus-a-copy\n",
      "\n",
      "  profile.samples.force[nans]= np.interp(x(nans), x(~nans), profile.samples.force[~nans])\n",
      "C:\\Users\\amyrm\\Documents\\GitHub\\SMP-Sea-Ice\\smpfunc.py:104: FutureWarning: ChainedAssignmentError: behaviour will change in pandas 3.0!\n",
      "You are setting values through chained assignment. Currently this works in certain cases, but when using Copy-on-Write (which will become the default behaviour in pandas 3.0) this will never work to update the original DataFrame or Series, because the intermediate object on which we are setting values will behave as a copy.\n",
      "A typical example is when you are setting values in a column of a DataFrame, like:\n",
      "\n",
      "df[\"col\"][row_indexer] = value\n",
      "\n",
      "Use `df.loc[row_indexer, \"col\"] = values` instead, to perform the assignment in a single step and ensure this keeps updating the original `df`.\n",
      "\n",
      "See the caveats in the documentation: https://pandas.pydata.org/pandas-docs/stable/user_guide/indexing.html#returning-a-view-versus-a-copy\n",
      "\n",
      "  profile.samples.force[nans]= np.interp(x(nans), x(~nans), profile.samples.force[~nans])\n",
      "C:\\Users\\amyrm\\Documents\\GitHub\\SMP-Sea-Ice\\smpfunc.py:104: FutureWarning: ChainedAssignmentError: behaviour will change in pandas 3.0!\n",
      "You are setting values through chained assignment. Currently this works in certain cases, but when using Copy-on-Write (which will become the default behaviour in pandas 3.0) this will never work to update the original DataFrame or Series, because the intermediate object on which we are setting values will behave as a copy.\n",
      "A typical example is when you are setting values in a column of a DataFrame, like:\n",
      "\n",
      "df[\"col\"][row_indexer] = value\n",
      "\n",
      "Use `df.loc[row_indexer, \"col\"] = values` instead, to perform the assignment in a single step and ensure this keeps updating the original `df`.\n",
      "\n",
      "See the caveats in the documentation: https://pandas.pydata.org/pandas-docs/stable/user_guide/indexing.html#returning-a-view-versus-a-copy\n",
      "\n",
      "  profile.samples.force[nans]= np.interp(x(nans), x(~nans), profile.samples.force[~nans])\n",
      "C:\\Users\\amyrm\\Documents\\GitHub\\SMP-Sea-Ice\\smpfunc.py:104: FutureWarning: ChainedAssignmentError: behaviour will change in pandas 3.0!\n",
      "You are setting values through chained assignment. Currently this works in certain cases, but when using Copy-on-Write (which will become the default behaviour in pandas 3.0) this will never work to update the original DataFrame or Series, because the intermediate object on which we are setting values will behave as a copy.\n",
      "A typical example is when you are setting values in a column of a DataFrame, like:\n",
      "\n",
      "df[\"col\"][row_indexer] = value\n",
      "\n",
      "Use `df.loc[row_indexer, \"col\"] = values` instead, to perform the assignment in a single step and ensure this keeps updating the original `df`.\n",
      "\n",
      "See the caveats in the documentation: https://pandas.pydata.org/pandas-docs/stable/user_guide/indexing.html#returning-a-view-versus-a-copy\n",
      "\n",
      "  profile.samples.force[nans]= np.interp(x(nans), x(~nans), profile.samples.force[~nans])\n",
      "C:\\Users\\amyrm\\Documents\\GitHub\\SMP-Sea-Ice\\smpfunc.py:104: FutureWarning: ChainedAssignmentError: behaviour will change in pandas 3.0!\n",
      "You are setting values through chained assignment. Currently this works in certain cases, but when using Copy-on-Write (which will become the default behaviour in pandas 3.0) this will never work to update the original DataFrame or Series, because the intermediate object on which we are setting values will behave as a copy.\n",
      "A typical example is when you are setting values in a column of a DataFrame, like:\n",
      "\n",
      "df[\"col\"][row_indexer] = value\n",
      "\n",
      "Use `df.loc[row_indexer, \"col\"] = values` instead, to perform the assignment in a single step and ensure this keeps updating the original `df`.\n",
      "\n",
      "See the caveats in the documentation: https://pandas.pydata.org/pandas-docs/stable/user_guide/indexing.html#returning-a-view-versus-a-copy\n",
      "\n",
      "  profile.samples.force[nans]= np.interp(x(nans), x(~nans), profile.samples.force[~nans])\n",
      "C:\\Users\\amyrm\\Documents\\GitHub\\SMP-Sea-Ice\\smpfunc.py:104: FutureWarning: ChainedAssignmentError: behaviour will change in pandas 3.0!\n",
      "You are setting values through chained assignment. Currently this works in certain cases, but when using Copy-on-Write (which will become the default behaviour in pandas 3.0) this will never work to update the original DataFrame or Series, because the intermediate object on which we are setting values will behave as a copy.\n",
      "A typical example is when you are setting values in a column of a DataFrame, like:\n",
      "\n",
      "df[\"col\"][row_indexer] = value\n",
      "\n",
      "Use `df.loc[row_indexer, \"col\"] = values` instead, to perform the assignment in a single step and ensure this keeps updating the original `df`.\n",
      "\n",
      "See the caveats in the documentation: https://pandas.pydata.org/pandas-docs/stable/user_guide/indexing.html#returning-a-view-versus-a-copy\n",
      "\n",
      "  profile.samples.force[nans]= np.interp(x(nans), x(~nans), profile.samples.force[~nans])\n",
      "Latitude value -99999.0 invalid, replacing by None (file S31H0820)\n",
      "Longitude value None invalid, replacing by None (file S31H0820)\n",
      "C:\\Users\\amyrm\\Documents\\GitHub\\SMP-Sea-Ice\\smpfunc.py:104: FutureWarning: ChainedAssignmentError: behaviour will change in pandas 3.0!\n",
      "You are setting values through chained assignment. Currently this works in certain cases, but when using Copy-on-Write (which will become the default behaviour in pandas 3.0) this will never work to update the original DataFrame or Series, because the intermediate object on which we are setting values will behave as a copy.\n",
      "A typical example is when you are setting values in a column of a DataFrame, like:\n",
      "\n",
      "df[\"col\"][row_indexer] = value\n",
      "\n",
      "Use `df.loc[row_indexer, \"col\"] = values` instead, to perform the assignment in a single step and ensure this keeps updating the original `df`.\n",
      "\n",
      "See the caveats in the documentation: https://pandas.pydata.org/pandas-docs/stable/user_guide/indexing.html#returning-a-view-versus-a-copy\n",
      "\n",
      "  profile.samples.force[nans]= np.interp(x(nans), x(~nans), profile.samples.force[~nans])\n",
      "C:\\Users\\amyrm\\Documents\\GitHub\\SMP-Sea-Ice\\smpfunc.py:104: FutureWarning: ChainedAssignmentError: behaviour will change in pandas 3.0!\n",
      "You are setting values through chained assignment. Currently this works in certain cases, but when using Copy-on-Write (which will become the default behaviour in pandas 3.0) this will never work to update the original DataFrame or Series, because the intermediate object on which we are setting values will behave as a copy.\n",
      "A typical example is when you are setting values in a column of a DataFrame, like:\n",
      "\n",
      "df[\"col\"][row_indexer] = value\n",
      "\n",
      "Use `df.loc[row_indexer, \"col\"] = values` instead, to perform the assignment in a single step and ensure this keeps updating the original `df`.\n",
      "\n",
      "See the caveats in the documentation: https://pandas.pydata.org/pandas-docs/stable/user_guide/indexing.html#returning-a-view-versus-a-copy\n",
      "\n",
      "  profile.samples.force[nans]= np.interp(x(nans), x(~nans), profile.samples.force[~nans])\n",
      "C:\\Users\\amyrm\\Documents\\GitHub\\SMP-Sea-Ice\\smpfunc.py:104: FutureWarning: ChainedAssignmentError: behaviour will change in pandas 3.0!\n",
      "You are setting values through chained assignment. Currently this works in certain cases, but when using Copy-on-Write (which will become the default behaviour in pandas 3.0) this will never work to update the original DataFrame or Series, because the intermediate object on which we are setting values will behave as a copy.\n",
      "A typical example is when you are setting values in a column of a DataFrame, like:\n",
      "\n",
      "df[\"col\"][row_indexer] = value\n",
      "\n",
      "Use `df.loc[row_indexer, \"col\"] = values` instead, to perform the assignment in a single step and ensure this keeps updating the original `df`.\n",
      "\n",
      "See the caveats in the documentation: https://pandas.pydata.org/pandas-docs/stable/user_guide/indexing.html#returning-a-view-versus-a-copy\n",
      "\n",
      "  profile.samples.force[nans]= np.interp(x(nans), x(~nans), profile.samples.force[~nans])\n",
      "C:\\Users\\amyrm\\Documents\\GitHub\\SMP-Sea-Ice\\smpfunc.py:104: FutureWarning: ChainedAssignmentError: behaviour will change in pandas 3.0!\n",
      "You are setting values through chained assignment. Currently this works in certain cases, but when using Copy-on-Write (which will become the default behaviour in pandas 3.0) this will never work to update the original DataFrame or Series, because the intermediate object on which we are setting values will behave as a copy.\n",
      "A typical example is when you are setting values in a column of a DataFrame, like:\n",
      "\n",
      "df[\"col\"][row_indexer] = value\n",
      "\n",
      "Use `df.loc[row_indexer, \"col\"] = values` instead, to perform the assignment in a single step and ensure this keeps updating the original `df`.\n",
      "\n",
      "See the caveats in the documentation: https://pandas.pydata.org/pandas-docs/stable/user_guide/indexing.html#returning-a-view-versus-a-copy\n",
      "\n",
      "  profile.samples.force[nans]= np.interp(x(nans), x(~nans), profile.samples.force[~nans])\n",
      "C:\\Users\\amyrm\\Documents\\GitHub\\SMP-Sea-Ice\\smpfunc.py:104: FutureWarning: ChainedAssignmentError: behaviour will change in pandas 3.0!\n",
      "You are setting values through chained assignment. Currently this works in certain cases, but when using Copy-on-Write (which will become the default behaviour in pandas 3.0) this will never work to update the original DataFrame or Series, because the intermediate object on which we are setting values will behave as a copy.\n",
      "A typical example is when you are setting values in a column of a DataFrame, like:\n",
      "\n",
      "df[\"col\"][row_indexer] = value\n",
      "\n",
      "Use `df.loc[row_indexer, \"col\"] = values` instead, to perform the assignment in a single step and ensure this keeps updating the original `df`.\n",
      "\n",
      "See the caveats in the documentation: https://pandas.pydata.org/pandas-docs/stable/user_guide/indexing.html#returning-a-view-versus-a-copy\n",
      "\n",
      "  profile.samples.force[nans]= np.interp(x(nans), x(~nans), profile.samples.force[~nans])\n",
      "C:\\Users\\amyrm\\Documents\\GitHub\\SMP-Sea-Ice\\smpfunc.py:104: FutureWarning: ChainedAssignmentError: behaviour will change in pandas 3.0!\n",
      "You are setting values through chained assignment. Currently this works in certain cases, but when using Copy-on-Write (which will become the default behaviour in pandas 3.0) this will never work to update the original DataFrame or Series, because the intermediate object on which we are setting values will behave as a copy.\n",
      "A typical example is when you are setting values in a column of a DataFrame, like:\n",
      "\n",
      "df[\"col\"][row_indexer] = value\n",
      "\n",
      "Use `df.loc[row_indexer, \"col\"] = values` instead, to perform the assignment in a single step and ensure this keeps updating the original `df`.\n",
      "\n",
      "See the caveats in the documentation: https://pandas.pydata.org/pandas-docs/stable/user_guide/indexing.html#returning-a-view-versus-a-copy\n",
      "\n",
      "  profile.samples.force[nans]= np.interp(x(nans), x(~nans), profile.samples.force[~nans])\n",
      "C:\\Users\\amyrm\\Documents\\GitHub\\SMP-Sea-Ice\\smpfunc.py:104: FutureWarning: ChainedAssignmentError: behaviour will change in pandas 3.0!\n",
      "You are setting values through chained assignment. Currently this works in certain cases, but when using Copy-on-Write (which will become the default behaviour in pandas 3.0) this will never work to update the original DataFrame or Series, because the intermediate object on which we are setting values will behave as a copy.\n",
      "A typical example is when you are setting values in a column of a DataFrame, like:\n",
      "\n",
      "df[\"col\"][row_indexer] = value\n",
      "\n",
      "Use `df.loc[row_indexer, \"col\"] = values` instead, to perform the assignment in a single step and ensure this keeps updating the original `df`.\n",
      "\n",
      "See the caveats in the documentation: https://pandas.pydata.org/pandas-docs/stable/user_guide/indexing.html#returning-a-view-versus-a-copy\n",
      "\n",
      "  profile.samples.force[nans]= np.interp(x(nans), x(~nans), profile.samples.force[~nans])\n",
      "Latitude value -99999.0 invalid, replacing by None (file S49M1106)\n",
      "Longitude value None invalid, replacing by None (file S49M1106)\n",
      "C:\\Users\\amyrm\\Documents\\GitHub\\SMP-Sea-Ice\\smpfunc.py:104: FutureWarning: ChainedAssignmentError: behaviour will change in pandas 3.0!\n",
      "You are setting values through chained assignment. Currently this works in certain cases, but when using Copy-on-Write (which will become the default behaviour in pandas 3.0) this will never work to update the original DataFrame or Series, because the intermediate object on which we are setting values will behave as a copy.\n",
      "A typical example is when you are setting values in a column of a DataFrame, like:\n",
      "\n",
      "df[\"col\"][row_indexer] = value\n",
      "\n",
      "Use `df.loc[row_indexer, \"col\"] = values` instead, to perform the assignment in a single step and ensure this keeps updating the original `df`.\n",
      "\n",
      "See the caveats in the documentation: https://pandas.pydata.org/pandas-docs/stable/user_guide/indexing.html#returning-a-view-versus-a-copy\n",
      "\n",
      "  profile.samples.force[nans]= np.interp(x(nans), x(~nans), profile.samples.force[~nans])\n",
      "Latitude value -99999.0 invalid, replacing by None (file S49M1109)\n",
      "Longitude value None invalid, replacing by None (file S49M1109)\n",
      "C:\\Users\\amyrm\\Documents\\GitHub\\SMP-Sea-Ice\\smpfunc.py:104: FutureWarning: ChainedAssignmentError: behaviour will change in pandas 3.0!\n",
      "You are setting values through chained assignment. Currently this works in certain cases, but when using Copy-on-Write (which will become the default behaviour in pandas 3.0) this will never work to update the original DataFrame or Series, because the intermediate object on which we are setting values will behave as a copy.\n",
      "A typical example is when you are setting values in a column of a DataFrame, like:\n",
      "\n",
      "df[\"col\"][row_indexer] = value\n",
      "\n",
      "Use `df.loc[row_indexer, \"col\"] = values` instead, to perform the assignment in a single step and ensure this keeps updating the original `df`.\n",
      "\n",
      "See the caveats in the documentation: https://pandas.pydata.org/pandas-docs/stable/user_guide/indexing.html#returning-a-view-versus-a-copy\n",
      "\n",
      "  profile.samples.force[nans]= np.interp(x(nans), x(~nans), profile.samples.force[~nans])\n",
      "C:\\Users\\amyrm\\Documents\\GitHub\\SMP-Sea-Ice\\smpfunc.py:104: FutureWarning: ChainedAssignmentError: behaviour will change in pandas 3.0!\n",
      "You are setting values through chained assignment. Currently this works in certain cases, but when using Copy-on-Write (which will become the default behaviour in pandas 3.0) this will never work to update the original DataFrame or Series, because the intermediate object on which we are setting values will behave as a copy.\n",
      "A typical example is when you are setting values in a column of a DataFrame, like:\n",
      "\n",
      "df[\"col\"][row_indexer] = value\n",
      "\n",
      "Use `df.loc[row_indexer, \"col\"] = values` instead, to perform the assignment in a single step and ensure this keeps updating the original `df`.\n",
      "\n",
      "See the caveats in the documentation: https://pandas.pydata.org/pandas-docs/stable/user_guide/indexing.html#returning-a-view-versus-a-copy\n",
      "\n",
      "  profile.samples.force[nans]= np.interp(x(nans), x(~nans), profile.samples.force[~nans])\n",
      "C:\\Users\\amyrm\\Documents\\GitHub\\SMP-Sea-Ice\\smpfunc.py:104: FutureWarning: ChainedAssignmentError: behaviour will change in pandas 3.0!\n",
      "You are setting values through chained assignment. Currently this works in certain cases, but when using Copy-on-Write (which will become the default behaviour in pandas 3.0) this will never work to update the original DataFrame or Series, because the intermediate object on which we are setting values will behave as a copy.\n",
      "A typical example is when you are setting values in a column of a DataFrame, like:\n",
      "\n",
      "df[\"col\"][row_indexer] = value\n",
      "\n",
      "Use `df.loc[row_indexer, \"col\"] = values` instead, to perform the assignment in a single step and ensure this keeps updating the original `df`.\n",
      "\n",
      "See the caveats in the documentation: https://pandas.pydata.org/pandas-docs/stable/user_guide/indexing.html#returning-a-view-versus-a-copy\n",
      "\n",
      "  profile.samples.force[nans]= np.interp(x(nans), x(~nans), profile.samples.force[~nans])\n",
      "C:\\Users\\amyrm\\Documents\\GitHub\\SMP-Sea-Ice\\smpfunc.py:104: FutureWarning: ChainedAssignmentError: behaviour will change in pandas 3.0!\n",
      "You are setting values through chained assignment. Currently this works in certain cases, but when using Copy-on-Write (which will become the default behaviour in pandas 3.0) this will never work to update the original DataFrame or Series, because the intermediate object on which we are setting values will behave as a copy.\n",
      "A typical example is when you are setting values in a column of a DataFrame, like:\n",
      "\n",
      "df[\"col\"][row_indexer] = value\n",
      "\n",
      "Use `df.loc[row_indexer, \"col\"] = values` instead, to perform the assignment in a single step and ensure this keeps updating the original `df`.\n",
      "\n",
      "See the caveats in the documentation: https://pandas.pydata.org/pandas-docs/stable/user_guide/indexing.html#returning-a-view-versus-a-copy\n",
      "\n",
      "  profile.samples.force[nans]= np.interp(x(nans), x(~nans), profile.samples.force[~nans])\n",
      "C:\\Users\\amyrm\\Documents\\GitHub\\SMP-Sea-Ice\\smpfunc.py:104: FutureWarning: ChainedAssignmentError: behaviour will change in pandas 3.0!\n",
      "You are setting values through chained assignment. Currently this works in certain cases, but when using Copy-on-Write (which will become the default behaviour in pandas 3.0) this will never work to update the original DataFrame or Series, because the intermediate object on which we are setting values will behave as a copy.\n",
      "A typical example is when you are setting values in a column of a DataFrame, like:\n",
      "\n",
      "df[\"col\"][row_indexer] = value\n",
      "\n",
      "Use `df.loc[row_indexer, \"col\"] = values` instead, to perform the assignment in a single step and ensure this keeps updating the original `df`.\n",
      "\n",
      "See the caveats in the documentation: https://pandas.pydata.org/pandas-docs/stable/user_guide/indexing.html#returning-a-view-versus-a-copy\n",
      "\n",
      "  profile.samples.force[nans]= np.interp(x(nans), x(~nans), profile.samples.force[~nans])\n",
      "C:\\Users\\amyrm\\Documents\\GitHub\\SMP-Sea-Ice\\smpfunc.py:104: FutureWarning: ChainedAssignmentError: behaviour will change in pandas 3.0!\n",
      "You are setting values through chained assignment. Currently this works in certain cases, but when using Copy-on-Write (which will become the default behaviour in pandas 3.0) this will never work to update the original DataFrame or Series, because the intermediate object on which we are setting values will behave as a copy.\n",
      "A typical example is when you are setting values in a column of a DataFrame, like:\n",
      "\n",
      "df[\"col\"][row_indexer] = value\n",
      "\n",
      "Use `df.loc[row_indexer, \"col\"] = values` instead, to perform the assignment in a single step and ensure this keeps updating the original `df`.\n",
      "\n",
      "See the caveats in the documentation: https://pandas.pydata.org/pandas-docs/stable/user_guide/indexing.html#returning-a-view-versus-a-copy\n",
      "\n",
      "  profile.samples.force[nans]= np.interp(x(nans), x(~nans), profile.samples.force[~nans])\n",
      "C:\\Users\\amyrm\\Documents\\GitHub\\SMP-Sea-Ice\\smpfunc.py:104: FutureWarning: ChainedAssignmentError: behaviour will change in pandas 3.0!\n",
      "You are setting values through chained assignment. Currently this works in certain cases, but when using Copy-on-Write (which will become the default behaviour in pandas 3.0) this will never work to update the original DataFrame or Series, because the intermediate object on which we are setting values will behave as a copy.\n",
      "A typical example is when you are setting values in a column of a DataFrame, like:\n",
      "\n",
      "df[\"col\"][row_indexer] = value\n",
      "\n",
      "Use `df.loc[row_indexer, \"col\"] = values` instead, to perform the assignment in a single step and ensure this keeps updating the original `df`.\n",
      "\n",
      "See the caveats in the documentation: https://pandas.pydata.org/pandas-docs/stable/user_guide/indexing.html#returning-a-view-versus-a-copy\n",
      "\n",
      "  profile.samples.force[nans]= np.interp(x(nans), x(~nans), profile.samples.force[~nans])\n",
      "C:\\Users\\amyrm\\Documents\\GitHub\\SMP-Sea-Ice\\smpfunc.py:104: FutureWarning: ChainedAssignmentError: behaviour will change in pandas 3.0!\n",
      "You are setting values through chained assignment. Currently this works in certain cases, but when using Copy-on-Write (which will become the default behaviour in pandas 3.0) this will never work to update the original DataFrame or Series, because the intermediate object on which we are setting values will behave as a copy.\n",
      "A typical example is when you are setting values in a column of a DataFrame, like:\n",
      "\n",
      "df[\"col\"][row_indexer] = value\n",
      "\n",
      "Use `df.loc[row_indexer, \"col\"] = values` instead, to perform the assignment in a single step and ensure this keeps updating the original `df`.\n",
      "\n",
      "See the caveats in the documentation: https://pandas.pydata.org/pandas-docs/stable/user_guide/indexing.html#returning-a-view-versus-a-copy\n",
      "\n",
      "  profile.samples.force[nans]= np.interp(x(nans), x(~nans), profile.samples.force[~nans])\n",
      "C:\\Users\\amyrm\\Documents\\GitHub\\SMP-Sea-Ice\\smpfunc.py:104: FutureWarning: ChainedAssignmentError: behaviour will change in pandas 3.0!\n",
      "You are setting values through chained assignment. Currently this works in certain cases, but when using Copy-on-Write (which will become the default behaviour in pandas 3.0) this will never work to update the original DataFrame or Series, because the intermediate object on which we are setting values will behave as a copy.\n",
      "A typical example is when you are setting values in a column of a DataFrame, like:\n",
      "\n",
      "df[\"col\"][row_indexer] = value\n",
      "\n",
      "Use `df.loc[row_indexer, \"col\"] = values` instead, to perform the assignment in a single step and ensure this keeps updating the original `df`.\n",
      "\n",
      "See the caveats in the documentation: https://pandas.pydata.org/pandas-docs/stable/user_guide/indexing.html#returning-a-view-versus-a-copy\n",
      "\n",
      "  profile.samples.force[nans]= np.interp(x(nans), x(~nans), profile.samples.force[~nans])\n",
      "C:\\Users\\amyrm\\Documents\\GitHub\\SMP-Sea-Ice\\smpfunc.py:104: FutureWarning: ChainedAssignmentError: behaviour will change in pandas 3.0!\n",
      "You are setting values through chained assignment. Currently this works in certain cases, but when using Copy-on-Write (which will become the default behaviour in pandas 3.0) this will never work to update the original DataFrame or Series, because the intermediate object on which we are setting values will behave as a copy.\n",
      "A typical example is when you are setting values in a column of a DataFrame, like:\n",
      "\n",
      "df[\"col\"][row_indexer] = value\n",
      "\n",
      "Use `df.loc[row_indexer, \"col\"] = values` instead, to perform the assignment in a single step and ensure this keeps updating the original `df`.\n",
      "\n",
      "See the caveats in the documentation: https://pandas.pydata.org/pandas-docs/stable/user_guide/indexing.html#returning-a-view-versus-a-copy\n",
      "\n",
      "  profile.samples.force[nans]= np.interp(x(nans), x(~nans), profile.samples.force[~nans])\n",
      "Latitude value -99999.0 invalid, replacing by None (file S49M2238)\n",
      "Longitude value None invalid, replacing by None (file S49M2238)\n",
      "C:\\Users\\amyrm\\Documents\\GitHub\\SMP-Sea-Ice\\smpfunc.py:104: FutureWarning: ChainedAssignmentError: behaviour will change in pandas 3.0!\n",
      "You are setting values through chained assignment. Currently this works in certain cases, but when using Copy-on-Write (which will become the default behaviour in pandas 3.0) this will never work to update the original DataFrame or Series, because the intermediate object on which we are setting values will behave as a copy.\n",
      "A typical example is when you are setting values in a column of a DataFrame, like:\n",
      "\n",
      "df[\"col\"][row_indexer] = value\n",
      "\n",
      "Use `df.loc[row_indexer, \"col\"] = values` instead, to perform the assignment in a single step and ensure this keeps updating the original `df`.\n",
      "\n",
      "See the caveats in the documentation: https://pandas.pydata.org/pandas-docs/stable/user_guide/indexing.html#returning-a-view-versus-a-copy\n",
      "\n",
      "  profile.samples.force[nans]= np.interp(x(nans), x(~nans), profile.samples.force[~nans])\n",
      "Latitude value -99999.0 invalid, replacing by None (file S49M2286)\n",
      "Longitude value None invalid, replacing by None (file S49M2286)\n",
      "C:\\Users\\amyrm\\Documents\\GitHub\\SMP-Sea-Ice\\smpfunc.py:104: FutureWarning: ChainedAssignmentError: behaviour will change in pandas 3.0!\n",
      "You are setting values through chained assignment. Currently this works in certain cases, but when using Copy-on-Write (which will become the default behaviour in pandas 3.0) this will never work to update the original DataFrame or Series, because the intermediate object on which we are setting values will behave as a copy.\n",
      "A typical example is when you are setting values in a column of a DataFrame, like:\n",
      "\n",
      "df[\"col\"][row_indexer] = value\n",
      "\n",
      "Use `df.loc[row_indexer, \"col\"] = values` instead, to perform the assignment in a single step and ensure this keeps updating the original `df`.\n",
      "\n",
      "See the caveats in the documentation: https://pandas.pydata.org/pandas-docs/stable/user_guide/indexing.html#returning-a-view-versus-a-copy\n",
      "\n",
      "  profile.samples.force[nans]= np.interp(x(nans), x(~nans), profile.samples.force[~nans])\n",
      "Latitude value -99999.0 invalid, replacing by None (file S49M2291)\n",
      "Longitude value None invalid, replacing by None (file S49M2291)\n",
      "C:\\Users\\amyrm\\Documents\\GitHub\\SMP-Sea-Ice\\smpfunc.py:104: FutureWarning: ChainedAssignmentError: behaviour will change in pandas 3.0!\n",
      "You are setting values through chained assignment. Currently this works in certain cases, but when using Copy-on-Write (which will become the default behaviour in pandas 3.0) this will never work to update the original DataFrame or Series, because the intermediate object on which we are setting values will behave as a copy.\n",
      "A typical example is when you are setting values in a column of a DataFrame, like:\n",
      "\n",
      "df[\"col\"][row_indexer] = value\n",
      "\n",
      "Use `df.loc[row_indexer, \"col\"] = values` instead, to perform the assignment in a single step and ensure this keeps updating the original `df`.\n",
      "\n",
      "See the caveats in the documentation: https://pandas.pydata.org/pandas-docs/stable/user_guide/indexing.html#returning-a-view-versus-a-copy\n",
      "\n",
      "  profile.samples.force[nans]= np.interp(x(nans), x(~nans), profile.samples.force[~nans])\n",
      "C:\\Users\\amyrm\\Documents\\GitHub\\SMP-Sea-Ice\\smpfunc.py:104: FutureWarning: ChainedAssignmentError: behaviour will change in pandas 3.0!\n",
      "You are setting values through chained assignment. Currently this works in certain cases, but when using Copy-on-Write (which will become the default behaviour in pandas 3.0) this will never work to update the original DataFrame or Series, because the intermediate object on which we are setting values will behave as a copy.\n",
      "A typical example is when you are setting values in a column of a DataFrame, like:\n",
      "\n",
      "df[\"col\"][row_indexer] = value\n",
      "\n",
      "Use `df.loc[row_indexer, \"col\"] = values` instead, to perform the assignment in a single step and ensure this keeps updating the original `df`.\n",
      "\n",
      "See the caveats in the documentation: https://pandas.pydata.org/pandas-docs/stable/user_guide/indexing.html#returning-a-view-versus-a-copy\n",
      "\n",
      "  profile.samples.force[nans]= np.interp(x(nans), x(~nans), profile.samples.force[~nans])\n",
      "C:\\Users\\amyrm\\Documents\\GitHub\\SMP-Sea-Ice\\smpfunc.py:104: FutureWarning: ChainedAssignmentError: behaviour will change in pandas 3.0!\n",
      "You are setting values through chained assignment. Currently this works in certain cases, but when using Copy-on-Write (which will become the default behaviour in pandas 3.0) this will never work to update the original DataFrame or Series, because the intermediate object on which we are setting values will behave as a copy.\n",
      "A typical example is when you are setting values in a column of a DataFrame, like:\n",
      "\n",
      "df[\"col\"][row_indexer] = value\n",
      "\n",
      "Use `df.loc[row_indexer, \"col\"] = values` instead, to perform the assignment in a single step and ensure this keeps updating the original `df`.\n",
      "\n",
      "See the caveats in the documentation: https://pandas.pydata.org/pandas-docs/stable/user_guide/indexing.html#returning-a-view-versus-a-copy\n",
      "\n",
      "  profile.samples.force[nans]= np.interp(x(nans), x(~nans), profile.samples.force[~nans])\n",
      "C:\\Users\\amyrm\\Documents\\GitHub\\SMP-Sea-Ice\\smpfunc.py:104: FutureWarning: ChainedAssignmentError: behaviour will change in pandas 3.0!\n",
      "You are setting values through chained assignment. Currently this works in certain cases, but when using Copy-on-Write (which will become the default behaviour in pandas 3.0) this will never work to update the original DataFrame or Series, because the intermediate object on which we are setting values will behave as a copy.\n",
      "A typical example is when you are setting values in a column of a DataFrame, like:\n",
      "\n",
      "df[\"col\"][row_indexer] = value\n",
      "\n",
      "Use `df.loc[row_indexer, \"col\"] = values` instead, to perform the assignment in a single step and ensure this keeps updating the original `df`.\n",
      "\n",
      "See the caveats in the documentation: https://pandas.pydata.org/pandas-docs/stable/user_guide/indexing.html#returning-a-view-versus-a-copy\n",
      "\n",
      "  profile.samples.force[nans]= np.interp(x(nans), x(~nans), profile.samples.force[~nans])\n",
      "C:\\Users\\amyrm\\Documents\\GitHub\\SMP-Sea-Ice\\smpfunc.py:104: FutureWarning: ChainedAssignmentError: behaviour will change in pandas 3.0!\n",
      "You are setting values through chained assignment. Currently this works in certain cases, but when using Copy-on-Write (which will become the default behaviour in pandas 3.0) this will never work to update the original DataFrame or Series, because the intermediate object on which we are setting values will behave as a copy.\n",
      "A typical example is when you are setting values in a column of a DataFrame, like:\n",
      "\n",
      "df[\"col\"][row_indexer] = value\n",
      "\n",
      "Use `df.loc[row_indexer, \"col\"] = values` instead, to perform the assignment in a single step and ensure this keeps updating the original `df`.\n",
      "\n",
      "See the caveats in the documentation: https://pandas.pydata.org/pandas-docs/stable/user_guide/indexing.html#returning-a-view-versus-a-copy\n",
      "\n",
      "  profile.samples.force[nans]= np.interp(x(nans), x(~nans), profile.samples.force[~nans])\n",
      "C:\\Users\\amyrm\\Documents\\GitHub\\SMP-Sea-Ice\\smpfunc.py:104: FutureWarning: ChainedAssignmentError: behaviour will change in pandas 3.0!\n",
      "You are setting values through chained assignment. Currently this works in certain cases, but when using Copy-on-Write (which will become the default behaviour in pandas 3.0) this will never work to update the original DataFrame or Series, because the intermediate object on which we are setting values will behave as a copy.\n",
      "A typical example is when you are setting values in a column of a DataFrame, like:\n",
      "\n",
      "df[\"col\"][row_indexer] = value\n",
      "\n",
      "Use `df.loc[row_indexer, \"col\"] = values` instead, to perform the assignment in a single step and ensure this keeps updating the original `df`.\n",
      "\n",
      "See the caveats in the documentation: https://pandas.pydata.org/pandas-docs/stable/user_guide/indexing.html#returning-a-view-versus-a-copy\n",
      "\n",
      "  profile.samples.force[nans]= np.interp(x(nans), x(~nans), profile.samples.force[~nans])\n",
      "C:\\Users\\amyrm\\Documents\\GitHub\\SMP-Sea-Ice\\smpfunc.py:104: FutureWarning: ChainedAssignmentError: behaviour will change in pandas 3.0!\n",
      "You are setting values through chained assignment. Currently this works in certain cases, but when using Copy-on-Write (which will become the default behaviour in pandas 3.0) this will never work to update the original DataFrame or Series, because the intermediate object on which we are setting values will behave as a copy.\n",
      "A typical example is when you are setting values in a column of a DataFrame, like:\n",
      "\n",
      "df[\"col\"][row_indexer] = value\n",
      "\n",
      "Use `df.loc[row_indexer, \"col\"] = values` instead, to perform the assignment in a single step and ensure this keeps updating the original `df`.\n",
      "\n",
      "See the caveats in the documentation: https://pandas.pydata.org/pandas-docs/stable/user_guide/indexing.html#returning-a-view-versus-a-copy\n",
      "\n",
      "  profile.samples.force[nans]= np.interp(x(nans), x(~nans), profile.samples.force[~nans])\n",
      "C:\\Users\\amyrm\\Documents\\GitHub\\SMP-Sea-Ice\\smpfunc.py:104: FutureWarning: ChainedAssignmentError: behaviour will change in pandas 3.0!\n",
      "You are setting values through chained assignment. Currently this works in certain cases, but when using Copy-on-Write (which will become the default behaviour in pandas 3.0) this will never work to update the original DataFrame or Series, because the intermediate object on which we are setting values will behave as a copy.\n",
      "A typical example is when you are setting values in a column of a DataFrame, like:\n",
      "\n",
      "df[\"col\"][row_indexer] = value\n",
      "\n",
      "Use `df.loc[row_indexer, \"col\"] = values` instead, to perform the assignment in a single step and ensure this keeps updating the original `df`.\n",
      "\n",
      "See the caveats in the documentation: https://pandas.pydata.org/pandas-docs/stable/user_guide/indexing.html#returning-a-view-versus-a-copy\n",
      "\n",
      "  profile.samples.force[nans]= np.interp(x(nans), x(~nans), profile.samples.force[~nans])\n"
     ]
    },
    {
     "name": "stdout",
     "output_type": "stream",
     "text": [
      "[<snowmicropyn.profile.Profile object at 0x000001B36D9F8610>, <snowmicropyn.profile.Profile object at 0x000001B37D514DD0>, <snowmicropyn.profile.Profile object at 0x000001B37DC43B50>, <snowmicropyn.profile.Profile object at 0x000001B37DC51E10>, <snowmicropyn.profile.Profile object at 0x000001B37DD450D0>, <snowmicropyn.profile.Profile object at 0x000001B37DD47310>, <snowmicropyn.profile.Profile object at 0x000001B37DC5A6D0>, <snowmicropyn.profile.Profile object at 0x000001B37DCE5190>, <snowmicropyn.profile.Profile object at 0x000001B37DCE7AD0>, <snowmicropyn.profile.Profile object at 0x000001B37DD47790>, <snowmicropyn.profile.Profile object at 0x000001B37DD15410>, <snowmicropyn.profile.Profile object at 0x000001B37DD17B90>, <snowmicropyn.profile.Profile object at 0x000001B37DC7AC10>, <snowmicropyn.profile.Profile object at 0x000001B30002D290>, <snowmicropyn.profile.Profile object at 0x000001B36DC8C250>, <snowmicropyn.profile.Profile object at 0x000001B37DC86E10>, <snowmicropyn.profile.Profile object at 0x000001B37DCD5AD0>, <snowmicropyn.profile.Profile object at 0x000001B37DCD7090>, <snowmicropyn.profile.Profile object at 0x000001B37DC8F510>, <snowmicropyn.profile.Profile object at 0x000001B37DC95510>, <snowmicropyn.profile.Profile object at 0x000001B37DCA0D50>, <snowmicropyn.profile.Profile object at 0x000001B37DCA39D0>, <snowmicropyn.profile.Profile object at 0x000001B37DCA6110>, <snowmicropyn.profile.Profile object at 0x000001B300018990>, <snowmicropyn.profile.Profile object at 0x000001B30001BC50>, <snowmicropyn.profile.Profile object at 0x000001B37DCAE190>, <snowmicropyn.profile.Profile object at 0x000001B37DD60D10>, <snowmicropyn.profile.Profile object at 0x000001B37DC7A9D0>, <snowmicropyn.profile.Profile object at 0x000001B37DCBB3D0>, <snowmicropyn.profile.Profile object at 0x000001B37DCBDE10>, <snowmicropyn.profile.Profile object at 0x000001B300004950>, <snowmicropyn.profile.Profile object at 0x000001B300007750>, <snowmicropyn.profile.Profile object at 0x000001B37DCC65D0>, <snowmicropyn.profile.Profile object at 0x000001B37DD604D0>, <snowmicropyn.profile.Profile object at 0x000001B30000FB10>, <snowmicropyn.profile.Profile object at 0x000001B37DCDA610>, <snowmicropyn.profile.Profile object at 0x000001B300048BD0>, <snowmicropyn.profile.Profile object at 0x000001B30004BB10>, <snowmicropyn.profile.Profile object at 0x000001B37DCF2790>, <snowmicropyn.profile.Profile object at 0x000001B37DD0D290>]\n"
     ]
    },
    {
     "name": "stderr",
     "output_type": "stream",
     "text": [
      "C:\\Users\\amyrm\\Documents\\GitHub\\SMP-Sea-Ice\\smpfunc.py:104: FutureWarning: ChainedAssignmentError: behaviour will change in pandas 3.0!\n",
      "You are setting values through chained assignment. Currently this works in certain cases, but when using Copy-on-Write (which will become the default behaviour in pandas 3.0) this will never work to update the original DataFrame or Series, because the intermediate object on which we are setting values will behave as a copy.\n",
      "A typical example is when you are setting values in a column of a DataFrame, like:\n",
      "\n",
      "df[\"col\"][row_indexer] = value\n",
      "\n",
      "Use `df.loc[row_indexer, \"col\"] = values` instead, to perform the assignment in a single step and ensure this keeps updating the original `df`.\n",
      "\n",
      "See the caveats in the documentation: https://pandas.pydata.org/pandas-docs/stable/user_guide/indexing.html#returning-a-view-versus-a-copy\n",
      "\n",
      "  profile.samples.force[nans]= np.interp(x(nans), x(~nans), profile.samples.force[~nans])\n",
      "C:\\Users\\amyrm\\Documents\\GitHub\\SMP-Sea-Ice\\smpfunc.py:104: FutureWarning: ChainedAssignmentError: behaviour will change in pandas 3.0!\n",
      "You are setting values through chained assignment. Currently this works in certain cases, but when using Copy-on-Write (which will become the default behaviour in pandas 3.0) this will never work to update the original DataFrame or Series, because the intermediate object on which we are setting values will behave as a copy.\n",
      "A typical example is when you are setting values in a column of a DataFrame, like:\n",
      "\n",
      "df[\"col\"][row_indexer] = value\n",
      "\n",
      "Use `df.loc[row_indexer, \"col\"] = values` instead, to perform the assignment in a single step and ensure this keeps updating the original `df`.\n",
      "\n",
      "See the caveats in the documentation: https://pandas.pydata.org/pandas-docs/stable/user_guide/indexing.html#returning-a-view-versus-a-copy\n",
      "\n",
      "  profile.samples.force[nans]= np.interp(x(nans), x(~nans), profile.samples.force[~nans])\n",
      "C:\\Users\\amyrm\\Documents\\GitHub\\SMP-Sea-Ice\\smpfunc.py:104: FutureWarning: ChainedAssignmentError: behaviour will change in pandas 3.0!\n",
      "You are setting values through chained assignment. Currently this works in certain cases, but when using Copy-on-Write (which will become the default behaviour in pandas 3.0) this will never work to update the original DataFrame or Series, because the intermediate object on which we are setting values will behave as a copy.\n",
      "A typical example is when you are setting values in a column of a DataFrame, like:\n",
      "\n",
      "df[\"col\"][row_indexer] = value\n",
      "\n",
      "Use `df.loc[row_indexer, \"col\"] = values` instead, to perform the assignment in a single step and ensure this keeps updating the original `df`.\n",
      "\n",
      "See the caveats in the documentation: https://pandas.pydata.org/pandas-docs/stable/user_guide/indexing.html#returning-a-view-versus-a-copy\n",
      "\n",
      "  profile.samples.force[nans]= np.interp(x(nans), x(~nans), profile.samples.force[~nans])\n",
      "C:\\Users\\amyrm\\Documents\\GitHub\\SMP-Sea-Ice\\smpfunc.py:104: FutureWarning: ChainedAssignmentError: behaviour will change in pandas 3.0!\n",
      "You are setting values through chained assignment. Currently this works in certain cases, but when using Copy-on-Write (which will become the default behaviour in pandas 3.0) this will never work to update the original DataFrame or Series, because the intermediate object on which we are setting values will behave as a copy.\n",
      "A typical example is when you are setting values in a column of a DataFrame, like:\n",
      "\n",
      "df[\"col\"][row_indexer] = value\n",
      "\n",
      "Use `df.loc[row_indexer, \"col\"] = values` instead, to perform the assignment in a single step and ensure this keeps updating the original `df`.\n",
      "\n",
      "See the caveats in the documentation: https://pandas.pydata.org/pandas-docs/stable/user_guide/indexing.html#returning-a-view-versus-a-copy\n",
      "\n",
      "  profile.samples.force[nans]= np.interp(x(nans), x(~nans), profile.samples.force[~nans])\n"
     ]
    }
   ],
   "source": [
    "# Load the SMP calibration profiles, should be 25 for the ECCC case\n",
    "def load_smp(smp_file):\n",
    "    p = Profile.load(smp_file)\n",
    "    p = smpfunc.preprocess(p, smoothing = 0)\n",
    "    ground  = p.detect_ground()\n",
    "    surface  = p.detect_surface()\n",
    "    return p\n",
    "\n",
    "file_list = [\n",
    "    os.path.join(input_data, f)\n",
    "    for f in sorted(os.listdir(input_data))\n",
    "    if f.endswith(\".pnt\")]\n",
    "        \n",
    "smp_data = [load_smp(file) for file in file_list]\n",
    "print(smp_data)"
   ]
  },
  {
   "cell_type": "code",
   "execution_count": 9,
   "metadata": {},
   "outputs": [
    {
     "name": "stdout",
     "output_type": "stream",
     "text": [
      "i= 7\n",
      "S31H0806\n"
     ]
    },
    {
     "name": "stderr",
     "output_type": "stream",
     "text": [
      "C:\\Users\\amyrm\\anaconda3\\Lib\\site-packages\\numpy\\lib\\function_base.py:520: RuntimeWarning: Mean of empty slice.\n",
      "  avg = a.mean(axis, **keepdims_kw)\n",
      "C:\\Users\\amyrm\\anaconda3\\Lib\\site-packages\\numpy\\core\\_methods.py:121: RuntimeWarning: invalid value encountered in divide\n",
      "  ret = um.true_divide(\n",
      "C:\\Users\\amyrm\\anaconda3\\Lib\\site-packages\\numpy\\lib\\function_base.py:2889: RuntimeWarning: Degrees of freedom <= 0 for slice\n",
      "  c = cov(x, y, rowvar, dtype=dtype)\n",
      "C:\\Users\\amyrm\\anaconda3\\Lib\\site-packages\\numpy\\lib\\function_base.py:2748: RuntimeWarning: divide by zero encountered in divide\n",
      "  c *= np.true_divide(1, fact)\n",
      "C:\\Users\\amyrm\\anaconda3\\Lib\\site-packages\\numpy\\lib\\function_base.py:2748: RuntimeWarning: invalid value encountered in multiply\n",
      "  c *= np.true_divide(1, fact)\n",
      "C:\\Users\\amyrm\\Documents\\GitHub\\SMP-Sea-Ice\\smpfunc.py:133: RuntimeWarning: invalid value encountered in scalar divide\n",
      "  mae = np.sum(np.abs(result['mean_samp']-result['RHO']))/np.ma.count(result['RHO'])\n",
      "C:\\Users\\amyrm\\AppData\\Local\\Temp\\ipykernel_12040\\3892097099.py:42: DeprecationWarning: Conversion of an array with ndim > 0 to a scalar is deprecated, and will error in future. Ensure you extract a single element from your array before performing this operation. (Deprecated NumPy 1.25.)\n",
      "  min_scaling_coeff = random_tests[int(min_scaling_idx)]\n",
      "C:\\Users\\amyrm\\AppData\\Local\\Temp\\ipykernel_12040\\3892097099.py:47: DeprecationWarning: Conversion of an array with ndim > 0 to a scalar is deprecated, and will error in future. Ensure you extract a single element from your array before performing this operation. (Deprecated NumPy 1.25.)\n",
      "  result = compare_profiles[int(min_scaling_idx)].assign(l=smpfunc.extract_samples(dist, scaled_l, density_df.relative_height.values, CUTTER_SIZE).mean_samp,\n",
      "C:\\Users\\amyrm\\AppData\\Local\\Temp\\ipykernel_12040\\3892097099.py:60: RuntimeWarning: invalid value encountered in log\n",
      "  density_k2020 = coeffs[0] + coeffs[1] * np.log(scaled_force_median) \\\n",
      "C:\\Users\\amyrm\\AppData\\Local\\Temp\\ipykernel_12040\\3892097099.py:61: RuntimeWarning: invalid value encountered in log\n",
      "  + coeffs[2] * np.log(scaled_force_median) * scaled_l \\\n",
      "C:\\Users\\amyrm\\AppData\\Local\\Temp\\ipykernel_12040\\3892097099.py:90: DeprecationWarning: Conversion of an array with ndim > 0 to a scalar is deprecated, and will error in future. Ensure you extract a single element from your array before performing this operation. (Deprecated NumPy 1.25.)\n",
      "  ax2.plot(scaled_profiles[int(min_scaling_idx)][1],\n",
      "C:\\Users\\amyrm\\AppData\\Local\\Temp\\ipykernel_12040\\3892097099.py:91: DeprecationWarning: Conversion of an array with ndim > 0 to a scalar is deprecated, and will error in future. Ensure you extract a single element from your array before performing this operation. (Deprecated NumPy 1.25.)\n",
      "  scaled_profiles[int(min_scaling_idx)][0], color = 'k')\n",
      "C:\\Users\\amyrm\\AppData\\Local\\Temp\\ipykernel_12040\\3892097099.py:101: DeprecationWarning: Conversion of an array with ndim > 0 to a scalar is deprecated, and will error in future. Ensure you extract a single element from your array before performing this operation. (Deprecated NumPy 1.25.)\n",
      "  ax3.plot(density_k2020 ,scaled_profiles[int(min_scaling_idx)][0],\n"
     ]
    },
    {
     "name": "stdout",
     "output_type": "stream",
     "text": [
      "PS122-3_39-87\n",
      "i= 8\n",
      "S31H0820\n"
     ]
    },
    {
     "name": "stderr",
     "output_type": "stream",
     "text": [
      "C:\\Users\\amyrm\\anaconda3\\Lib\\site-packages\\numpy\\lib\\function_base.py:520: RuntimeWarning: Mean of empty slice.\n",
      "  avg = a.mean(axis, **keepdims_kw)\n",
      "C:\\Users\\amyrm\\anaconda3\\Lib\\site-packages\\numpy\\core\\_methods.py:121: RuntimeWarning: invalid value encountered in divide\n",
      "  ret = um.true_divide(\n",
      "C:\\Users\\amyrm\\anaconda3\\Lib\\site-packages\\numpy\\lib\\function_base.py:2889: RuntimeWarning: Degrees of freedom <= 0 for slice\n",
      "  c = cov(x, y, rowvar, dtype=dtype)\n",
      "C:\\Users\\amyrm\\anaconda3\\Lib\\site-packages\\numpy\\lib\\function_base.py:2748: RuntimeWarning: divide by zero encountered in divide\n",
      "  c *= np.true_divide(1, fact)\n",
      "C:\\Users\\amyrm\\anaconda3\\Lib\\site-packages\\numpy\\lib\\function_base.py:2748: RuntimeWarning: invalid value encountered in multiply\n",
      "  c *= np.true_divide(1, fact)\n",
      "C:\\Users\\amyrm\\Documents\\GitHub\\SMP-Sea-Ice\\smpfunc.py:133: RuntimeWarning: invalid value encountered in scalar divide\n",
      "  mae = np.sum(np.abs(result['mean_samp']-result['RHO']))/np.ma.count(result['RHO'])\n",
      "C:\\Users\\amyrm\\AppData\\Local\\Temp\\ipykernel_12040\\3892097099.py:42: DeprecationWarning: Conversion of an array with ndim > 0 to a scalar is deprecated, and will error in future. Ensure you extract a single element from your array before performing this operation. (Deprecated NumPy 1.25.)\n",
      "  min_scaling_coeff = random_tests[int(min_scaling_idx)]\n",
      "C:\\Users\\amyrm\\AppData\\Local\\Temp\\ipykernel_12040\\3892097099.py:47: DeprecationWarning: Conversion of an array with ndim > 0 to a scalar is deprecated, and will error in future. Ensure you extract a single element from your array before performing this operation. (Deprecated NumPy 1.25.)\n",
      "  result = compare_profiles[int(min_scaling_idx)].assign(l=smpfunc.extract_samples(dist, scaled_l, density_df.relative_height.values, CUTTER_SIZE).mean_samp,\n",
      "C:\\Users\\amyrm\\AppData\\Local\\Temp\\ipykernel_12040\\3892097099.py:90: DeprecationWarning: Conversion of an array with ndim > 0 to a scalar is deprecated, and will error in future. Ensure you extract a single element from your array before performing this operation. (Deprecated NumPy 1.25.)\n",
      "  ax2.plot(scaled_profiles[int(min_scaling_idx)][1],\n",
      "C:\\Users\\amyrm\\AppData\\Local\\Temp\\ipykernel_12040\\3892097099.py:91: DeprecationWarning: Conversion of an array with ndim > 0 to a scalar is deprecated, and will error in future. Ensure you extract a single element from your array before performing this operation. (Deprecated NumPy 1.25.)\n",
      "  scaled_profiles[int(min_scaling_idx)][0], color = 'k')\n",
      "C:\\Users\\amyrm\\AppData\\Local\\Temp\\ipykernel_12040\\3892097099.py:101: DeprecationWarning: Conversion of an array with ndim > 0 to a scalar is deprecated, and will error in future. Ensure you extract a single element from your array before performing this operation. (Deprecated NumPy 1.25.)\n",
      "  ax3.plot(density_k2020 ,scaled_profiles[int(min_scaling_idx)][0],\n"
     ]
    },
    {
     "name": "stdout",
     "output_type": "stream",
     "text": [
      "PS122-3_39-88\n",
      "i= 9\n",
      "S31H0870\n"
     ]
    },
    {
     "name": "stderr",
     "output_type": "stream",
     "text": [
      "C:\\Users\\amyrm\\anaconda3\\Lib\\site-packages\\numpy\\lib\\function_base.py:520: RuntimeWarning: Mean of empty slice.\n",
      "  avg = a.mean(axis, **keepdims_kw)\n",
      "C:\\Users\\amyrm\\anaconda3\\Lib\\site-packages\\numpy\\core\\_methods.py:121: RuntimeWarning: invalid value encountered in divide\n",
      "  ret = um.true_divide(\n",
      "C:\\Users\\amyrm\\anaconda3\\Lib\\site-packages\\numpy\\lib\\function_base.py:2889: RuntimeWarning: Degrees of freedom <= 0 for slice\n",
      "  c = cov(x, y, rowvar, dtype=dtype)\n",
      "C:\\Users\\amyrm\\anaconda3\\Lib\\site-packages\\numpy\\lib\\function_base.py:2748: RuntimeWarning: divide by zero encountered in divide\n",
      "  c *= np.true_divide(1, fact)\n",
      "C:\\Users\\amyrm\\anaconda3\\Lib\\site-packages\\numpy\\lib\\function_base.py:2748: RuntimeWarning: invalid value encountered in multiply\n",
      "  c *= np.true_divide(1, fact)\n",
      "C:\\Users\\amyrm\\Documents\\GitHub\\SMP-Sea-Ice\\smpfunc.py:133: RuntimeWarning: invalid value encountered in scalar divide\n",
      "  mae = np.sum(np.abs(result['mean_samp']-result['RHO']))/np.ma.count(result['RHO'])\n",
      "C:\\Users\\amyrm\\AppData\\Local\\Temp\\ipykernel_12040\\3892097099.py:42: DeprecationWarning: Conversion of an array with ndim > 0 to a scalar is deprecated, and will error in future. Ensure you extract a single element from your array before performing this operation. (Deprecated NumPy 1.25.)\n",
      "  min_scaling_coeff = random_tests[int(min_scaling_idx)]\n",
      "C:\\Users\\amyrm\\AppData\\Local\\Temp\\ipykernel_12040\\3892097099.py:47: DeprecationWarning: Conversion of an array with ndim > 0 to a scalar is deprecated, and will error in future. Ensure you extract a single element from your array before performing this operation. (Deprecated NumPy 1.25.)\n",
      "  result = compare_profiles[int(min_scaling_idx)].assign(l=smpfunc.extract_samples(dist, scaled_l, density_df.relative_height.values, CUTTER_SIZE).mean_samp,\n",
      "C:\\Users\\amyrm\\AppData\\Local\\Temp\\ipykernel_12040\\3892097099.py:60: RuntimeWarning: invalid value encountered in log\n",
      "  density_k2020 = coeffs[0] + coeffs[1] * np.log(scaled_force_median) \\\n",
      "C:\\Users\\amyrm\\AppData\\Local\\Temp\\ipykernel_12040\\3892097099.py:61: RuntimeWarning: invalid value encountered in log\n",
      "  + coeffs[2] * np.log(scaled_force_median) * scaled_l \\\n",
      "C:\\Users\\amyrm\\AppData\\Local\\Temp\\ipykernel_12040\\3892097099.py:90: DeprecationWarning: Conversion of an array with ndim > 0 to a scalar is deprecated, and will error in future. Ensure you extract a single element from your array before performing this operation. (Deprecated NumPy 1.25.)\n",
      "  ax2.plot(scaled_profiles[int(min_scaling_idx)][1],\n",
      "C:\\Users\\amyrm\\AppData\\Local\\Temp\\ipykernel_12040\\3892097099.py:91: DeprecationWarning: Conversion of an array with ndim > 0 to a scalar is deprecated, and will error in future. Ensure you extract a single element from your array before performing this operation. (Deprecated NumPy 1.25.)\n",
      "  scaled_profiles[int(min_scaling_idx)][0], color = 'k')\n",
      "C:\\Users\\amyrm\\AppData\\Local\\Temp\\ipykernel_12040\\3892097099.py:101: DeprecationWarning: Conversion of an array with ndim > 0 to a scalar is deprecated, and will error in future. Ensure you extract a single element from your array before performing this operation. (Deprecated NumPy 1.25.)\n",
      "  ax3.plot(density_k2020 ,scaled_profiles[int(min_scaling_idx)][0],\n"
     ]
    },
    {
     "name": "stdout",
     "output_type": "stream",
     "text": [
      "PS122-3_39-91\n",
      "i= 10\n",
      "S43M0805\n"
     ]
    },
    {
     "name": "stderr",
     "output_type": "stream",
     "text": [
      "C:\\Users\\amyrm\\anaconda3\\Lib\\site-packages\\numpy\\core\\fromnumeric.py:3504: RuntimeWarning: Mean of empty slice.\n",
      "  return _methods._mean(a, axis=axis, dtype=dtype,\n",
      "C:\\Users\\amyrm\\anaconda3\\Lib\\site-packages\\numpy\\core\\_methods.py:129: RuntimeWarning: invalid value encountered in scalar divide\n",
      "  ret = ret.dtype.type(ret / rcount)\n",
      "C:\\Users\\amyrm\\anaconda3\\Lib\\site-packages\\numpy\\core\\_methods.py:206: RuntimeWarning: Degrees of freedom <= 0 for slice\n",
      "  ret = _var(a, axis=axis, dtype=dtype, out=out, ddof=ddof,\n",
      "C:\\Users\\amyrm\\anaconda3\\Lib\\site-packages\\numpy\\core\\_methods.py:163: RuntimeWarning: invalid value encountered in divide\n",
      "  arrmean = um.true_divide(arrmean, div, out=arrmean,\n",
      "C:\\Users\\amyrm\\anaconda3\\Lib\\site-packages\\numpy\\core\\_methods.py:198: RuntimeWarning: invalid value encountered in scalar divide\n",
      "  ret = ret.dtype.type(ret / rcount)\n",
      "C:\\Users\\amyrm\\anaconda3\\Lib\\site-packages\\numpy\\lib\\function_base.py:520: RuntimeWarning: Mean of empty slice.\n",
      "  avg = a.mean(axis, **keepdims_kw)\n",
      "C:\\Users\\amyrm\\anaconda3\\Lib\\site-packages\\numpy\\core\\_methods.py:121: RuntimeWarning: invalid value encountered in divide\n",
      "  ret = um.true_divide(\n",
      "C:\\Users\\amyrm\\anaconda3\\Lib\\site-packages\\numpy\\lib\\function_base.py:2889: RuntimeWarning: Degrees of freedom <= 0 for slice\n",
      "  c = cov(x, y, rowvar, dtype=dtype)\n",
      "C:\\Users\\amyrm\\anaconda3\\Lib\\site-packages\\numpy\\lib\\function_base.py:2748: RuntimeWarning: divide by zero encountered in divide\n",
      "  c *= np.true_divide(1, fact)\n",
      "C:\\Users\\amyrm\\anaconda3\\Lib\\site-packages\\numpy\\lib\\function_base.py:2748: RuntimeWarning: invalid value encountered in multiply\n",
      "  c *= np.true_divide(1, fact)\n",
      "C:\\Users\\amyrm\\Documents\\GitHub\\SMP-Sea-Ice\\smpfunc.py:133: RuntimeWarning: invalid value encountered in scalar divide\n",
      "  mae = np.sum(np.abs(result['mean_samp']-result['RHO']))/np.ma.count(result['RHO'])\n",
      "C:\\Users\\amyrm\\AppData\\Local\\Temp\\ipykernel_12040\\3892097099.py:42: DeprecationWarning: Conversion of an array with ndim > 0 to a scalar is deprecated, and will error in future. Ensure you extract a single element from your array before performing this operation. (Deprecated NumPy 1.25.)\n",
      "  min_scaling_coeff = random_tests[int(min_scaling_idx)]\n",
      "C:\\Users\\amyrm\\AppData\\Local\\Temp\\ipykernel_12040\\3892097099.py:47: DeprecationWarning: Conversion of an array with ndim > 0 to a scalar is deprecated, and will error in future. Ensure you extract a single element from your array before performing this operation. (Deprecated NumPy 1.25.)\n",
      "  result = compare_profiles[int(min_scaling_idx)].assign(l=smpfunc.extract_samples(dist, scaled_l, density_df.relative_height.values, CUTTER_SIZE).mean_samp,\n",
      "C:\\Users\\amyrm\\anaconda3\\Lib\\site-packages\\numpy\\core\\fromnumeric.py:3504: RuntimeWarning: Mean of empty slice.\n",
      "  return _methods._mean(a, axis=axis, dtype=dtype,\n",
      "C:\\Users\\amyrm\\anaconda3\\Lib\\site-packages\\numpy\\core\\_methods.py:129: RuntimeWarning: invalid value encountered in scalar divide\n",
      "  ret = ret.dtype.type(ret / rcount)\n",
      "C:\\Users\\amyrm\\anaconda3\\Lib\\site-packages\\numpy\\core\\_methods.py:206: RuntimeWarning: Degrees of freedom <= 0 for slice\n",
      "  ret = _var(a, axis=axis, dtype=dtype, out=out, ddof=ddof,\n",
      "C:\\Users\\amyrm\\anaconda3\\Lib\\site-packages\\numpy\\core\\_methods.py:163: RuntimeWarning: invalid value encountered in divide\n",
      "  arrmean = um.true_divide(arrmean, div, out=arrmean,\n",
      "C:\\Users\\amyrm\\anaconda3\\Lib\\site-packages\\numpy\\core\\_methods.py:198: RuntimeWarning: invalid value encountered in scalar divide\n",
      "  ret = ret.dtype.type(ret / rcount)\n",
      "C:\\Users\\amyrm\\AppData\\Local\\Temp\\ipykernel_12040\\3892097099.py:60: RuntimeWarning: invalid value encountered in log\n",
      "  density_k2020 = coeffs[0] + coeffs[1] * np.log(scaled_force_median) \\\n",
      "C:\\Users\\amyrm\\AppData\\Local\\Temp\\ipykernel_12040\\3892097099.py:61: RuntimeWarning: invalid value encountered in log\n",
      "  + coeffs[2] * np.log(scaled_force_median) * scaled_l \\\n",
      "C:\\Users\\amyrm\\AppData\\Local\\Temp\\ipykernel_12040\\3892097099.py:90: DeprecationWarning: Conversion of an array with ndim > 0 to a scalar is deprecated, and will error in future. Ensure you extract a single element from your array before performing this operation. (Deprecated NumPy 1.25.)\n",
      "  ax2.plot(scaled_profiles[int(min_scaling_idx)][1],\n",
      "C:\\Users\\amyrm\\AppData\\Local\\Temp\\ipykernel_12040\\3892097099.py:91: DeprecationWarning: Conversion of an array with ndim > 0 to a scalar is deprecated, and will error in future. Ensure you extract a single element from your array before performing this operation. (Deprecated NumPy 1.25.)\n",
      "  scaled_profiles[int(min_scaling_idx)][0], color = 'k')\n",
      "C:\\Users\\amyrm\\AppData\\Local\\Temp\\ipykernel_12040\\3892097099.py:101: DeprecationWarning: Conversion of an array with ndim > 0 to a scalar is deprecated, and will error in future. Ensure you extract a single element from your array before performing this operation. (Deprecated NumPy 1.25.)\n",
      "  ax3.plot(density_k2020 ,scaled_profiles[int(min_scaling_idx)][0],\n"
     ]
    },
    {
     "name": "stdout",
     "output_type": "stream",
     "text": [
      "PS122-3_29-9\n",
      "i= 11\n",
      "S49M0806\n"
     ]
    },
    {
     "name": "stderr",
     "output_type": "stream",
     "text": [
      "C:\\Users\\amyrm\\anaconda3\\Lib\\site-packages\\numpy\\lib\\function_base.py:520: RuntimeWarning: Mean of empty slice.\n",
      "  avg = a.mean(axis, **keepdims_kw)\n",
      "C:\\Users\\amyrm\\anaconda3\\Lib\\site-packages\\numpy\\core\\_methods.py:121: RuntimeWarning: invalid value encountered in divide\n",
      "  ret = um.true_divide(\n",
      "C:\\Users\\amyrm\\anaconda3\\Lib\\site-packages\\numpy\\lib\\function_base.py:2889: RuntimeWarning: Degrees of freedom <= 0 for slice\n",
      "  c = cov(x, y, rowvar, dtype=dtype)\n",
      "C:\\Users\\amyrm\\anaconda3\\Lib\\site-packages\\numpy\\lib\\function_base.py:2748: RuntimeWarning: divide by zero encountered in divide\n",
      "  c *= np.true_divide(1, fact)\n",
      "C:\\Users\\amyrm\\anaconda3\\Lib\\site-packages\\numpy\\lib\\function_base.py:2748: RuntimeWarning: invalid value encountered in multiply\n",
      "  c *= np.true_divide(1, fact)\n",
      "C:\\Users\\amyrm\\Documents\\GitHub\\SMP-Sea-Ice\\smpfunc.py:133: RuntimeWarning: invalid value encountered in scalar divide\n",
      "  mae = np.sum(np.abs(result['mean_samp']-result['RHO']))/np.ma.count(result['RHO'])\n",
      "C:\\Users\\amyrm\\AppData\\Local\\Temp\\ipykernel_12040\\3892097099.py:42: DeprecationWarning: Conversion of an array with ndim > 0 to a scalar is deprecated, and will error in future. Ensure you extract a single element from your array before performing this operation. (Deprecated NumPy 1.25.)\n",
      "  min_scaling_coeff = random_tests[int(min_scaling_idx)]\n",
      "C:\\Users\\amyrm\\AppData\\Local\\Temp\\ipykernel_12040\\3892097099.py:47: DeprecationWarning: Conversion of an array with ndim > 0 to a scalar is deprecated, and will error in future. Ensure you extract a single element from your array before performing this operation. (Deprecated NumPy 1.25.)\n",
      "  result = compare_profiles[int(min_scaling_idx)].assign(l=smpfunc.extract_samples(dist, scaled_l, density_df.relative_height.values, CUTTER_SIZE).mean_samp,\n",
      "C:\\Users\\amyrm\\AppData\\Local\\Temp\\ipykernel_12040\\3892097099.py:90: DeprecationWarning: Conversion of an array with ndim > 0 to a scalar is deprecated, and will error in future. Ensure you extract a single element from your array before performing this operation. (Deprecated NumPy 1.25.)\n",
      "  ax2.plot(scaled_profiles[int(min_scaling_idx)][1],\n",
      "C:\\Users\\amyrm\\AppData\\Local\\Temp\\ipykernel_12040\\3892097099.py:91: DeprecationWarning: Conversion of an array with ndim > 0 to a scalar is deprecated, and will error in future. Ensure you extract a single element from your array before performing this operation. (Deprecated NumPy 1.25.)\n",
      "  scaled_profiles[int(min_scaling_idx)][0], color = 'k')\n",
      "C:\\Users\\amyrm\\AppData\\Local\\Temp\\ipykernel_12040\\3892097099.py:101: DeprecationWarning: Conversion of an array with ndim > 0 to a scalar is deprecated, and will error in future. Ensure you extract a single element from your array before performing this operation. (Deprecated NumPy 1.25.)\n",
      "  ax3.plot(density_k2020 ,scaled_profiles[int(min_scaling_idx)][0],\n"
     ]
    },
    {
     "name": "stdout",
     "output_type": "stream",
     "text": [
      "PS122-2_19-92\n",
      "i= 12\n",
      "S49M0829\n"
     ]
    },
    {
     "name": "stderr",
     "output_type": "stream",
     "text": [
      "C:\\Users\\amyrm\\anaconda3\\Lib\\site-packages\\numpy\\lib\\function_base.py:520: RuntimeWarning: Mean of empty slice.\n",
      "  avg = a.mean(axis, **keepdims_kw)\n",
      "C:\\Users\\amyrm\\anaconda3\\Lib\\site-packages\\numpy\\core\\_methods.py:121: RuntimeWarning: invalid value encountered in divide\n",
      "  ret = um.true_divide(\n",
      "C:\\Users\\amyrm\\anaconda3\\Lib\\site-packages\\numpy\\lib\\function_base.py:2889: RuntimeWarning: Degrees of freedom <= 0 for slice\n",
      "  c = cov(x, y, rowvar, dtype=dtype)\n",
      "C:\\Users\\amyrm\\anaconda3\\Lib\\site-packages\\numpy\\lib\\function_base.py:2748: RuntimeWarning: divide by zero encountered in divide\n",
      "  c *= np.true_divide(1, fact)\n",
      "C:\\Users\\amyrm\\anaconda3\\Lib\\site-packages\\numpy\\lib\\function_base.py:2748: RuntimeWarning: invalid value encountered in multiply\n",
      "  c *= np.true_divide(1, fact)\n",
      "C:\\Users\\amyrm\\Documents\\GitHub\\SMP-Sea-Ice\\smpfunc.py:133: RuntimeWarning: invalid value encountered in scalar divide\n",
      "  mae = np.sum(np.abs(result['mean_samp']-result['RHO']))/np.ma.count(result['RHO'])\n",
      "C:\\Users\\amyrm\\AppData\\Local\\Temp\\ipykernel_12040\\3892097099.py:42: DeprecationWarning: Conversion of an array with ndim > 0 to a scalar is deprecated, and will error in future. Ensure you extract a single element from your array before performing this operation. (Deprecated NumPy 1.25.)\n",
      "  min_scaling_coeff = random_tests[int(min_scaling_idx)]\n",
      "C:\\Users\\amyrm\\AppData\\Local\\Temp\\ipykernel_12040\\3892097099.py:47: DeprecationWarning: Conversion of an array with ndim > 0 to a scalar is deprecated, and will error in future. Ensure you extract a single element from your array before performing this operation. (Deprecated NumPy 1.25.)\n",
      "  result = compare_profiles[int(min_scaling_idx)].assign(l=smpfunc.extract_samples(dist, scaled_l, density_df.relative_height.values, CUTTER_SIZE).mean_samp,\n",
      "C:\\Users\\amyrm\\AppData\\Local\\Temp\\ipykernel_12040\\3892097099.py:90: DeprecationWarning: Conversion of an array with ndim > 0 to a scalar is deprecated, and will error in future. Ensure you extract a single element from your array before performing this operation. (Deprecated NumPy 1.25.)\n",
      "  ax2.plot(scaled_profiles[int(min_scaling_idx)][1],\n",
      "C:\\Users\\amyrm\\AppData\\Local\\Temp\\ipykernel_12040\\3892097099.py:91: DeprecationWarning: Conversion of an array with ndim > 0 to a scalar is deprecated, and will error in future. Ensure you extract a single element from your array before performing this operation. (Deprecated NumPy 1.25.)\n",
      "  scaled_profiles[int(min_scaling_idx)][0], color = 'k')\n",
      "C:\\Users\\amyrm\\AppData\\Local\\Temp\\ipykernel_12040\\3892097099.py:101: DeprecationWarning: Conversion of an array with ndim > 0 to a scalar is deprecated, and will error in future. Ensure you extract a single element from your array before performing this operation. (Deprecated NumPy 1.25.)\n",
      "  ax3.plot(density_k2020 ,scaled_profiles[int(min_scaling_idx)][0],\n"
     ]
    },
    {
     "name": "stdout",
     "output_type": "stream",
     "text": [
      "PS122-2_19-144\n",
      "i= 13\n",
      "S49M1011\n"
     ]
    },
    {
     "name": "stderr",
     "output_type": "stream",
     "text": [
      "C:\\Users\\amyrm\\anaconda3\\Lib\\site-packages\\numpy\\lib\\function_base.py:520: RuntimeWarning: Mean of empty slice.\n",
      "  avg = a.mean(axis, **keepdims_kw)\n",
      "C:\\Users\\amyrm\\anaconda3\\Lib\\site-packages\\numpy\\core\\_methods.py:121: RuntimeWarning: invalid value encountered in divide\n",
      "  ret = um.true_divide(\n",
      "C:\\Users\\amyrm\\anaconda3\\Lib\\site-packages\\numpy\\lib\\function_base.py:2889: RuntimeWarning: Degrees of freedom <= 0 for slice\n",
      "  c = cov(x, y, rowvar, dtype=dtype)\n",
      "C:\\Users\\amyrm\\anaconda3\\Lib\\site-packages\\numpy\\lib\\function_base.py:2748: RuntimeWarning: divide by zero encountered in divide\n",
      "  c *= np.true_divide(1, fact)\n",
      "C:\\Users\\amyrm\\anaconda3\\Lib\\site-packages\\numpy\\lib\\function_base.py:2748: RuntimeWarning: invalid value encountered in multiply\n",
      "  c *= np.true_divide(1, fact)\n",
      "C:\\Users\\amyrm\\Documents\\GitHub\\SMP-Sea-Ice\\smpfunc.py:133: RuntimeWarning: invalid value encountered in scalar divide\n",
      "  mae = np.sum(np.abs(result['mean_samp']-result['RHO']))/np.ma.count(result['RHO'])\n",
      "C:\\Users\\amyrm\\AppData\\Local\\Temp\\ipykernel_12040\\3892097099.py:42: DeprecationWarning: Conversion of an array with ndim > 0 to a scalar is deprecated, and will error in future. Ensure you extract a single element from your array before performing this operation. (Deprecated NumPy 1.25.)\n",
      "  min_scaling_coeff = random_tests[int(min_scaling_idx)]\n",
      "C:\\Users\\amyrm\\AppData\\Local\\Temp\\ipykernel_12040\\3892097099.py:47: DeprecationWarning: Conversion of an array with ndim > 0 to a scalar is deprecated, and will error in future. Ensure you extract a single element from your array before performing this operation. (Deprecated NumPy 1.25.)\n",
      "  result = compare_profiles[int(min_scaling_idx)].assign(l=smpfunc.extract_samples(dist, scaled_l, density_df.relative_height.values, CUTTER_SIZE).mean_samp,\n",
      "C:\\Users\\amyrm\\AppData\\Local\\Temp\\ipykernel_12040\\3892097099.py:90: DeprecationWarning: Conversion of an array with ndim > 0 to a scalar is deprecated, and will error in future. Ensure you extract a single element from your array before performing this operation. (Deprecated NumPy 1.25.)\n",
      "  ax2.plot(scaled_profiles[int(min_scaling_idx)][1],\n",
      "C:\\Users\\amyrm\\AppData\\Local\\Temp\\ipykernel_12040\\3892097099.py:91: DeprecationWarning: Conversion of an array with ndim > 0 to a scalar is deprecated, and will error in future. Ensure you extract a single element from your array before performing this operation. (Deprecated NumPy 1.25.)\n",
      "  scaled_profiles[int(min_scaling_idx)][0], color = 'k')\n",
      "C:\\Users\\amyrm\\AppData\\Local\\Temp\\ipykernel_12040\\3892097099.py:101: DeprecationWarning: Conversion of an array with ndim > 0 to a scalar is deprecated, and will error in future. Ensure you extract a single element from your array before performing this operation. (Deprecated NumPy 1.25.)\n",
      "  ax3.plot(density_k2020 ,scaled_profiles[int(min_scaling_idx)][0],\n"
     ]
    },
    {
     "name": "stdout",
     "output_type": "stream",
     "text": [
      "PS122-2_20-83\n",
      "i= 14\n",
      "S49M1015\n"
     ]
    },
    {
     "name": "stderr",
     "output_type": "stream",
     "text": [
      "C:\\Users\\amyrm\\anaconda3\\Lib\\site-packages\\numpy\\lib\\function_base.py:520: RuntimeWarning: Mean of empty slice.\n",
      "  avg = a.mean(axis, **keepdims_kw)\n",
      "C:\\Users\\amyrm\\anaconda3\\Lib\\site-packages\\numpy\\core\\_methods.py:121: RuntimeWarning: invalid value encountered in divide\n",
      "  ret = um.true_divide(\n",
      "C:\\Users\\amyrm\\anaconda3\\Lib\\site-packages\\numpy\\lib\\function_base.py:2889: RuntimeWarning: Degrees of freedom <= 0 for slice\n",
      "  c = cov(x, y, rowvar, dtype=dtype)\n",
      "C:\\Users\\amyrm\\anaconda3\\Lib\\site-packages\\numpy\\lib\\function_base.py:2748: RuntimeWarning: divide by zero encountered in divide\n",
      "  c *= np.true_divide(1, fact)\n",
      "C:\\Users\\amyrm\\anaconda3\\Lib\\site-packages\\numpy\\lib\\function_base.py:2748: RuntimeWarning: invalid value encountered in multiply\n",
      "  c *= np.true_divide(1, fact)\n",
      "C:\\Users\\amyrm\\Documents\\GitHub\\SMP-Sea-Ice\\smpfunc.py:133: RuntimeWarning: invalid value encountered in scalar divide\n",
      "  mae = np.sum(np.abs(result['mean_samp']-result['RHO']))/np.ma.count(result['RHO'])\n",
      "C:\\Users\\amyrm\\AppData\\Local\\Temp\\ipykernel_12040\\3892097099.py:42: DeprecationWarning: Conversion of an array with ndim > 0 to a scalar is deprecated, and will error in future. Ensure you extract a single element from your array before performing this operation. (Deprecated NumPy 1.25.)\n",
      "  min_scaling_coeff = random_tests[int(min_scaling_idx)]\n",
      "C:\\Users\\amyrm\\AppData\\Local\\Temp\\ipykernel_12040\\3892097099.py:47: DeprecationWarning: Conversion of an array with ndim > 0 to a scalar is deprecated, and will error in future. Ensure you extract a single element from your array before performing this operation. (Deprecated NumPy 1.25.)\n",
      "  result = compare_profiles[int(min_scaling_idx)].assign(l=smpfunc.extract_samples(dist, scaled_l, density_df.relative_height.values, CUTTER_SIZE).mean_samp,\n",
      "C:\\Users\\amyrm\\AppData\\Local\\Temp\\ipykernel_12040\\3892097099.py:60: RuntimeWarning: invalid value encountered in log\n",
      "  density_k2020 = coeffs[0] + coeffs[1] * np.log(scaled_force_median) \\\n",
      "C:\\Users\\amyrm\\AppData\\Local\\Temp\\ipykernel_12040\\3892097099.py:61: RuntimeWarning: invalid value encountered in log\n",
      "  + coeffs[2] * np.log(scaled_force_median) * scaled_l \\\n",
      "C:\\Users\\amyrm\\AppData\\Local\\Temp\\ipykernel_12040\\3892097099.py:90: DeprecationWarning: Conversion of an array with ndim > 0 to a scalar is deprecated, and will error in future. Ensure you extract a single element from your array before performing this operation. (Deprecated NumPy 1.25.)\n",
      "  ax2.plot(scaled_profiles[int(min_scaling_idx)][1],\n",
      "C:\\Users\\amyrm\\AppData\\Local\\Temp\\ipykernel_12040\\3892097099.py:91: DeprecationWarning: Conversion of an array with ndim > 0 to a scalar is deprecated, and will error in future. Ensure you extract a single element from your array before performing this operation. (Deprecated NumPy 1.25.)\n",
      "  scaled_profiles[int(min_scaling_idx)][0], color = 'k')\n",
      "C:\\Users\\amyrm\\AppData\\Local\\Temp\\ipykernel_12040\\3892097099.py:101: DeprecationWarning: Conversion of an array with ndim > 0 to a scalar is deprecated, and will error in future. Ensure you extract a single element from your array before performing this operation. (Deprecated NumPy 1.25.)\n",
      "  ax3.plot(density_k2020 ,scaled_profiles[int(min_scaling_idx)][0],\n"
     ]
    },
    {
     "name": "stdout",
     "output_type": "stream",
     "text": [
      "PS122-2_20-80\n",
      "i= 15\n",
      "S49M1106\n"
     ]
    },
    {
     "name": "stderr",
     "output_type": "stream",
     "text": [
      "C:\\Users\\amyrm\\anaconda3\\Lib\\site-packages\\numpy\\core\\fromnumeric.py:3504: RuntimeWarning: Mean of empty slice.\n",
      "  return _methods._mean(a, axis=axis, dtype=dtype,\n",
      "C:\\Users\\amyrm\\anaconda3\\Lib\\site-packages\\numpy\\core\\_methods.py:129: RuntimeWarning: invalid value encountered in scalar divide\n",
      "  ret = ret.dtype.type(ret / rcount)\n",
      "C:\\Users\\amyrm\\anaconda3\\Lib\\site-packages\\numpy\\core\\_methods.py:206: RuntimeWarning: Degrees of freedom <= 0 for slice\n",
      "  ret = _var(a, axis=axis, dtype=dtype, out=out, ddof=ddof,\n",
      "C:\\Users\\amyrm\\anaconda3\\Lib\\site-packages\\numpy\\core\\_methods.py:163: RuntimeWarning: invalid value encountered in divide\n",
      "  arrmean = um.true_divide(arrmean, div, out=arrmean,\n",
      "C:\\Users\\amyrm\\anaconda3\\Lib\\site-packages\\numpy\\core\\_methods.py:198: RuntimeWarning: invalid value encountered in scalar divide\n",
      "  ret = ret.dtype.type(ret / rcount)\n",
      "C:\\Users\\amyrm\\anaconda3\\Lib\\site-packages\\numpy\\lib\\function_base.py:520: RuntimeWarning: Mean of empty slice.\n",
      "  avg = a.mean(axis, **keepdims_kw)\n",
      "C:\\Users\\amyrm\\anaconda3\\Lib\\site-packages\\numpy\\core\\_methods.py:121: RuntimeWarning: invalid value encountered in divide\n",
      "  ret = um.true_divide(\n",
      "C:\\Users\\amyrm\\anaconda3\\Lib\\site-packages\\numpy\\lib\\function_base.py:2889: RuntimeWarning: Degrees of freedom <= 0 for slice\n",
      "  c = cov(x, y, rowvar, dtype=dtype)\n",
      "C:\\Users\\amyrm\\anaconda3\\Lib\\site-packages\\numpy\\lib\\function_base.py:2748: RuntimeWarning: divide by zero encountered in divide\n",
      "  c *= np.true_divide(1, fact)\n",
      "C:\\Users\\amyrm\\anaconda3\\Lib\\site-packages\\numpy\\lib\\function_base.py:2748: RuntimeWarning: invalid value encountered in multiply\n",
      "  c *= np.true_divide(1, fact)\n",
      "C:\\Users\\amyrm\\Documents\\GitHub\\SMP-Sea-Ice\\smpfunc.py:133: RuntimeWarning: invalid value encountered in scalar divide\n",
      "  mae = np.sum(np.abs(result['mean_samp']-result['RHO']))/np.ma.count(result['RHO'])\n",
      "C:\\Users\\amyrm\\AppData\\Local\\Temp\\ipykernel_12040\\3892097099.py:42: DeprecationWarning: Conversion of an array with ndim > 0 to a scalar is deprecated, and will error in future. Ensure you extract a single element from your array before performing this operation. (Deprecated NumPy 1.25.)\n",
      "  min_scaling_coeff = random_tests[int(min_scaling_idx)]\n",
      "C:\\Users\\amyrm\\AppData\\Local\\Temp\\ipykernel_12040\\3892097099.py:47: DeprecationWarning: Conversion of an array with ndim > 0 to a scalar is deprecated, and will error in future. Ensure you extract a single element from your array before performing this operation. (Deprecated NumPy 1.25.)\n",
      "  result = compare_profiles[int(min_scaling_idx)].assign(l=smpfunc.extract_samples(dist, scaled_l, density_df.relative_height.values, CUTTER_SIZE).mean_samp,\n",
      "C:\\Users\\amyrm\\anaconda3\\Lib\\site-packages\\numpy\\core\\fromnumeric.py:3504: RuntimeWarning: Mean of empty slice.\n",
      "  return _methods._mean(a, axis=axis, dtype=dtype,\n",
      "C:\\Users\\amyrm\\anaconda3\\Lib\\site-packages\\numpy\\core\\_methods.py:129: RuntimeWarning: invalid value encountered in scalar divide\n",
      "  ret = ret.dtype.type(ret / rcount)\n",
      "C:\\Users\\amyrm\\anaconda3\\Lib\\site-packages\\numpy\\core\\_methods.py:206: RuntimeWarning: Degrees of freedom <= 0 for slice\n",
      "  ret = _var(a, axis=axis, dtype=dtype, out=out, ddof=ddof,\n",
      "C:\\Users\\amyrm\\anaconda3\\Lib\\site-packages\\numpy\\core\\_methods.py:163: RuntimeWarning: invalid value encountered in divide\n",
      "  arrmean = um.true_divide(arrmean, div, out=arrmean,\n",
      "C:\\Users\\amyrm\\anaconda3\\Lib\\site-packages\\numpy\\core\\_methods.py:198: RuntimeWarning: invalid value encountered in scalar divide\n",
      "  ret = ret.dtype.type(ret / rcount)\n",
      "C:\\Users\\amyrm\\AppData\\Local\\Temp\\ipykernel_12040\\3892097099.py:60: RuntimeWarning: invalid value encountered in log\n",
      "  density_k2020 = coeffs[0] + coeffs[1] * np.log(scaled_force_median) \\\n",
      "C:\\Users\\amyrm\\AppData\\Local\\Temp\\ipykernel_12040\\3892097099.py:61: RuntimeWarning: invalid value encountered in log\n",
      "  + coeffs[2] * np.log(scaled_force_median) * scaled_l \\\n",
      "C:\\Users\\amyrm\\AppData\\Local\\Temp\\ipykernel_12040\\3892097099.py:90: DeprecationWarning: Conversion of an array with ndim > 0 to a scalar is deprecated, and will error in future. Ensure you extract a single element from your array before performing this operation. (Deprecated NumPy 1.25.)\n",
      "  ax2.plot(scaled_profiles[int(min_scaling_idx)][1],\n",
      "C:\\Users\\amyrm\\AppData\\Local\\Temp\\ipykernel_12040\\3892097099.py:91: DeprecationWarning: Conversion of an array with ndim > 0 to a scalar is deprecated, and will error in future. Ensure you extract a single element from your array before performing this operation. (Deprecated NumPy 1.25.)\n",
      "  scaled_profiles[int(min_scaling_idx)][0], color = 'k')\n",
      "C:\\Users\\amyrm\\AppData\\Local\\Temp\\ipykernel_12040\\3892097099.py:101: DeprecationWarning: Conversion of an array with ndim > 0 to a scalar is deprecated, and will error in future. Ensure you extract a single element from your array before performing this operation. (Deprecated NumPy 1.25.)\n",
      "  ax3.plot(density_k2020 ,scaled_profiles[int(min_scaling_idx)][0],\n"
     ]
    },
    {
     "name": "stdout",
     "output_type": "stream",
     "text": [
      "PS122-2_21-53\n",
      "i= 16\n",
      "S49M1109\n"
     ]
    },
    {
     "name": "stderr",
     "output_type": "stream",
     "text": [
      "C:\\Users\\amyrm\\anaconda3\\Lib\\site-packages\\numpy\\lib\\function_base.py:520: RuntimeWarning: Mean of empty slice.\n",
      "  avg = a.mean(axis, **keepdims_kw)\n",
      "C:\\Users\\amyrm\\anaconda3\\Lib\\site-packages\\numpy\\core\\_methods.py:121: RuntimeWarning: invalid value encountered in divide\n",
      "  ret = um.true_divide(\n",
      "C:\\Users\\amyrm\\anaconda3\\Lib\\site-packages\\numpy\\lib\\function_base.py:2889: RuntimeWarning: Degrees of freedom <= 0 for slice\n",
      "  c = cov(x, y, rowvar, dtype=dtype)\n",
      "C:\\Users\\amyrm\\anaconda3\\Lib\\site-packages\\numpy\\lib\\function_base.py:2748: RuntimeWarning: divide by zero encountered in divide\n",
      "  c *= np.true_divide(1, fact)\n",
      "C:\\Users\\amyrm\\anaconda3\\Lib\\site-packages\\numpy\\lib\\function_base.py:2748: RuntimeWarning: invalid value encountered in multiply\n",
      "  c *= np.true_divide(1, fact)\n",
      "C:\\Users\\amyrm\\Documents\\GitHub\\SMP-Sea-Ice\\smpfunc.py:133: RuntimeWarning: invalid value encountered in scalar divide\n",
      "  mae = np.sum(np.abs(result['mean_samp']-result['RHO']))/np.ma.count(result['RHO'])\n",
      "C:\\Users\\amyrm\\AppData\\Local\\Temp\\ipykernel_12040\\3892097099.py:42: DeprecationWarning: Conversion of an array with ndim > 0 to a scalar is deprecated, and will error in future. Ensure you extract a single element from your array before performing this operation. (Deprecated NumPy 1.25.)\n",
      "  min_scaling_coeff = random_tests[int(min_scaling_idx)]\n",
      "C:\\Users\\amyrm\\AppData\\Local\\Temp\\ipykernel_12040\\3892097099.py:47: DeprecationWarning: Conversion of an array with ndim > 0 to a scalar is deprecated, and will error in future. Ensure you extract a single element from your array before performing this operation. (Deprecated NumPy 1.25.)\n",
      "  result = compare_profiles[int(min_scaling_idx)].assign(l=smpfunc.extract_samples(dist, scaled_l, density_df.relative_height.values, CUTTER_SIZE).mean_samp,\n",
      "C:\\Users\\amyrm\\AppData\\Local\\Temp\\ipykernel_12040\\3892097099.py:60: RuntimeWarning: invalid value encountered in log\n",
      "  density_k2020 = coeffs[0] + coeffs[1] * np.log(scaled_force_median) \\\n",
      "C:\\Users\\amyrm\\AppData\\Local\\Temp\\ipykernel_12040\\3892097099.py:61: RuntimeWarning: invalid value encountered in log\n",
      "  + coeffs[2] * np.log(scaled_force_median) * scaled_l \\\n",
      "C:\\Users\\amyrm\\AppData\\Local\\Temp\\ipykernel_12040\\3892097099.py:90: DeprecationWarning: Conversion of an array with ndim > 0 to a scalar is deprecated, and will error in future. Ensure you extract a single element from your array before performing this operation. (Deprecated NumPy 1.25.)\n",
      "  ax2.plot(scaled_profiles[int(min_scaling_idx)][1],\n",
      "C:\\Users\\amyrm\\AppData\\Local\\Temp\\ipykernel_12040\\3892097099.py:91: DeprecationWarning: Conversion of an array with ndim > 0 to a scalar is deprecated, and will error in future. Ensure you extract a single element from your array before performing this operation. (Deprecated NumPy 1.25.)\n",
      "  scaled_profiles[int(min_scaling_idx)][0], color = 'k')\n",
      "C:\\Users\\amyrm\\AppData\\Local\\Temp\\ipykernel_12040\\3892097099.py:101: DeprecationWarning: Conversion of an array with ndim > 0 to a scalar is deprecated, and will error in future. Ensure you extract a single element from your array before performing this operation. (Deprecated NumPy 1.25.)\n",
      "  ax3.plot(density_k2020 ,scaled_profiles[int(min_scaling_idx)][0],\n"
     ]
    },
    {
     "name": "stdout",
     "output_type": "stream",
     "text": [
      "PS122-2_21-52\n",
      "i= 17\n",
      "S49M1245\n"
     ]
    },
    {
     "name": "stderr",
     "output_type": "stream",
     "text": [
      "C:\\Users\\amyrm\\anaconda3\\Lib\\site-packages\\numpy\\lib\\function_base.py:520: RuntimeWarning: Mean of empty slice.\n",
      "  avg = a.mean(axis, **keepdims_kw)\n",
      "C:\\Users\\amyrm\\anaconda3\\Lib\\site-packages\\numpy\\core\\_methods.py:121: RuntimeWarning: invalid value encountered in divide\n",
      "  ret = um.true_divide(\n",
      "C:\\Users\\amyrm\\anaconda3\\Lib\\site-packages\\numpy\\lib\\function_base.py:2889: RuntimeWarning: Degrees of freedom <= 0 for slice\n",
      "  c = cov(x, y, rowvar, dtype=dtype)\n",
      "C:\\Users\\amyrm\\anaconda3\\Lib\\site-packages\\numpy\\lib\\function_base.py:2748: RuntimeWarning: divide by zero encountered in divide\n",
      "  c *= np.true_divide(1, fact)\n",
      "C:\\Users\\amyrm\\anaconda3\\Lib\\site-packages\\numpy\\lib\\function_base.py:2748: RuntimeWarning: invalid value encountered in multiply\n",
      "  c *= np.true_divide(1, fact)\n",
      "C:\\Users\\amyrm\\Documents\\GitHub\\SMP-Sea-Ice\\smpfunc.py:133: RuntimeWarning: invalid value encountered in scalar divide\n",
      "  mae = np.sum(np.abs(result['mean_samp']-result['RHO']))/np.ma.count(result['RHO'])\n",
      "C:\\Users\\amyrm\\AppData\\Local\\Temp\\ipykernel_12040\\3892097099.py:42: DeprecationWarning: Conversion of an array with ndim > 0 to a scalar is deprecated, and will error in future. Ensure you extract a single element from your array before performing this operation. (Deprecated NumPy 1.25.)\n",
      "  min_scaling_coeff = random_tests[int(min_scaling_idx)]\n",
      "C:\\Users\\amyrm\\AppData\\Local\\Temp\\ipykernel_12040\\3892097099.py:47: DeprecationWarning: Conversion of an array with ndim > 0 to a scalar is deprecated, and will error in future. Ensure you extract a single element from your array before performing this operation. (Deprecated NumPy 1.25.)\n",
      "  result = compare_profiles[int(min_scaling_idx)].assign(l=smpfunc.extract_samples(dist, scaled_l, density_df.relative_height.values, CUTTER_SIZE).mean_samp,\n",
      "C:\\Users\\amyrm\\AppData\\Local\\Temp\\ipykernel_12040\\3892097099.py:60: RuntimeWarning: invalid value encountered in log\n",
      "  density_k2020 = coeffs[0] + coeffs[1] * np.log(scaled_force_median) \\\n",
      "C:\\Users\\amyrm\\AppData\\Local\\Temp\\ipykernel_12040\\3892097099.py:61: RuntimeWarning: invalid value encountered in log\n",
      "  + coeffs[2] * np.log(scaled_force_median) * scaled_l \\\n",
      "C:\\Users\\amyrm\\AppData\\Local\\Temp\\ipykernel_12040\\3892097099.py:90: DeprecationWarning: Conversion of an array with ndim > 0 to a scalar is deprecated, and will error in future. Ensure you extract a single element from your array before performing this operation. (Deprecated NumPy 1.25.)\n",
      "  ax2.plot(scaled_profiles[int(min_scaling_idx)][1],\n",
      "C:\\Users\\amyrm\\AppData\\Local\\Temp\\ipykernel_12040\\3892097099.py:91: DeprecationWarning: Conversion of an array with ndim > 0 to a scalar is deprecated, and will error in future. Ensure you extract a single element from your array before performing this operation. (Deprecated NumPy 1.25.)\n",
      "  scaled_profiles[int(min_scaling_idx)][0], color = 'k')\n",
      "C:\\Users\\amyrm\\AppData\\Local\\Temp\\ipykernel_12040\\3892097099.py:101: DeprecationWarning: Conversion of an array with ndim > 0 to a scalar is deprecated, and will error in future. Ensure you extract a single element from your array before performing this operation. (Deprecated NumPy 1.25.)\n",
      "  ax3.plot(density_k2020 ,scaled_profiles[int(min_scaling_idx)][0],\n"
     ]
    },
    {
     "name": "stdout",
     "output_type": "stream",
     "text": [
      "PS122-2_22-5\n",
      "i= 18\n",
      "S49M1248\n"
     ]
    },
    {
     "name": "stderr",
     "output_type": "stream",
     "text": [
      "C:\\Users\\amyrm\\anaconda3\\Lib\\site-packages\\pandas\\core\\arraylike.py:399: RuntimeWarning: invalid value encountered in log\n",
      "  result = getattr(ufunc, method)(*inputs, **kwargs)\n",
      "C:\\Users\\amyrm\\anaconda3\\Lib\\site-packages\\numpy\\lib\\function_base.py:520: RuntimeWarning: Mean of empty slice.\n",
      "  avg = a.mean(axis, **keepdims_kw)\n",
      "C:\\Users\\amyrm\\anaconda3\\Lib\\site-packages\\numpy\\core\\_methods.py:121: RuntimeWarning: invalid value encountered in divide\n",
      "  ret = um.true_divide(\n",
      "C:\\Users\\amyrm\\anaconda3\\Lib\\site-packages\\numpy\\lib\\function_base.py:2889: RuntimeWarning: Degrees of freedom <= 0 for slice\n",
      "  c = cov(x, y, rowvar, dtype=dtype)\n",
      "C:\\Users\\amyrm\\anaconda3\\Lib\\site-packages\\numpy\\lib\\function_base.py:2748: RuntimeWarning: divide by zero encountered in divide\n",
      "  c *= np.true_divide(1, fact)\n",
      "C:\\Users\\amyrm\\anaconda3\\Lib\\site-packages\\numpy\\lib\\function_base.py:2748: RuntimeWarning: invalid value encountered in multiply\n",
      "  c *= np.true_divide(1, fact)\n",
      "C:\\Users\\amyrm\\Documents\\GitHub\\SMP-Sea-Ice\\smpfunc.py:133: RuntimeWarning: invalid value encountered in scalar divide\n",
      "  mae = np.sum(np.abs(result['mean_samp']-result['RHO']))/np.ma.count(result['RHO'])\n",
      "C:\\Users\\amyrm\\AppData\\Local\\Temp\\ipykernel_12040\\3892097099.py:42: DeprecationWarning: Conversion of an array with ndim > 0 to a scalar is deprecated, and will error in future. Ensure you extract a single element from your array before performing this operation. (Deprecated NumPy 1.25.)\n",
      "  min_scaling_coeff = random_tests[int(min_scaling_idx)]\n",
      "C:\\Users\\amyrm\\AppData\\Local\\Temp\\ipykernel_12040\\3892097099.py:47: DeprecationWarning: Conversion of an array with ndim > 0 to a scalar is deprecated, and will error in future. Ensure you extract a single element from your array before performing this operation. (Deprecated NumPy 1.25.)\n",
      "  result = compare_profiles[int(min_scaling_idx)].assign(l=smpfunc.extract_samples(dist, scaled_l, density_df.relative_height.values, CUTTER_SIZE).mean_samp,\n",
      "C:\\Users\\amyrm\\AppData\\Local\\Temp\\ipykernel_12040\\3892097099.py:60: RuntimeWarning: invalid value encountered in log\n",
      "  density_k2020 = coeffs[0] + coeffs[1] * np.log(scaled_force_median) \\\n",
      "C:\\Users\\amyrm\\AppData\\Local\\Temp\\ipykernel_12040\\3892097099.py:61: RuntimeWarning: invalid value encountered in log\n",
      "  + coeffs[2] * np.log(scaled_force_median) * scaled_l \\\n",
      "C:\\Users\\amyrm\\AppData\\Local\\Temp\\ipykernel_12040\\3892097099.py:90: DeprecationWarning: Conversion of an array with ndim > 0 to a scalar is deprecated, and will error in future. Ensure you extract a single element from your array before performing this operation. (Deprecated NumPy 1.25.)\n",
      "  ax2.plot(scaled_profiles[int(min_scaling_idx)][1],\n",
      "C:\\Users\\amyrm\\AppData\\Local\\Temp\\ipykernel_12040\\3892097099.py:91: DeprecationWarning: Conversion of an array with ndim > 0 to a scalar is deprecated, and will error in future. Ensure you extract a single element from your array before performing this operation. (Deprecated NumPy 1.25.)\n",
      "  scaled_profiles[int(min_scaling_idx)][0], color = 'k')\n",
      "C:\\Users\\amyrm\\AppData\\Local\\Temp\\ipykernel_12040\\3892097099.py:101: DeprecationWarning: Conversion of an array with ndim > 0 to a scalar is deprecated, and will error in future. Ensure you extract a single element from your array before performing this operation. (Deprecated NumPy 1.25.)\n",
      "  ax3.plot(density_k2020 ,scaled_profiles[int(min_scaling_idx)][0],\n"
     ]
    },
    {
     "name": "stdout",
     "output_type": "stream",
     "text": [
      "PS122-2_22-6\n",
      "i= 19\n",
      "S49M1323\n"
     ]
    },
    {
     "name": "stderr",
     "output_type": "stream",
     "text": [
      "C:\\Users\\amyrm\\anaconda3\\Lib\\site-packages\\numpy\\lib\\function_base.py:520: RuntimeWarning: Mean of empty slice.\n",
      "  avg = a.mean(axis, **keepdims_kw)\n",
      "C:\\Users\\amyrm\\anaconda3\\Lib\\site-packages\\numpy\\core\\_methods.py:121: RuntimeWarning: invalid value encountered in divide\n",
      "  ret = um.true_divide(\n",
      "C:\\Users\\amyrm\\anaconda3\\Lib\\site-packages\\numpy\\lib\\function_base.py:2889: RuntimeWarning: Degrees of freedom <= 0 for slice\n",
      "  c = cov(x, y, rowvar, dtype=dtype)\n",
      "C:\\Users\\amyrm\\anaconda3\\Lib\\site-packages\\numpy\\lib\\function_base.py:2748: RuntimeWarning: divide by zero encountered in divide\n",
      "  c *= np.true_divide(1, fact)\n",
      "C:\\Users\\amyrm\\anaconda3\\Lib\\site-packages\\numpy\\lib\\function_base.py:2748: RuntimeWarning: invalid value encountered in multiply\n",
      "  c *= np.true_divide(1, fact)\n",
      "C:\\Users\\amyrm\\Documents\\GitHub\\SMP-Sea-Ice\\smpfunc.py:133: RuntimeWarning: invalid value encountered in scalar divide\n",
      "  mae = np.sum(np.abs(result['mean_samp']-result['RHO']))/np.ma.count(result['RHO'])\n",
      "C:\\Users\\amyrm\\AppData\\Local\\Temp\\ipykernel_12040\\3892097099.py:42: DeprecationWarning: Conversion of an array with ndim > 0 to a scalar is deprecated, and will error in future. Ensure you extract a single element from your array before performing this operation. (Deprecated NumPy 1.25.)\n",
      "  min_scaling_coeff = random_tests[int(min_scaling_idx)]\n",
      "C:\\Users\\amyrm\\AppData\\Local\\Temp\\ipykernel_12040\\3892097099.py:47: DeprecationWarning: Conversion of an array with ndim > 0 to a scalar is deprecated, and will error in future. Ensure you extract a single element from your array before performing this operation. (Deprecated NumPy 1.25.)\n",
      "  result = compare_profiles[int(min_scaling_idx)].assign(l=smpfunc.extract_samples(dist, scaled_l, density_df.relative_height.values, CUTTER_SIZE).mean_samp,\n",
      "C:\\Users\\amyrm\\AppData\\Local\\Temp\\ipykernel_12040\\3892097099.py:90: DeprecationWarning: Conversion of an array with ndim > 0 to a scalar is deprecated, and will error in future. Ensure you extract a single element from your array before performing this operation. (Deprecated NumPy 1.25.)\n",
      "  ax2.plot(scaled_profiles[int(min_scaling_idx)][1],\n",
      "C:\\Users\\amyrm\\AppData\\Local\\Temp\\ipykernel_12040\\3892097099.py:91: DeprecationWarning: Conversion of an array with ndim > 0 to a scalar is deprecated, and will error in future. Ensure you extract a single element from your array before performing this operation. (Deprecated NumPy 1.25.)\n",
      "  scaled_profiles[int(min_scaling_idx)][0], color = 'k')\n",
      "C:\\Users\\amyrm\\AppData\\Local\\Temp\\ipykernel_12040\\3892097099.py:101: DeprecationWarning: Conversion of an array with ndim > 0 to a scalar is deprecated, and will error in future. Ensure you extract a single element from your array before performing this operation. (Deprecated NumPy 1.25.)\n",
      "  ax3.plot(density_k2020 ,scaled_profiles[int(min_scaling_idx)][0],\n"
     ]
    },
    {
     "name": "stdout",
     "output_type": "stream",
     "text": [
      "PS122-2_22-73\n",
      "i= 20\n",
      "S49M1716\n"
     ]
    },
    {
     "name": "stderr",
     "output_type": "stream",
     "text": [
      "C:\\Users\\amyrm\\anaconda3\\Lib\\site-packages\\numpy\\lib\\function_base.py:520: RuntimeWarning: Mean of empty slice.\n",
      "  avg = a.mean(axis, **keepdims_kw)\n",
      "C:\\Users\\amyrm\\anaconda3\\Lib\\site-packages\\numpy\\core\\_methods.py:121: RuntimeWarning: invalid value encountered in divide\n",
      "  ret = um.true_divide(\n",
      "C:\\Users\\amyrm\\anaconda3\\Lib\\site-packages\\numpy\\lib\\function_base.py:2889: RuntimeWarning: Degrees of freedom <= 0 for slice\n",
      "  c = cov(x, y, rowvar, dtype=dtype)\n",
      "C:\\Users\\amyrm\\anaconda3\\Lib\\site-packages\\numpy\\lib\\function_base.py:2748: RuntimeWarning: divide by zero encountered in divide\n",
      "  c *= np.true_divide(1, fact)\n",
      "C:\\Users\\amyrm\\anaconda3\\Lib\\site-packages\\numpy\\lib\\function_base.py:2748: RuntimeWarning: invalid value encountered in multiply\n",
      "  c *= np.true_divide(1, fact)\n",
      "C:\\Users\\amyrm\\Documents\\GitHub\\SMP-Sea-Ice\\smpfunc.py:133: RuntimeWarning: invalid value encountered in scalar divide\n",
      "  mae = np.sum(np.abs(result['mean_samp']-result['RHO']))/np.ma.count(result['RHO'])\n",
      "C:\\Users\\amyrm\\AppData\\Local\\Temp\\ipykernel_12040\\3892097099.py:42: DeprecationWarning: Conversion of an array with ndim > 0 to a scalar is deprecated, and will error in future. Ensure you extract a single element from your array before performing this operation. (Deprecated NumPy 1.25.)\n",
      "  min_scaling_coeff = random_tests[int(min_scaling_idx)]\n",
      "C:\\Users\\amyrm\\AppData\\Local\\Temp\\ipykernel_12040\\3892097099.py:47: DeprecationWarning: Conversion of an array with ndim > 0 to a scalar is deprecated, and will error in future. Ensure you extract a single element from your array before performing this operation. (Deprecated NumPy 1.25.)\n",
      "  result = compare_profiles[int(min_scaling_idx)].assign(l=smpfunc.extract_samples(dist, scaled_l, density_df.relative_height.values, CUTTER_SIZE).mean_samp,\n",
      "C:\\Users\\amyrm\\AppData\\Local\\Temp\\ipykernel_12040\\3892097099.py:90: DeprecationWarning: Conversion of an array with ndim > 0 to a scalar is deprecated, and will error in future. Ensure you extract a single element from your array before performing this operation. (Deprecated NumPy 1.25.)\n",
      "  ax2.plot(scaled_profiles[int(min_scaling_idx)][1],\n",
      "C:\\Users\\amyrm\\AppData\\Local\\Temp\\ipykernel_12040\\3892097099.py:91: DeprecationWarning: Conversion of an array with ndim > 0 to a scalar is deprecated, and will error in future. Ensure you extract a single element from your array before performing this operation. (Deprecated NumPy 1.25.)\n",
      "  scaled_profiles[int(min_scaling_idx)][0], color = 'k')\n",
      "C:\\Users\\amyrm\\AppData\\Local\\Temp\\ipykernel_12040\\3892097099.py:101: DeprecationWarning: Conversion of an array with ndim > 0 to a scalar is deprecated, and will error in future. Ensure you extract a single element from your array before performing this operation. (Deprecated NumPy 1.25.)\n",
      "  ax3.plot(density_k2020 ,scaled_profiles[int(min_scaling_idx)][0],\n"
     ]
    },
    {
     "name": "stdout",
     "output_type": "stream",
     "text": [
      "PS122-3_29-29\n",
      "i= 21\n",
      "S49M1729\n"
     ]
    },
    {
     "name": "stderr",
     "output_type": "stream",
     "text": [
      "C:\\Users\\amyrm\\anaconda3\\Lib\\site-packages\\numpy\\lib\\function_base.py:520: RuntimeWarning: Mean of empty slice.\n",
      "  avg = a.mean(axis, **keepdims_kw)\n",
      "C:\\Users\\amyrm\\anaconda3\\Lib\\site-packages\\numpy\\core\\_methods.py:121: RuntimeWarning: invalid value encountered in divide\n",
      "  ret = um.true_divide(\n",
      "C:\\Users\\amyrm\\anaconda3\\Lib\\site-packages\\numpy\\lib\\function_base.py:2889: RuntimeWarning: Degrees of freedom <= 0 for slice\n",
      "  c = cov(x, y, rowvar, dtype=dtype)\n",
      "C:\\Users\\amyrm\\anaconda3\\Lib\\site-packages\\numpy\\lib\\function_base.py:2748: RuntimeWarning: divide by zero encountered in divide\n",
      "  c *= np.true_divide(1, fact)\n",
      "C:\\Users\\amyrm\\anaconda3\\Lib\\site-packages\\numpy\\lib\\function_base.py:2748: RuntimeWarning: invalid value encountered in multiply\n",
      "  c *= np.true_divide(1, fact)\n",
      "C:\\Users\\amyrm\\Documents\\GitHub\\SMP-Sea-Ice\\smpfunc.py:133: RuntimeWarning: invalid value encountered in scalar divide\n",
      "  mae = np.sum(np.abs(result['mean_samp']-result['RHO']))/np.ma.count(result['RHO'])\n",
      "C:\\Users\\amyrm\\AppData\\Local\\Temp\\ipykernel_12040\\3892097099.py:42: DeprecationWarning: Conversion of an array with ndim > 0 to a scalar is deprecated, and will error in future. Ensure you extract a single element from your array before performing this operation. (Deprecated NumPy 1.25.)\n",
      "  min_scaling_coeff = random_tests[int(min_scaling_idx)]\n",
      "C:\\Users\\amyrm\\AppData\\Local\\Temp\\ipykernel_12040\\3892097099.py:47: DeprecationWarning: Conversion of an array with ndim > 0 to a scalar is deprecated, and will error in future. Ensure you extract a single element from your array before performing this operation. (Deprecated NumPy 1.25.)\n",
      "  result = compare_profiles[int(min_scaling_idx)].assign(l=smpfunc.extract_samples(dist, scaled_l, density_df.relative_height.values, CUTTER_SIZE).mean_samp,\n",
      "C:\\Users\\amyrm\\AppData\\Local\\Temp\\ipykernel_12040\\3892097099.py:90: DeprecationWarning: Conversion of an array with ndim > 0 to a scalar is deprecated, and will error in future. Ensure you extract a single element from your array before performing this operation. (Deprecated NumPy 1.25.)\n",
      "  ax2.plot(scaled_profiles[int(min_scaling_idx)][1],\n",
      "C:\\Users\\amyrm\\AppData\\Local\\Temp\\ipykernel_12040\\3892097099.py:91: DeprecationWarning: Conversion of an array with ndim > 0 to a scalar is deprecated, and will error in future. Ensure you extract a single element from your array before performing this operation. (Deprecated NumPy 1.25.)\n",
      "  scaled_profiles[int(min_scaling_idx)][0], color = 'k')\n",
      "C:\\Users\\amyrm\\AppData\\Local\\Temp\\ipykernel_12040\\3892097099.py:101: DeprecationWarning: Conversion of an array with ndim > 0 to a scalar is deprecated, and will error in future. Ensure you extract a single element from your array before performing this operation. (Deprecated NumPy 1.25.)\n",
      "  ax3.plot(density_k2020 ,scaled_profiles[int(min_scaling_idx)][0],\n"
     ]
    },
    {
     "name": "stdout",
     "output_type": "stream",
     "text": [
      "PS122-3_29-43\n",
      "i= 22\n",
      "S49M1934\n"
     ]
    },
    {
     "name": "stderr",
     "output_type": "stream",
     "text": [
      "C:\\Users\\amyrm\\anaconda3\\Lib\\site-packages\\numpy\\lib\\function_base.py:520: RuntimeWarning: Mean of empty slice.\n",
      "  avg = a.mean(axis, **keepdims_kw)\n",
      "C:\\Users\\amyrm\\anaconda3\\Lib\\site-packages\\numpy\\core\\_methods.py:121: RuntimeWarning: invalid value encountered in divide\n",
      "  ret = um.true_divide(\n",
      "C:\\Users\\amyrm\\anaconda3\\Lib\\site-packages\\numpy\\lib\\function_base.py:2889: RuntimeWarning: Degrees of freedom <= 0 for slice\n",
      "  c = cov(x, y, rowvar, dtype=dtype)\n",
      "C:\\Users\\amyrm\\anaconda3\\Lib\\site-packages\\numpy\\lib\\function_base.py:2748: RuntimeWarning: divide by zero encountered in divide\n",
      "  c *= np.true_divide(1, fact)\n",
      "C:\\Users\\amyrm\\anaconda3\\Lib\\site-packages\\numpy\\lib\\function_base.py:2748: RuntimeWarning: invalid value encountered in multiply\n",
      "  c *= np.true_divide(1, fact)\n",
      "C:\\Users\\amyrm\\Documents\\GitHub\\SMP-Sea-Ice\\smpfunc.py:133: RuntimeWarning: invalid value encountered in scalar divide\n",
      "  mae = np.sum(np.abs(result['mean_samp']-result['RHO']))/np.ma.count(result['RHO'])\n",
      "C:\\Users\\amyrm\\AppData\\Local\\Temp\\ipykernel_12040\\3892097099.py:42: DeprecationWarning: Conversion of an array with ndim > 0 to a scalar is deprecated, and will error in future. Ensure you extract a single element from your array before performing this operation. (Deprecated NumPy 1.25.)\n",
      "  min_scaling_coeff = random_tests[int(min_scaling_idx)]\n",
      "C:\\Users\\amyrm\\AppData\\Local\\Temp\\ipykernel_12040\\3892097099.py:47: DeprecationWarning: Conversion of an array with ndim > 0 to a scalar is deprecated, and will error in future. Ensure you extract a single element from your array before performing this operation. (Deprecated NumPy 1.25.)\n",
      "  result = compare_profiles[int(min_scaling_idx)].assign(l=smpfunc.extract_samples(dist, scaled_l, density_df.relative_height.values, CUTTER_SIZE).mean_samp,\n",
      "C:\\Users\\amyrm\\AppData\\Local\\Temp\\ipykernel_12040\\3892097099.py:60: RuntimeWarning: invalid value encountered in log\n",
      "  density_k2020 = coeffs[0] + coeffs[1] * np.log(scaled_force_median) \\\n",
      "C:\\Users\\amyrm\\AppData\\Local\\Temp\\ipykernel_12040\\3892097099.py:61: RuntimeWarning: invalid value encountered in log\n",
      "  + coeffs[2] * np.log(scaled_force_median) * scaled_l \\\n",
      "C:\\Users\\amyrm\\AppData\\Local\\Temp\\ipykernel_12040\\3892097099.py:90: DeprecationWarning: Conversion of an array with ndim > 0 to a scalar is deprecated, and will error in future. Ensure you extract a single element from your array before performing this operation. (Deprecated NumPy 1.25.)\n",
      "  ax2.plot(scaled_profiles[int(min_scaling_idx)][1],\n",
      "C:\\Users\\amyrm\\AppData\\Local\\Temp\\ipykernel_12040\\3892097099.py:91: DeprecationWarning: Conversion of an array with ndim > 0 to a scalar is deprecated, and will error in future. Ensure you extract a single element from your array before performing this operation. (Deprecated NumPy 1.25.)\n",
      "  scaled_profiles[int(min_scaling_idx)][0], color = 'k')\n",
      "C:\\Users\\amyrm\\AppData\\Local\\Temp\\ipykernel_12040\\3892097099.py:101: DeprecationWarning: Conversion of an array with ndim > 0 to a scalar is deprecated, and will error in future. Ensure you extract a single element from your array before performing this operation. (Deprecated NumPy 1.25.)\n",
      "  ax3.plot(density_k2020 ,scaled_profiles[int(min_scaling_idx)][0],\n"
     ]
    },
    {
     "name": "stdout",
     "output_type": "stream",
     "text": [
      "PS122-3_32-59\n",
      "i= 23\n",
      "S49M2044\n"
     ]
    },
    {
     "name": "stderr",
     "output_type": "stream",
     "text": [
      "C:\\Users\\amyrm\\anaconda3\\Lib\\site-packages\\numpy\\lib\\function_base.py:520: RuntimeWarning: Mean of empty slice.\n",
      "  avg = a.mean(axis, **keepdims_kw)\n",
      "C:\\Users\\amyrm\\anaconda3\\Lib\\site-packages\\numpy\\core\\_methods.py:121: RuntimeWarning: invalid value encountered in divide\n",
      "  ret = um.true_divide(\n",
      "C:\\Users\\amyrm\\anaconda3\\Lib\\site-packages\\numpy\\lib\\function_base.py:2889: RuntimeWarning: Degrees of freedom <= 0 for slice\n",
      "  c = cov(x, y, rowvar, dtype=dtype)\n",
      "C:\\Users\\amyrm\\anaconda3\\Lib\\site-packages\\numpy\\lib\\function_base.py:2748: RuntimeWarning: divide by zero encountered in divide\n",
      "  c *= np.true_divide(1, fact)\n",
      "C:\\Users\\amyrm\\anaconda3\\Lib\\site-packages\\numpy\\lib\\function_base.py:2748: RuntimeWarning: invalid value encountered in multiply\n",
      "  c *= np.true_divide(1, fact)\n",
      "C:\\Users\\amyrm\\Documents\\GitHub\\SMP-Sea-Ice\\smpfunc.py:133: RuntimeWarning: invalid value encountered in scalar divide\n",
      "  mae = np.sum(np.abs(result['mean_samp']-result['RHO']))/np.ma.count(result['RHO'])\n",
      "C:\\Users\\amyrm\\AppData\\Local\\Temp\\ipykernel_12040\\3892097099.py:42: DeprecationWarning: Conversion of an array with ndim > 0 to a scalar is deprecated, and will error in future. Ensure you extract a single element from your array before performing this operation. (Deprecated NumPy 1.25.)\n",
      "  min_scaling_coeff = random_tests[int(min_scaling_idx)]\n",
      "C:\\Users\\amyrm\\AppData\\Local\\Temp\\ipykernel_12040\\3892097099.py:47: DeprecationWarning: Conversion of an array with ndim > 0 to a scalar is deprecated, and will error in future. Ensure you extract a single element from your array before performing this operation. (Deprecated NumPy 1.25.)\n",
      "  result = compare_profiles[int(min_scaling_idx)].assign(l=smpfunc.extract_samples(dist, scaled_l, density_df.relative_height.values, CUTTER_SIZE).mean_samp,\n",
      "C:\\Users\\amyrm\\AppData\\Local\\Temp\\ipykernel_12040\\3892097099.py:90: DeprecationWarning: Conversion of an array with ndim > 0 to a scalar is deprecated, and will error in future. Ensure you extract a single element from your array before performing this operation. (Deprecated NumPy 1.25.)\n",
      "  ax2.plot(scaled_profiles[int(min_scaling_idx)][1],\n",
      "C:\\Users\\amyrm\\AppData\\Local\\Temp\\ipykernel_12040\\3892097099.py:91: DeprecationWarning: Conversion of an array with ndim > 0 to a scalar is deprecated, and will error in future. Ensure you extract a single element from your array before performing this operation. (Deprecated NumPy 1.25.)\n",
      "  scaled_profiles[int(min_scaling_idx)][0], color = 'k')\n",
      "C:\\Users\\amyrm\\AppData\\Local\\Temp\\ipykernel_12040\\3892097099.py:101: DeprecationWarning: Conversion of an array with ndim > 0 to a scalar is deprecated, and will error in future. Ensure you extract a single element from your array before performing this operation. (Deprecated NumPy 1.25.)\n",
      "  ax3.plot(density_k2020 ,scaled_profiles[int(min_scaling_idx)][0],\n"
     ]
    },
    {
     "name": "stdout",
     "output_type": "stream",
     "text": [
      "PS122-3_33-41\n",
      "i= 24\n",
      "S49M2152\n"
     ]
    },
    {
     "name": "stderr",
     "output_type": "stream",
     "text": [
      "C:\\Users\\amyrm\\anaconda3\\Lib\\site-packages\\numpy\\lib\\function_base.py:520: RuntimeWarning: Mean of empty slice.\n",
      "  avg = a.mean(axis, **keepdims_kw)\n",
      "C:\\Users\\amyrm\\anaconda3\\Lib\\site-packages\\numpy\\core\\_methods.py:121: RuntimeWarning: invalid value encountered in divide\n",
      "  ret = um.true_divide(\n",
      "C:\\Users\\amyrm\\anaconda3\\Lib\\site-packages\\numpy\\lib\\function_base.py:2889: RuntimeWarning: Degrees of freedom <= 0 for slice\n",
      "  c = cov(x, y, rowvar, dtype=dtype)\n",
      "C:\\Users\\amyrm\\anaconda3\\Lib\\site-packages\\numpy\\lib\\function_base.py:2748: RuntimeWarning: divide by zero encountered in divide\n",
      "  c *= np.true_divide(1, fact)\n",
      "C:\\Users\\amyrm\\anaconda3\\Lib\\site-packages\\numpy\\lib\\function_base.py:2748: RuntimeWarning: invalid value encountered in multiply\n",
      "  c *= np.true_divide(1, fact)\n",
      "C:\\Users\\amyrm\\Documents\\GitHub\\SMP-Sea-Ice\\smpfunc.py:133: RuntimeWarning: invalid value encountered in scalar divide\n",
      "  mae = np.sum(np.abs(result['mean_samp']-result['RHO']))/np.ma.count(result['RHO'])\n",
      "C:\\Users\\amyrm\\AppData\\Local\\Temp\\ipykernel_12040\\3892097099.py:42: DeprecationWarning: Conversion of an array with ndim > 0 to a scalar is deprecated, and will error in future. Ensure you extract a single element from your array before performing this operation. (Deprecated NumPy 1.25.)\n",
      "  min_scaling_coeff = random_tests[int(min_scaling_idx)]\n",
      "C:\\Users\\amyrm\\AppData\\Local\\Temp\\ipykernel_12040\\3892097099.py:47: DeprecationWarning: Conversion of an array with ndim > 0 to a scalar is deprecated, and will error in future. Ensure you extract a single element from your array before performing this operation. (Deprecated NumPy 1.25.)\n",
      "  result = compare_profiles[int(min_scaling_idx)].assign(l=smpfunc.extract_samples(dist, scaled_l, density_df.relative_height.values, CUTTER_SIZE).mean_samp,\n",
      "C:\\Users\\amyrm\\AppData\\Local\\Temp\\ipykernel_12040\\3892097099.py:60: RuntimeWarning: invalid value encountered in log\n",
      "  density_k2020 = coeffs[0] + coeffs[1] * np.log(scaled_force_median) \\\n",
      "C:\\Users\\amyrm\\AppData\\Local\\Temp\\ipykernel_12040\\3892097099.py:61: RuntimeWarning: invalid value encountered in log\n",
      "  + coeffs[2] * np.log(scaled_force_median) * scaled_l \\\n",
      "C:\\Users\\amyrm\\AppData\\Local\\Temp\\ipykernel_12040\\3892097099.py:90: DeprecationWarning: Conversion of an array with ndim > 0 to a scalar is deprecated, and will error in future. Ensure you extract a single element from your array before performing this operation. (Deprecated NumPy 1.25.)\n",
      "  ax2.plot(scaled_profiles[int(min_scaling_idx)][1],\n",
      "C:\\Users\\amyrm\\AppData\\Local\\Temp\\ipykernel_12040\\3892097099.py:91: DeprecationWarning: Conversion of an array with ndim > 0 to a scalar is deprecated, and will error in future. Ensure you extract a single element from your array before performing this operation. (Deprecated NumPy 1.25.)\n",
      "  scaled_profiles[int(min_scaling_idx)][0], color = 'k')\n",
      "C:\\Users\\amyrm\\AppData\\Local\\Temp\\ipykernel_12040\\3892097099.py:101: DeprecationWarning: Conversion of an array with ndim > 0 to a scalar is deprecated, and will error in future. Ensure you extract a single element from your array before performing this operation. (Deprecated NumPy 1.25.)\n",
      "  ax3.plot(density_k2020 ,scaled_profiles[int(min_scaling_idx)][0],\n"
     ]
    },
    {
     "name": "stdout",
     "output_type": "stream",
     "text": [
      "PS122-3_34-60\n",
      "i= 25\n",
      "S49M2175\n"
     ]
    },
    {
     "name": "stderr",
     "output_type": "stream",
     "text": [
      "C:\\Users\\amyrm\\anaconda3\\Lib\\site-packages\\numpy\\lib\\function_base.py:520: RuntimeWarning: Mean of empty slice.\n",
      "  avg = a.mean(axis, **keepdims_kw)\n",
      "C:\\Users\\amyrm\\anaconda3\\Lib\\site-packages\\numpy\\core\\_methods.py:121: RuntimeWarning: invalid value encountered in divide\n",
      "  ret = um.true_divide(\n",
      "C:\\Users\\amyrm\\anaconda3\\Lib\\site-packages\\numpy\\lib\\function_base.py:2889: RuntimeWarning: Degrees of freedom <= 0 for slice\n",
      "  c = cov(x, y, rowvar, dtype=dtype)\n",
      "C:\\Users\\amyrm\\anaconda3\\Lib\\site-packages\\numpy\\lib\\function_base.py:2748: RuntimeWarning: divide by zero encountered in divide\n",
      "  c *= np.true_divide(1, fact)\n",
      "C:\\Users\\amyrm\\anaconda3\\Lib\\site-packages\\numpy\\lib\\function_base.py:2748: RuntimeWarning: invalid value encountered in multiply\n",
      "  c *= np.true_divide(1, fact)\n",
      "C:\\Users\\amyrm\\Documents\\GitHub\\SMP-Sea-Ice\\smpfunc.py:133: RuntimeWarning: invalid value encountered in scalar divide\n",
      "  mae = np.sum(np.abs(result['mean_samp']-result['RHO']))/np.ma.count(result['RHO'])\n",
      "C:\\Users\\amyrm\\AppData\\Local\\Temp\\ipykernel_12040\\3892097099.py:42: DeprecationWarning: Conversion of an array with ndim > 0 to a scalar is deprecated, and will error in future. Ensure you extract a single element from your array before performing this operation. (Deprecated NumPy 1.25.)\n",
      "  min_scaling_coeff = random_tests[int(min_scaling_idx)]\n",
      "C:\\Users\\amyrm\\AppData\\Local\\Temp\\ipykernel_12040\\3892097099.py:47: DeprecationWarning: Conversion of an array with ndim > 0 to a scalar is deprecated, and will error in future. Ensure you extract a single element from your array before performing this operation. (Deprecated NumPy 1.25.)\n",
      "  result = compare_profiles[int(min_scaling_idx)].assign(l=smpfunc.extract_samples(dist, scaled_l, density_df.relative_height.values, CUTTER_SIZE).mean_samp,\n",
      "C:\\Users\\amyrm\\AppData\\Local\\Temp\\ipykernel_12040\\3892097099.py:90: DeprecationWarning: Conversion of an array with ndim > 0 to a scalar is deprecated, and will error in future. Ensure you extract a single element from your array before performing this operation. (Deprecated NumPy 1.25.)\n",
      "  ax2.plot(scaled_profiles[int(min_scaling_idx)][1],\n",
      "C:\\Users\\amyrm\\AppData\\Local\\Temp\\ipykernel_12040\\3892097099.py:91: DeprecationWarning: Conversion of an array with ndim > 0 to a scalar is deprecated, and will error in future. Ensure you extract a single element from your array before performing this operation. (Deprecated NumPy 1.25.)\n",
      "  scaled_profiles[int(min_scaling_idx)][0], color = 'k')\n",
      "C:\\Users\\amyrm\\AppData\\Local\\Temp\\ipykernel_12040\\3892097099.py:101: DeprecationWarning: Conversion of an array with ndim > 0 to a scalar is deprecated, and will error in future. Ensure you extract a single element from your array before performing this operation. (Deprecated NumPy 1.25.)\n",
      "  ax3.plot(density_k2020 ,scaled_profiles[int(min_scaling_idx)][0],\n"
     ]
    },
    {
     "name": "stdout",
     "output_type": "stream",
     "text": [
      "PS122-3_35-23\n",
      "i= 26\n",
      "S49M2238\n"
     ]
    },
    {
     "name": "stderr",
     "output_type": "stream",
     "text": [
      "C:\\Users\\amyrm\\anaconda3\\Lib\\site-packages\\numpy\\lib\\function_base.py:520: RuntimeWarning: Mean of empty slice.\n",
      "  avg = a.mean(axis, **keepdims_kw)\n",
      "C:\\Users\\amyrm\\anaconda3\\Lib\\site-packages\\numpy\\core\\_methods.py:121: RuntimeWarning: invalid value encountered in divide\n",
      "  ret = um.true_divide(\n",
      "C:\\Users\\amyrm\\anaconda3\\Lib\\site-packages\\numpy\\lib\\function_base.py:2889: RuntimeWarning: Degrees of freedom <= 0 for slice\n",
      "  c = cov(x, y, rowvar, dtype=dtype)\n",
      "C:\\Users\\amyrm\\anaconda3\\Lib\\site-packages\\numpy\\lib\\function_base.py:2748: RuntimeWarning: divide by zero encountered in divide\n",
      "  c *= np.true_divide(1, fact)\n",
      "C:\\Users\\amyrm\\anaconda3\\Lib\\site-packages\\numpy\\lib\\function_base.py:2748: RuntimeWarning: invalid value encountered in multiply\n",
      "  c *= np.true_divide(1, fact)\n",
      "C:\\Users\\amyrm\\Documents\\GitHub\\SMP-Sea-Ice\\smpfunc.py:133: RuntimeWarning: invalid value encountered in scalar divide\n",
      "  mae = np.sum(np.abs(result['mean_samp']-result['RHO']))/np.ma.count(result['RHO'])\n",
      "C:\\Users\\amyrm\\AppData\\Local\\Temp\\ipykernel_12040\\3892097099.py:42: DeprecationWarning: Conversion of an array with ndim > 0 to a scalar is deprecated, and will error in future. Ensure you extract a single element from your array before performing this operation. (Deprecated NumPy 1.25.)\n",
      "  min_scaling_coeff = random_tests[int(min_scaling_idx)]\n",
      "C:\\Users\\amyrm\\AppData\\Local\\Temp\\ipykernel_12040\\3892097099.py:47: DeprecationWarning: Conversion of an array with ndim > 0 to a scalar is deprecated, and will error in future. Ensure you extract a single element from your array before performing this operation. (Deprecated NumPy 1.25.)\n",
      "  result = compare_profiles[int(min_scaling_idx)].assign(l=smpfunc.extract_samples(dist, scaled_l, density_df.relative_height.values, CUTTER_SIZE).mean_samp,\n",
      "C:\\Users\\amyrm\\AppData\\Local\\Temp\\ipykernel_12040\\3892097099.py:90: DeprecationWarning: Conversion of an array with ndim > 0 to a scalar is deprecated, and will error in future. Ensure you extract a single element from your array before performing this operation. (Deprecated NumPy 1.25.)\n",
      "  ax2.plot(scaled_profiles[int(min_scaling_idx)][1],\n",
      "C:\\Users\\amyrm\\AppData\\Local\\Temp\\ipykernel_12040\\3892097099.py:91: DeprecationWarning: Conversion of an array with ndim > 0 to a scalar is deprecated, and will error in future. Ensure you extract a single element from your array before performing this operation. (Deprecated NumPy 1.25.)\n",
      "  scaled_profiles[int(min_scaling_idx)][0], color = 'k')\n",
      "C:\\Users\\amyrm\\AppData\\Local\\Temp\\ipykernel_12040\\3892097099.py:101: DeprecationWarning: Conversion of an array with ndim > 0 to a scalar is deprecated, and will error in future. Ensure you extract a single element from your array before performing this operation. (Deprecated NumPy 1.25.)\n",
      "  ax3.plot(density_k2020 ,scaled_profiles[int(min_scaling_idx)][0],\n"
     ]
    },
    {
     "name": "stdout",
     "output_type": "stream",
     "text": [
      "PS122-3_35-53\n",
      "i= 27\n",
      "S49M2286\n"
     ]
    },
    {
     "name": "stderr",
     "output_type": "stream",
     "text": [
      "C:\\Users\\amyrm\\anaconda3\\Lib\\site-packages\\numpy\\core\\fromnumeric.py:3504: RuntimeWarning: Mean of empty slice.\n",
      "  return _methods._mean(a, axis=axis, dtype=dtype,\n",
      "C:\\Users\\amyrm\\anaconda3\\Lib\\site-packages\\numpy\\core\\_methods.py:129: RuntimeWarning: invalid value encountered in scalar divide\n",
      "  ret = ret.dtype.type(ret / rcount)\n",
      "C:\\Users\\amyrm\\anaconda3\\Lib\\site-packages\\numpy\\core\\_methods.py:206: RuntimeWarning: Degrees of freedom <= 0 for slice\n",
      "  ret = _var(a, axis=axis, dtype=dtype, out=out, ddof=ddof,\n",
      "C:\\Users\\amyrm\\anaconda3\\Lib\\site-packages\\numpy\\core\\_methods.py:163: RuntimeWarning: invalid value encountered in divide\n",
      "  arrmean = um.true_divide(arrmean, div, out=arrmean,\n",
      "C:\\Users\\amyrm\\anaconda3\\Lib\\site-packages\\numpy\\core\\_methods.py:198: RuntimeWarning: invalid value encountered in scalar divide\n",
      "  ret = ret.dtype.type(ret / rcount)\n",
      "C:\\Users\\amyrm\\anaconda3\\Lib\\site-packages\\numpy\\lib\\function_base.py:520: RuntimeWarning: Mean of empty slice.\n",
      "  avg = a.mean(axis, **keepdims_kw)\n",
      "C:\\Users\\amyrm\\anaconda3\\Lib\\site-packages\\numpy\\core\\_methods.py:121: RuntimeWarning: invalid value encountered in divide\n",
      "  ret = um.true_divide(\n",
      "C:\\Users\\amyrm\\anaconda3\\Lib\\site-packages\\numpy\\lib\\function_base.py:2889: RuntimeWarning: Degrees of freedom <= 0 for slice\n",
      "  c = cov(x, y, rowvar, dtype=dtype)\n",
      "C:\\Users\\amyrm\\anaconda3\\Lib\\site-packages\\numpy\\lib\\function_base.py:2748: RuntimeWarning: divide by zero encountered in divide\n",
      "  c *= np.true_divide(1, fact)\n",
      "C:\\Users\\amyrm\\anaconda3\\Lib\\site-packages\\numpy\\lib\\function_base.py:2748: RuntimeWarning: invalid value encountered in multiply\n",
      "  c *= np.true_divide(1, fact)\n",
      "C:\\Users\\amyrm\\Documents\\GitHub\\SMP-Sea-Ice\\smpfunc.py:133: RuntimeWarning: invalid value encountered in scalar divide\n",
      "  mae = np.sum(np.abs(result['mean_samp']-result['RHO']))/np.ma.count(result['RHO'])\n",
      "C:\\Users\\amyrm\\AppData\\Local\\Temp\\ipykernel_12040\\3892097099.py:42: DeprecationWarning: Conversion of an array with ndim > 0 to a scalar is deprecated, and will error in future. Ensure you extract a single element from your array before performing this operation. (Deprecated NumPy 1.25.)\n",
      "  min_scaling_coeff = random_tests[int(min_scaling_idx)]\n",
      "C:\\Users\\amyrm\\AppData\\Local\\Temp\\ipykernel_12040\\3892097099.py:47: DeprecationWarning: Conversion of an array with ndim > 0 to a scalar is deprecated, and will error in future. Ensure you extract a single element from your array before performing this operation. (Deprecated NumPy 1.25.)\n",
      "  result = compare_profiles[int(min_scaling_idx)].assign(l=smpfunc.extract_samples(dist, scaled_l, density_df.relative_height.values, CUTTER_SIZE).mean_samp,\n",
      "C:\\Users\\amyrm\\anaconda3\\Lib\\site-packages\\numpy\\core\\fromnumeric.py:3504: RuntimeWarning: Mean of empty slice.\n",
      "  return _methods._mean(a, axis=axis, dtype=dtype,\n",
      "C:\\Users\\amyrm\\anaconda3\\Lib\\site-packages\\numpy\\core\\_methods.py:129: RuntimeWarning: invalid value encountered in scalar divide\n",
      "  ret = ret.dtype.type(ret / rcount)\n",
      "C:\\Users\\amyrm\\anaconda3\\Lib\\site-packages\\numpy\\core\\_methods.py:206: RuntimeWarning: Degrees of freedom <= 0 for slice\n",
      "  ret = _var(a, axis=axis, dtype=dtype, out=out, ddof=ddof,\n",
      "C:\\Users\\amyrm\\anaconda3\\Lib\\site-packages\\numpy\\core\\_methods.py:163: RuntimeWarning: invalid value encountered in divide\n",
      "  arrmean = um.true_divide(arrmean, div, out=arrmean,\n",
      "C:\\Users\\amyrm\\anaconda3\\Lib\\site-packages\\numpy\\core\\_methods.py:198: RuntimeWarning: invalid value encountered in scalar divide\n",
      "  ret = ret.dtype.type(ret / rcount)\n",
      "C:\\Users\\amyrm\\AppData\\Local\\Temp\\ipykernel_12040\\3892097099.py:66: RuntimeWarning: More than 20 figures have been opened. Figures created through the pyplot interface (`matplotlib.pyplot.figure`) are retained until explicitly closed and may consume too much memory. (To control this warning, see the rcParam `figure.max_open_warning`). Consider using `matplotlib.pyplot.close()`.\n",
      "  f, (ax1, ax2, ax3) = plt.subplots(1, 3, sharey=True, figsize=(10,8))\n",
      "C:\\Users\\amyrm\\AppData\\Local\\Temp\\ipykernel_12040\\3892097099.py:90: DeprecationWarning: Conversion of an array with ndim > 0 to a scalar is deprecated, and will error in future. Ensure you extract a single element from your array before performing this operation. (Deprecated NumPy 1.25.)\n",
      "  ax2.plot(scaled_profiles[int(min_scaling_idx)][1],\n",
      "C:\\Users\\amyrm\\AppData\\Local\\Temp\\ipykernel_12040\\3892097099.py:91: DeprecationWarning: Conversion of an array with ndim > 0 to a scalar is deprecated, and will error in future. Ensure you extract a single element from your array before performing this operation. (Deprecated NumPy 1.25.)\n",
      "  scaled_profiles[int(min_scaling_idx)][0], color = 'k')\n",
      "C:\\Users\\amyrm\\AppData\\Local\\Temp\\ipykernel_12040\\3892097099.py:101: DeprecationWarning: Conversion of an array with ndim > 0 to a scalar is deprecated, and will error in future. Ensure you extract a single element from your array before performing this operation. (Deprecated NumPy 1.25.)\n",
      "  ax3.plot(density_k2020 ,scaled_profiles[int(min_scaling_idx)][0],\n"
     ]
    },
    {
     "name": "stdout",
     "output_type": "stream",
     "text": [
      "PS122-3_35-111\n",
      "i= 28\n",
      "S49M2291\n"
     ]
    },
    {
     "name": "stderr",
     "output_type": "stream",
     "text": [
      "C:\\Users\\amyrm\\anaconda3\\Lib\\site-packages\\numpy\\lib\\function_base.py:520: RuntimeWarning: Mean of empty slice.\n",
      "  avg = a.mean(axis, **keepdims_kw)\n",
      "C:\\Users\\amyrm\\anaconda3\\Lib\\site-packages\\numpy\\core\\_methods.py:121: RuntimeWarning: invalid value encountered in divide\n",
      "  ret = um.true_divide(\n",
      "C:\\Users\\amyrm\\anaconda3\\Lib\\site-packages\\numpy\\lib\\function_base.py:2889: RuntimeWarning: Degrees of freedom <= 0 for slice\n",
      "  c = cov(x, y, rowvar, dtype=dtype)\n",
      "C:\\Users\\amyrm\\anaconda3\\Lib\\site-packages\\numpy\\lib\\function_base.py:2748: RuntimeWarning: divide by zero encountered in divide\n",
      "  c *= np.true_divide(1, fact)\n",
      "C:\\Users\\amyrm\\anaconda3\\Lib\\site-packages\\numpy\\lib\\function_base.py:2748: RuntimeWarning: invalid value encountered in multiply\n",
      "  c *= np.true_divide(1, fact)\n",
      "C:\\Users\\amyrm\\Documents\\GitHub\\SMP-Sea-Ice\\smpfunc.py:133: RuntimeWarning: invalid value encountered in scalar divide\n",
      "  mae = np.sum(np.abs(result['mean_samp']-result['RHO']))/np.ma.count(result['RHO'])\n",
      "C:\\Users\\amyrm\\AppData\\Local\\Temp\\ipykernel_12040\\3892097099.py:42: DeprecationWarning: Conversion of an array with ndim > 0 to a scalar is deprecated, and will error in future. Ensure you extract a single element from your array before performing this operation. (Deprecated NumPy 1.25.)\n",
      "  min_scaling_coeff = random_tests[int(min_scaling_idx)]\n",
      "C:\\Users\\amyrm\\AppData\\Local\\Temp\\ipykernel_12040\\3892097099.py:47: DeprecationWarning: Conversion of an array with ndim > 0 to a scalar is deprecated, and will error in future. Ensure you extract a single element from your array before performing this operation. (Deprecated NumPy 1.25.)\n",
      "  result = compare_profiles[int(min_scaling_idx)].assign(l=smpfunc.extract_samples(dist, scaled_l, density_df.relative_height.values, CUTTER_SIZE).mean_samp,\n",
      "C:\\Users\\amyrm\\AppData\\Local\\Temp\\ipykernel_12040\\3892097099.py:90: DeprecationWarning: Conversion of an array with ndim > 0 to a scalar is deprecated, and will error in future. Ensure you extract a single element from your array before performing this operation. (Deprecated NumPy 1.25.)\n",
      "  ax2.plot(scaled_profiles[int(min_scaling_idx)][1],\n",
      "C:\\Users\\amyrm\\AppData\\Local\\Temp\\ipykernel_12040\\3892097099.py:91: DeprecationWarning: Conversion of an array with ndim > 0 to a scalar is deprecated, and will error in future. Ensure you extract a single element from your array before performing this operation. (Deprecated NumPy 1.25.)\n",
      "  scaled_profiles[int(min_scaling_idx)][0], color = 'k')\n",
      "C:\\Users\\amyrm\\AppData\\Local\\Temp\\ipykernel_12040\\3892097099.py:101: DeprecationWarning: Conversion of an array with ndim > 0 to a scalar is deprecated, and will error in future. Ensure you extract a single element from your array before performing this operation. (Deprecated NumPy 1.25.)\n",
      "  ax3.plot(density_k2020 ,scaled_profiles[int(min_scaling_idx)][0],\n"
     ]
    },
    {
     "name": "stdout",
     "output_type": "stream",
     "text": [
      "PS122-3_35-121\n",
      "i= 29\n",
      "S49M2377\n"
     ]
    },
    {
     "name": "stderr",
     "output_type": "stream",
     "text": [
      "C:\\Users\\amyrm\\anaconda3\\Lib\\site-packages\\numpy\\lib\\function_base.py:520: RuntimeWarning: Mean of empty slice.\n",
      "  avg = a.mean(axis, **keepdims_kw)\n",
      "C:\\Users\\amyrm\\anaconda3\\Lib\\site-packages\\numpy\\core\\_methods.py:121: RuntimeWarning: invalid value encountered in divide\n",
      "  ret = um.true_divide(\n",
      "C:\\Users\\amyrm\\anaconda3\\Lib\\site-packages\\numpy\\lib\\function_base.py:2889: RuntimeWarning: Degrees of freedom <= 0 for slice\n",
      "  c = cov(x, y, rowvar, dtype=dtype)\n",
      "C:\\Users\\amyrm\\anaconda3\\Lib\\site-packages\\numpy\\lib\\function_base.py:2748: RuntimeWarning: divide by zero encountered in divide\n",
      "  c *= np.true_divide(1, fact)\n",
      "C:\\Users\\amyrm\\anaconda3\\Lib\\site-packages\\numpy\\lib\\function_base.py:2748: RuntimeWarning: invalid value encountered in multiply\n",
      "  c *= np.true_divide(1, fact)\n",
      "C:\\Users\\amyrm\\Documents\\GitHub\\SMP-Sea-Ice\\smpfunc.py:133: RuntimeWarning: invalid value encountered in scalar divide\n",
      "  mae = np.sum(np.abs(result['mean_samp']-result['RHO']))/np.ma.count(result['RHO'])\n",
      "C:\\Users\\amyrm\\AppData\\Local\\Temp\\ipykernel_12040\\3892097099.py:42: DeprecationWarning: Conversion of an array with ndim > 0 to a scalar is deprecated, and will error in future. Ensure you extract a single element from your array before performing this operation. (Deprecated NumPy 1.25.)\n",
      "  min_scaling_coeff = random_tests[int(min_scaling_idx)]\n",
      "C:\\Users\\amyrm\\AppData\\Local\\Temp\\ipykernel_12040\\3892097099.py:47: DeprecationWarning: Conversion of an array with ndim > 0 to a scalar is deprecated, and will error in future. Ensure you extract a single element from your array before performing this operation. (Deprecated NumPy 1.25.)\n",
      "  result = compare_profiles[int(min_scaling_idx)].assign(l=smpfunc.extract_samples(dist, scaled_l, density_df.relative_height.values, CUTTER_SIZE).mean_samp,\n",
      "C:\\Users\\amyrm\\AppData\\Local\\Temp\\ipykernel_12040\\3892097099.py:90: DeprecationWarning: Conversion of an array with ndim > 0 to a scalar is deprecated, and will error in future. Ensure you extract a single element from your array before performing this operation. (Deprecated NumPy 1.25.)\n",
      "  ax2.plot(scaled_profiles[int(min_scaling_idx)][1],\n",
      "C:\\Users\\amyrm\\AppData\\Local\\Temp\\ipykernel_12040\\3892097099.py:91: DeprecationWarning: Conversion of an array with ndim > 0 to a scalar is deprecated, and will error in future. Ensure you extract a single element from your array before performing this operation. (Deprecated NumPy 1.25.)\n",
      "  scaled_profiles[int(min_scaling_idx)][0], color = 'k')\n",
      "C:\\Users\\amyrm\\AppData\\Local\\Temp\\ipykernel_12040\\3892097099.py:101: DeprecationWarning: Conversion of an array with ndim > 0 to a scalar is deprecated, and will error in future. Ensure you extract a single element from your array before performing this operation. (Deprecated NumPy 1.25.)\n",
      "  ax3.plot(density_k2020 ,scaled_profiles[int(min_scaling_idx)][0],\n"
     ]
    },
    {
     "name": "stdout",
     "output_type": "stream",
     "text": [
      "PS122-3_36-35\n",
      "i= 30\n",
      "S49M2401\n"
     ]
    },
    {
     "name": "stderr",
     "output_type": "stream",
     "text": [
      "C:\\Users\\amyrm\\anaconda3\\Lib\\site-packages\\numpy\\core\\fromnumeric.py:3504: RuntimeWarning: Mean of empty slice.\n",
      "  return _methods._mean(a, axis=axis, dtype=dtype,\n",
      "C:\\Users\\amyrm\\anaconda3\\Lib\\site-packages\\numpy\\core\\_methods.py:129: RuntimeWarning: invalid value encountered in scalar divide\n",
      "  ret = ret.dtype.type(ret / rcount)\n",
      "C:\\Users\\amyrm\\anaconda3\\Lib\\site-packages\\numpy\\core\\_methods.py:206: RuntimeWarning: Degrees of freedom <= 0 for slice\n",
      "  ret = _var(a, axis=axis, dtype=dtype, out=out, ddof=ddof,\n",
      "C:\\Users\\amyrm\\anaconda3\\Lib\\site-packages\\numpy\\core\\_methods.py:163: RuntimeWarning: invalid value encountered in divide\n",
      "  arrmean = um.true_divide(arrmean, div, out=arrmean,\n",
      "C:\\Users\\amyrm\\anaconda3\\Lib\\site-packages\\numpy\\core\\_methods.py:198: RuntimeWarning: invalid value encountered in scalar divide\n",
      "  ret = ret.dtype.type(ret / rcount)\n",
      "C:\\Users\\amyrm\\anaconda3\\Lib\\site-packages\\numpy\\lib\\function_base.py:520: RuntimeWarning: Mean of empty slice.\n",
      "  avg = a.mean(axis, **keepdims_kw)\n",
      "C:\\Users\\amyrm\\anaconda3\\Lib\\site-packages\\numpy\\core\\_methods.py:121: RuntimeWarning: invalid value encountered in divide\n",
      "  ret = um.true_divide(\n",
      "C:\\Users\\amyrm\\anaconda3\\Lib\\site-packages\\numpy\\lib\\function_base.py:2889: RuntimeWarning: Degrees of freedom <= 0 for slice\n",
      "  c = cov(x, y, rowvar, dtype=dtype)\n",
      "C:\\Users\\amyrm\\anaconda3\\Lib\\site-packages\\numpy\\lib\\function_base.py:2748: RuntimeWarning: divide by zero encountered in divide\n",
      "  c *= np.true_divide(1, fact)\n",
      "C:\\Users\\amyrm\\anaconda3\\Lib\\site-packages\\numpy\\lib\\function_base.py:2748: RuntimeWarning: invalid value encountered in multiply\n",
      "  c *= np.true_divide(1, fact)\n",
      "C:\\Users\\amyrm\\Documents\\GitHub\\SMP-Sea-Ice\\smpfunc.py:133: RuntimeWarning: invalid value encountered in scalar divide\n",
      "  mae = np.sum(np.abs(result['mean_samp']-result['RHO']))/np.ma.count(result['RHO'])\n",
      "C:\\Users\\amyrm\\AppData\\Local\\Temp\\ipykernel_12040\\3892097099.py:42: DeprecationWarning: Conversion of an array with ndim > 0 to a scalar is deprecated, and will error in future. Ensure you extract a single element from your array before performing this operation. (Deprecated NumPy 1.25.)\n",
      "  min_scaling_coeff = random_tests[int(min_scaling_idx)]\n",
      "C:\\Users\\amyrm\\AppData\\Local\\Temp\\ipykernel_12040\\3892097099.py:47: DeprecationWarning: Conversion of an array with ndim > 0 to a scalar is deprecated, and will error in future. Ensure you extract a single element from your array before performing this operation. (Deprecated NumPy 1.25.)\n",
      "  result = compare_profiles[int(min_scaling_idx)].assign(l=smpfunc.extract_samples(dist, scaled_l, density_df.relative_height.values, CUTTER_SIZE).mean_samp,\n",
      "C:\\Users\\amyrm\\anaconda3\\Lib\\site-packages\\numpy\\core\\fromnumeric.py:3504: RuntimeWarning: Mean of empty slice.\n",
      "  return _methods._mean(a, axis=axis, dtype=dtype,\n",
      "C:\\Users\\amyrm\\anaconda3\\Lib\\site-packages\\numpy\\core\\_methods.py:129: RuntimeWarning: invalid value encountered in scalar divide\n",
      "  ret = ret.dtype.type(ret / rcount)\n",
      "C:\\Users\\amyrm\\anaconda3\\Lib\\site-packages\\numpy\\core\\_methods.py:206: RuntimeWarning: Degrees of freedom <= 0 for slice\n",
      "  ret = _var(a, axis=axis, dtype=dtype, out=out, ddof=ddof,\n",
      "C:\\Users\\amyrm\\anaconda3\\Lib\\site-packages\\numpy\\core\\_methods.py:163: RuntimeWarning: invalid value encountered in divide\n",
      "  arrmean = um.true_divide(arrmean, div, out=arrmean,\n",
      "C:\\Users\\amyrm\\anaconda3\\Lib\\site-packages\\numpy\\core\\_methods.py:198: RuntimeWarning: invalid value encountered in scalar divide\n",
      "  ret = ret.dtype.type(ret / rcount)\n",
      "C:\\Users\\amyrm\\AppData\\Local\\Temp\\ipykernel_12040\\3892097099.py:90: DeprecationWarning: Conversion of an array with ndim > 0 to a scalar is deprecated, and will error in future. Ensure you extract a single element from your array before performing this operation. (Deprecated NumPy 1.25.)\n",
      "  ax2.plot(scaled_profiles[int(min_scaling_idx)][1],\n",
      "C:\\Users\\amyrm\\AppData\\Local\\Temp\\ipykernel_12040\\3892097099.py:91: DeprecationWarning: Conversion of an array with ndim > 0 to a scalar is deprecated, and will error in future. Ensure you extract a single element from your array before performing this operation. (Deprecated NumPy 1.25.)\n",
      "  scaled_profiles[int(min_scaling_idx)][0], color = 'k')\n",
      "C:\\Users\\amyrm\\AppData\\Local\\Temp\\ipykernel_12040\\3892097099.py:101: DeprecationWarning: Conversion of an array with ndim > 0 to a scalar is deprecated, and will error in future. Ensure you extract a single element from your array before performing this operation. (Deprecated NumPy 1.25.)\n",
      "  ax3.plot(density_k2020 ,scaled_profiles[int(min_scaling_idx)][0],\n"
     ]
    },
    {
     "name": "stdout",
     "output_type": "stream",
     "text": [
      "PS122-3_36-102\n",
      "i= 31\n",
      "S49M2409\n"
     ]
    },
    {
     "name": "stderr",
     "output_type": "stream",
     "text": [
      "C:\\Users\\amyrm\\anaconda3\\Lib\\site-packages\\pandas\\core\\arraylike.py:399: RuntimeWarning: invalid value encountered in log\n",
      "  result = getattr(ufunc, method)(*inputs, **kwargs)\n",
      "C:\\Users\\amyrm\\anaconda3\\Lib\\site-packages\\numpy\\core\\fromnumeric.py:3504: RuntimeWarning: Mean of empty slice.\n",
      "  return _methods._mean(a, axis=axis, dtype=dtype,\n",
      "C:\\Users\\amyrm\\anaconda3\\Lib\\site-packages\\numpy\\core\\_methods.py:129: RuntimeWarning: invalid value encountered in scalar divide\n",
      "  ret = ret.dtype.type(ret / rcount)\n",
      "C:\\Users\\amyrm\\anaconda3\\Lib\\site-packages\\numpy\\core\\_methods.py:206: RuntimeWarning: Degrees of freedom <= 0 for slice\n",
      "  ret = _var(a, axis=axis, dtype=dtype, out=out, ddof=ddof,\n",
      "C:\\Users\\amyrm\\anaconda3\\Lib\\site-packages\\numpy\\core\\_methods.py:163: RuntimeWarning: invalid value encountered in divide\n",
      "  arrmean = um.true_divide(arrmean, div, out=arrmean,\n",
      "C:\\Users\\amyrm\\anaconda3\\Lib\\site-packages\\numpy\\core\\_methods.py:198: RuntimeWarning: invalid value encountered in scalar divide\n",
      "  ret = ret.dtype.type(ret / rcount)\n",
      "C:\\Users\\amyrm\\anaconda3\\Lib\\site-packages\\numpy\\lib\\function_base.py:520: RuntimeWarning: Mean of empty slice.\n",
      "  avg = a.mean(axis, **keepdims_kw)\n",
      "C:\\Users\\amyrm\\anaconda3\\Lib\\site-packages\\numpy\\core\\_methods.py:121: RuntimeWarning: invalid value encountered in divide\n",
      "  ret = um.true_divide(\n",
      "C:\\Users\\amyrm\\anaconda3\\Lib\\site-packages\\numpy\\lib\\function_base.py:2889: RuntimeWarning: Degrees of freedom <= 0 for slice\n",
      "  c = cov(x, y, rowvar, dtype=dtype)\n",
      "C:\\Users\\amyrm\\anaconda3\\Lib\\site-packages\\numpy\\lib\\function_base.py:2748: RuntimeWarning: divide by zero encountered in divide\n",
      "  c *= np.true_divide(1, fact)\n",
      "C:\\Users\\amyrm\\anaconda3\\Lib\\site-packages\\numpy\\lib\\function_base.py:2748: RuntimeWarning: invalid value encountered in multiply\n",
      "  c *= np.true_divide(1, fact)\n",
      "C:\\Users\\amyrm\\Documents\\GitHub\\SMP-Sea-Ice\\smpfunc.py:133: RuntimeWarning: invalid value encountered in scalar divide\n",
      "  mae = np.sum(np.abs(result['mean_samp']-result['RHO']))/np.ma.count(result['RHO'])\n",
      "C:\\Users\\amyrm\\AppData\\Local\\Temp\\ipykernel_12040\\3892097099.py:42: DeprecationWarning: Conversion of an array with ndim > 0 to a scalar is deprecated, and will error in future. Ensure you extract a single element from your array before performing this operation. (Deprecated NumPy 1.25.)\n",
      "  min_scaling_coeff = random_tests[int(min_scaling_idx)]\n",
      "C:\\Users\\amyrm\\AppData\\Local\\Temp\\ipykernel_12040\\3892097099.py:47: DeprecationWarning: Conversion of an array with ndim > 0 to a scalar is deprecated, and will error in future. Ensure you extract a single element from your array before performing this operation. (Deprecated NumPy 1.25.)\n",
      "  result = compare_profiles[int(min_scaling_idx)].assign(l=smpfunc.extract_samples(dist, scaled_l, density_df.relative_height.values, CUTTER_SIZE).mean_samp,\n",
      "C:\\Users\\amyrm\\anaconda3\\Lib\\site-packages\\numpy\\core\\fromnumeric.py:3504: RuntimeWarning: Mean of empty slice.\n",
      "  return _methods._mean(a, axis=axis, dtype=dtype,\n",
      "C:\\Users\\amyrm\\anaconda3\\Lib\\site-packages\\numpy\\core\\_methods.py:129: RuntimeWarning: invalid value encountered in scalar divide\n",
      "  ret = ret.dtype.type(ret / rcount)\n",
      "C:\\Users\\amyrm\\anaconda3\\Lib\\site-packages\\numpy\\core\\_methods.py:206: RuntimeWarning: Degrees of freedom <= 0 for slice\n",
      "  ret = _var(a, axis=axis, dtype=dtype, out=out, ddof=ddof,\n",
      "C:\\Users\\amyrm\\anaconda3\\Lib\\site-packages\\numpy\\core\\_methods.py:163: RuntimeWarning: invalid value encountered in divide\n",
      "  arrmean = um.true_divide(arrmean, div, out=arrmean,\n",
      "C:\\Users\\amyrm\\anaconda3\\Lib\\site-packages\\numpy\\core\\_methods.py:198: RuntimeWarning: invalid value encountered in scalar divide\n",
      "  ret = ret.dtype.type(ret / rcount)\n",
      "C:\\Users\\amyrm\\AppData\\Local\\Temp\\ipykernel_12040\\3892097099.py:60: RuntimeWarning: invalid value encountered in log\n",
      "  density_k2020 = coeffs[0] + coeffs[1] * np.log(scaled_force_median) \\\n",
      "C:\\Users\\amyrm\\AppData\\Local\\Temp\\ipykernel_12040\\3892097099.py:61: RuntimeWarning: invalid value encountered in log\n",
      "  + coeffs[2] * np.log(scaled_force_median) * scaled_l \\\n",
      "C:\\Users\\amyrm\\AppData\\Local\\Temp\\ipykernel_12040\\3892097099.py:90: DeprecationWarning: Conversion of an array with ndim > 0 to a scalar is deprecated, and will error in future. Ensure you extract a single element from your array before performing this operation. (Deprecated NumPy 1.25.)\n",
      "  ax2.plot(scaled_profiles[int(min_scaling_idx)][1],\n",
      "C:\\Users\\amyrm\\AppData\\Local\\Temp\\ipykernel_12040\\3892097099.py:91: DeprecationWarning: Conversion of an array with ndim > 0 to a scalar is deprecated, and will error in future. Ensure you extract a single element from your array before performing this operation. (Deprecated NumPy 1.25.)\n",
      "  scaled_profiles[int(min_scaling_idx)][0], color = 'k')\n",
      "C:\\Users\\amyrm\\AppData\\Local\\Temp\\ipykernel_12040\\3892097099.py:101: DeprecationWarning: Conversion of an array with ndim > 0 to a scalar is deprecated, and will error in future. Ensure you extract a single element from your array before performing this operation. (Deprecated NumPy 1.25.)\n",
      "  ax3.plot(density_k2020 ,scaled_profiles[int(min_scaling_idx)][0],\n"
     ]
    },
    {
     "name": "stdout",
     "output_type": "stream",
     "text": [
      "PS122-3_36-103\n",
      "i= 32\n",
      "S49M2454\n"
     ]
    },
    {
     "name": "stderr",
     "output_type": "stream",
     "text": [
      "C:\\Users\\amyrm\\anaconda3\\Lib\\site-packages\\numpy\\lib\\function_base.py:520: RuntimeWarning: Mean of empty slice.\n",
      "  avg = a.mean(axis, **keepdims_kw)\n",
      "C:\\Users\\amyrm\\anaconda3\\Lib\\site-packages\\numpy\\core\\_methods.py:121: RuntimeWarning: invalid value encountered in divide\n",
      "  ret = um.true_divide(\n",
      "C:\\Users\\amyrm\\anaconda3\\Lib\\site-packages\\numpy\\lib\\function_base.py:2889: RuntimeWarning: Degrees of freedom <= 0 for slice\n",
      "  c = cov(x, y, rowvar, dtype=dtype)\n",
      "C:\\Users\\amyrm\\anaconda3\\Lib\\site-packages\\numpy\\lib\\function_base.py:2748: RuntimeWarning: divide by zero encountered in divide\n",
      "  c *= np.true_divide(1, fact)\n",
      "C:\\Users\\amyrm\\anaconda3\\Lib\\site-packages\\numpy\\lib\\function_base.py:2748: RuntimeWarning: invalid value encountered in multiply\n",
      "  c *= np.true_divide(1, fact)\n",
      "C:\\Users\\amyrm\\Documents\\GitHub\\SMP-Sea-Ice\\smpfunc.py:133: RuntimeWarning: invalid value encountered in scalar divide\n",
      "  mae = np.sum(np.abs(result['mean_samp']-result['RHO']))/np.ma.count(result['RHO'])\n",
      "C:\\Users\\amyrm\\AppData\\Local\\Temp\\ipykernel_12040\\3892097099.py:42: DeprecationWarning: Conversion of an array with ndim > 0 to a scalar is deprecated, and will error in future. Ensure you extract a single element from your array before performing this operation. (Deprecated NumPy 1.25.)\n",
      "  min_scaling_coeff = random_tests[int(min_scaling_idx)]\n",
      "C:\\Users\\amyrm\\AppData\\Local\\Temp\\ipykernel_12040\\3892097099.py:47: DeprecationWarning: Conversion of an array with ndim > 0 to a scalar is deprecated, and will error in future. Ensure you extract a single element from your array before performing this operation. (Deprecated NumPy 1.25.)\n",
      "  result = compare_profiles[int(min_scaling_idx)].assign(l=smpfunc.extract_samples(dist, scaled_l, density_df.relative_height.values, CUTTER_SIZE).mean_samp,\n",
      "C:\\Users\\amyrm\\AppData\\Local\\Temp\\ipykernel_12040\\3892097099.py:90: DeprecationWarning: Conversion of an array with ndim > 0 to a scalar is deprecated, and will error in future. Ensure you extract a single element from your array before performing this operation. (Deprecated NumPy 1.25.)\n",
      "  ax2.plot(scaled_profiles[int(min_scaling_idx)][1],\n",
      "C:\\Users\\amyrm\\AppData\\Local\\Temp\\ipykernel_12040\\3892097099.py:91: DeprecationWarning: Conversion of an array with ndim > 0 to a scalar is deprecated, and will error in future. Ensure you extract a single element from your array before performing this operation. (Deprecated NumPy 1.25.)\n",
      "  scaled_profiles[int(min_scaling_idx)][0], color = 'k')\n",
      "C:\\Users\\amyrm\\AppData\\Local\\Temp\\ipykernel_12040\\3892097099.py:101: DeprecationWarning: Conversion of an array with ndim > 0 to a scalar is deprecated, and will error in future. Ensure you extract a single element from your array before performing this operation. (Deprecated NumPy 1.25.)\n",
      "  ax3.plot(density_k2020 ,scaled_profiles[int(min_scaling_idx)][0],\n"
     ]
    },
    {
     "name": "stdout",
     "output_type": "stream",
     "text": [
      "PS122-3_36-106\n",
      "i= 33\n",
      "S49M2470\n"
     ]
    },
    {
     "name": "stderr",
     "output_type": "stream",
     "text": [
      "C:\\Users\\amyrm\\anaconda3\\Lib\\site-packages\\numpy\\lib\\function_base.py:520: RuntimeWarning: Mean of empty slice.\n",
      "  avg = a.mean(axis, **keepdims_kw)\n",
      "C:\\Users\\amyrm\\anaconda3\\Lib\\site-packages\\numpy\\core\\_methods.py:121: RuntimeWarning: invalid value encountered in divide\n",
      "  ret = um.true_divide(\n",
      "C:\\Users\\amyrm\\anaconda3\\Lib\\site-packages\\numpy\\lib\\function_base.py:2889: RuntimeWarning: Degrees of freedom <= 0 for slice\n",
      "  c = cov(x, y, rowvar, dtype=dtype)\n",
      "C:\\Users\\amyrm\\anaconda3\\Lib\\site-packages\\numpy\\lib\\function_base.py:2748: RuntimeWarning: divide by zero encountered in divide\n",
      "  c *= np.true_divide(1, fact)\n",
      "C:\\Users\\amyrm\\anaconda3\\Lib\\site-packages\\numpy\\lib\\function_base.py:2748: RuntimeWarning: invalid value encountered in multiply\n",
      "  c *= np.true_divide(1, fact)\n",
      "C:\\Users\\amyrm\\Documents\\GitHub\\SMP-Sea-Ice\\smpfunc.py:133: RuntimeWarning: invalid value encountered in scalar divide\n",
      "  mae = np.sum(np.abs(result['mean_samp']-result['RHO']))/np.ma.count(result['RHO'])\n",
      "C:\\Users\\amyrm\\AppData\\Local\\Temp\\ipykernel_12040\\3892097099.py:42: DeprecationWarning: Conversion of an array with ndim > 0 to a scalar is deprecated, and will error in future. Ensure you extract a single element from your array before performing this operation. (Deprecated NumPy 1.25.)\n",
      "  min_scaling_coeff = random_tests[int(min_scaling_idx)]\n",
      "C:\\Users\\amyrm\\AppData\\Local\\Temp\\ipykernel_12040\\3892097099.py:47: DeprecationWarning: Conversion of an array with ndim > 0 to a scalar is deprecated, and will error in future. Ensure you extract a single element from your array before performing this operation. (Deprecated NumPy 1.25.)\n",
      "  result = compare_profiles[int(min_scaling_idx)].assign(l=smpfunc.extract_samples(dist, scaled_l, density_df.relative_height.values, CUTTER_SIZE).mean_samp,\n",
      "C:\\Users\\amyrm\\AppData\\Local\\Temp\\ipykernel_12040\\3892097099.py:90: DeprecationWarning: Conversion of an array with ndim > 0 to a scalar is deprecated, and will error in future. Ensure you extract a single element from your array before performing this operation. (Deprecated NumPy 1.25.)\n",
      "  ax2.plot(scaled_profiles[int(min_scaling_idx)][1],\n",
      "C:\\Users\\amyrm\\AppData\\Local\\Temp\\ipykernel_12040\\3892097099.py:91: DeprecationWarning: Conversion of an array with ndim > 0 to a scalar is deprecated, and will error in future. Ensure you extract a single element from your array before performing this operation. (Deprecated NumPy 1.25.)\n",
      "  scaled_profiles[int(min_scaling_idx)][0], color = 'k')\n",
      "C:\\Users\\amyrm\\AppData\\Local\\Temp\\ipykernel_12040\\3892097099.py:101: DeprecationWarning: Conversion of an array with ndim > 0 to a scalar is deprecated, and will error in future. Ensure you extract a single element from your array before performing this operation. (Deprecated NumPy 1.25.)\n",
      "  ax3.plot(density_k2020 ,scaled_profiles[int(min_scaling_idx)][0],\n"
     ]
    },
    {
     "name": "stdout",
     "output_type": "stream",
     "text": [
      "PS122-3_36-107\n",
      "i= 34\n",
      "S49M2487\n"
     ]
    },
    {
     "name": "stderr",
     "output_type": "stream",
     "text": [
      "C:\\Users\\amyrm\\anaconda3\\Lib\\site-packages\\numpy\\lib\\function_base.py:520: RuntimeWarning: Mean of empty slice.\n",
      "  avg = a.mean(axis, **keepdims_kw)\n",
      "C:\\Users\\amyrm\\anaconda3\\Lib\\site-packages\\numpy\\core\\_methods.py:121: RuntimeWarning: invalid value encountered in divide\n",
      "  ret = um.true_divide(\n",
      "C:\\Users\\amyrm\\anaconda3\\Lib\\site-packages\\numpy\\lib\\function_base.py:2889: RuntimeWarning: Degrees of freedom <= 0 for slice\n",
      "  c = cov(x, y, rowvar, dtype=dtype)\n",
      "C:\\Users\\amyrm\\anaconda3\\Lib\\site-packages\\numpy\\lib\\function_base.py:2748: RuntimeWarning: divide by zero encountered in divide\n",
      "  c *= np.true_divide(1, fact)\n",
      "C:\\Users\\amyrm\\anaconda3\\Lib\\site-packages\\numpy\\lib\\function_base.py:2748: RuntimeWarning: invalid value encountered in multiply\n",
      "  c *= np.true_divide(1, fact)\n",
      "C:\\Users\\amyrm\\Documents\\GitHub\\SMP-Sea-Ice\\smpfunc.py:133: RuntimeWarning: invalid value encountered in scalar divide\n",
      "  mae = np.sum(np.abs(result['mean_samp']-result['RHO']))/np.ma.count(result['RHO'])\n",
      "C:\\Users\\amyrm\\AppData\\Local\\Temp\\ipykernel_12040\\3892097099.py:42: DeprecationWarning: Conversion of an array with ndim > 0 to a scalar is deprecated, and will error in future. Ensure you extract a single element from your array before performing this operation. (Deprecated NumPy 1.25.)\n",
      "  min_scaling_coeff = random_tests[int(min_scaling_idx)]\n",
      "C:\\Users\\amyrm\\AppData\\Local\\Temp\\ipykernel_12040\\3892097099.py:47: DeprecationWarning: Conversion of an array with ndim > 0 to a scalar is deprecated, and will error in future. Ensure you extract a single element from your array before performing this operation. (Deprecated NumPy 1.25.)\n",
      "  result = compare_profiles[int(min_scaling_idx)].assign(l=smpfunc.extract_samples(dist, scaled_l, density_df.relative_height.values, CUTTER_SIZE).mean_samp,\n",
      "C:\\Users\\amyrm\\AppData\\Local\\Temp\\ipykernel_12040\\3892097099.py:90: DeprecationWarning: Conversion of an array with ndim > 0 to a scalar is deprecated, and will error in future. Ensure you extract a single element from your array before performing this operation. (Deprecated NumPy 1.25.)\n",
      "  ax2.plot(scaled_profiles[int(min_scaling_idx)][1],\n",
      "C:\\Users\\amyrm\\AppData\\Local\\Temp\\ipykernel_12040\\3892097099.py:91: DeprecationWarning: Conversion of an array with ndim > 0 to a scalar is deprecated, and will error in future. Ensure you extract a single element from your array before performing this operation. (Deprecated NumPy 1.25.)\n",
      "  scaled_profiles[int(min_scaling_idx)][0], color = 'k')\n",
      "C:\\Users\\amyrm\\AppData\\Local\\Temp\\ipykernel_12040\\3892097099.py:101: DeprecationWarning: Conversion of an array with ndim > 0 to a scalar is deprecated, and will error in future. Ensure you extract a single element from your array before performing this operation. (Deprecated NumPy 1.25.)\n",
      "  ax3.plot(density_k2020 ,scaled_profiles[int(min_scaling_idx)][0],\n"
     ]
    },
    {
     "name": "stdout",
     "output_type": "stream",
     "text": [
      "PS122-3_36-137\n",
      "i= 35\n",
      "S49M2493\n"
     ]
    },
    {
     "name": "stderr",
     "output_type": "stream",
     "text": [
      "C:\\Users\\amyrm\\anaconda3\\Lib\\site-packages\\numpy\\lib\\function_base.py:520: RuntimeWarning: Mean of empty slice.\n",
      "  avg = a.mean(axis, **keepdims_kw)\n",
      "C:\\Users\\amyrm\\anaconda3\\Lib\\site-packages\\numpy\\core\\_methods.py:121: RuntimeWarning: invalid value encountered in divide\n",
      "  ret = um.true_divide(\n",
      "C:\\Users\\amyrm\\anaconda3\\Lib\\site-packages\\numpy\\lib\\function_base.py:2889: RuntimeWarning: Degrees of freedom <= 0 for slice\n",
      "  c = cov(x, y, rowvar, dtype=dtype)\n",
      "C:\\Users\\amyrm\\anaconda3\\Lib\\site-packages\\numpy\\lib\\function_base.py:2748: RuntimeWarning: divide by zero encountered in divide\n",
      "  c *= np.true_divide(1, fact)\n",
      "C:\\Users\\amyrm\\anaconda3\\Lib\\site-packages\\numpy\\lib\\function_base.py:2748: RuntimeWarning: invalid value encountered in multiply\n",
      "  c *= np.true_divide(1, fact)\n",
      "C:\\Users\\amyrm\\Documents\\GitHub\\SMP-Sea-Ice\\smpfunc.py:133: RuntimeWarning: invalid value encountered in scalar divide\n",
      "  mae = np.sum(np.abs(result['mean_samp']-result['RHO']))/np.ma.count(result['RHO'])\n",
      "C:\\Users\\amyrm\\AppData\\Local\\Temp\\ipykernel_12040\\3892097099.py:42: DeprecationWarning: Conversion of an array with ndim > 0 to a scalar is deprecated, and will error in future. Ensure you extract a single element from your array before performing this operation. (Deprecated NumPy 1.25.)\n",
      "  min_scaling_coeff = random_tests[int(min_scaling_idx)]\n",
      "C:\\Users\\amyrm\\AppData\\Local\\Temp\\ipykernel_12040\\3892097099.py:47: DeprecationWarning: Conversion of an array with ndim > 0 to a scalar is deprecated, and will error in future. Ensure you extract a single element from your array before performing this operation. (Deprecated NumPy 1.25.)\n",
      "  result = compare_profiles[int(min_scaling_idx)].assign(l=smpfunc.extract_samples(dist, scaled_l, density_df.relative_height.values, CUTTER_SIZE).mean_samp,\n",
      "C:\\Users\\amyrm\\AppData\\Local\\Temp\\ipykernel_12040\\3892097099.py:60: RuntimeWarning: invalid value encountered in log\n",
      "  density_k2020 = coeffs[0] + coeffs[1] * np.log(scaled_force_median) \\\n",
      "C:\\Users\\amyrm\\AppData\\Local\\Temp\\ipykernel_12040\\3892097099.py:61: RuntimeWarning: invalid value encountered in log\n",
      "  + coeffs[2] * np.log(scaled_force_median) * scaled_l \\\n",
      "C:\\Users\\amyrm\\AppData\\Local\\Temp\\ipykernel_12040\\3892097099.py:90: DeprecationWarning: Conversion of an array with ndim > 0 to a scalar is deprecated, and will error in future. Ensure you extract a single element from your array before performing this operation. (Deprecated NumPy 1.25.)\n",
      "  ax2.plot(scaled_profiles[int(min_scaling_idx)][1],\n",
      "C:\\Users\\amyrm\\AppData\\Local\\Temp\\ipykernel_12040\\3892097099.py:91: DeprecationWarning: Conversion of an array with ndim > 0 to a scalar is deprecated, and will error in future. Ensure you extract a single element from your array before performing this operation. (Deprecated NumPy 1.25.)\n",
      "  scaled_profiles[int(min_scaling_idx)][0], color = 'k')\n",
      "C:\\Users\\amyrm\\AppData\\Local\\Temp\\ipykernel_12040\\3892097099.py:101: DeprecationWarning: Conversion of an array with ndim > 0 to a scalar is deprecated, and will error in future. Ensure you extract a single element from your array before performing this operation. (Deprecated NumPy 1.25.)\n",
      "  ax3.plot(density_k2020 ,scaled_profiles[int(min_scaling_idx)][0],\n"
     ]
    },
    {
     "name": "stdout",
     "output_type": "stream",
     "text": [
      "PS122-3_36-138\n",
      "i= 36\n",
      "S49M2510\n"
     ]
    },
    {
     "name": "stderr",
     "output_type": "stream",
     "text": [
      "C:\\Users\\amyrm\\anaconda3\\Lib\\site-packages\\numpy\\lib\\function_base.py:520: RuntimeWarning: Mean of empty slice.\n",
      "  avg = a.mean(axis, **keepdims_kw)\n",
      "C:\\Users\\amyrm\\anaconda3\\Lib\\site-packages\\numpy\\core\\_methods.py:121: RuntimeWarning: invalid value encountered in divide\n",
      "  ret = um.true_divide(\n",
      "C:\\Users\\amyrm\\anaconda3\\Lib\\site-packages\\numpy\\lib\\function_base.py:2889: RuntimeWarning: Degrees of freedom <= 0 for slice\n",
      "  c = cov(x, y, rowvar, dtype=dtype)\n",
      "C:\\Users\\amyrm\\anaconda3\\Lib\\site-packages\\numpy\\lib\\function_base.py:2748: RuntimeWarning: divide by zero encountered in divide\n",
      "  c *= np.true_divide(1, fact)\n",
      "C:\\Users\\amyrm\\anaconda3\\Lib\\site-packages\\numpy\\lib\\function_base.py:2748: RuntimeWarning: invalid value encountered in multiply\n",
      "  c *= np.true_divide(1, fact)\n",
      "C:\\Users\\amyrm\\Documents\\GitHub\\SMP-Sea-Ice\\smpfunc.py:133: RuntimeWarning: invalid value encountered in scalar divide\n",
      "  mae = np.sum(np.abs(result['mean_samp']-result['RHO']))/np.ma.count(result['RHO'])\n",
      "C:\\Users\\amyrm\\AppData\\Local\\Temp\\ipykernel_12040\\3892097099.py:42: DeprecationWarning: Conversion of an array with ndim > 0 to a scalar is deprecated, and will error in future. Ensure you extract a single element from your array before performing this operation. (Deprecated NumPy 1.25.)\n",
      "  min_scaling_coeff = random_tests[int(min_scaling_idx)]\n",
      "C:\\Users\\amyrm\\AppData\\Local\\Temp\\ipykernel_12040\\3892097099.py:47: DeprecationWarning: Conversion of an array with ndim > 0 to a scalar is deprecated, and will error in future. Ensure you extract a single element from your array before performing this operation. (Deprecated NumPy 1.25.)\n",
      "  result = compare_profiles[int(min_scaling_idx)].assign(l=smpfunc.extract_samples(dist, scaled_l, density_df.relative_height.values, CUTTER_SIZE).mean_samp,\n",
      "C:\\Users\\amyrm\\AppData\\Local\\Temp\\ipykernel_12040\\3892097099.py:60: RuntimeWarning: invalid value encountered in log\n",
      "  density_k2020 = coeffs[0] + coeffs[1] * np.log(scaled_force_median) \\\n",
      "C:\\Users\\amyrm\\AppData\\Local\\Temp\\ipykernel_12040\\3892097099.py:61: RuntimeWarning: invalid value encountered in log\n",
      "  + coeffs[2] * np.log(scaled_force_median) * scaled_l \\\n",
      "C:\\Users\\amyrm\\AppData\\Local\\Temp\\ipykernel_12040\\3892097099.py:90: DeprecationWarning: Conversion of an array with ndim > 0 to a scalar is deprecated, and will error in future. Ensure you extract a single element from your array before performing this operation. (Deprecated NumPy 1.25.)\n",
      "  ax2.plot(scaled_profiles[int(min_scaling_idx)][1],\n",
      "C:\\Users\\amyrm\\AppData\\Local\\Temp\\ipykernel_12040\\3892097099.py:91: DeprecationWarning: Conversion of an array with ndim > 0 to a scalar is deprecated, and will error in future. Ensure you extract a single element from your array before performing this operation. (Deprecated NumPy 1.25.)\n",
      "  scaled_profiles[int(min_scaling_idx)][0], color = 'k')\n",
      "C:\\Users\\amyrm\\AppData\\Local\\Temp\\ipykernel_12040\\3892097099.py:101: DeprecationWarning: Conversion of an array with ndim > 0 to a scalar is deprecated, and will error in future. Ensure you extract a single element from your array before performing this operation. (Deprecated NumPy 1.25.)\n",
      "  ax3.plot(density_k2020 ,scaled_profiles[int(min_scaling_idx)][0],\n"
     ]
    },
    {
     "name": "stdout",
     "output_type": "stream",
     "text": [
      "PS122-3_37-22\n",
      "i= 37\n",
      "S49M2538\n"
     ]
    },
    {
     "name": "stderr",
     "output_type": "stream",
     "text": [
      "C:\\Users\\amyrm\\anaconda3\\Lib\\site-packages\\pandas\\core\\arraylike.py:399: RuntimeWarning: invalid value encountered in log\n",
      "  result = getattr(ufunc, method)(*inputs, **kwargs)\n",
      "C:\\Users\\amyrm\\anaconda3\\Lib\\site-packages\\numpy\\lib\\function_base.py:520: RuntimeWarning: Mean of empty slice.\n",
      "  avg = a.mean(axis, **keepdims_kw)\n",
      "C:\\Users\\amyrm\\anaconda3\\Lib\\site-packages\\numpy\\core\\_methods.py:121: RuntimeWarning: invalid value encountered in divide\n",
      "  ret = um.true_divide(\n",
      "C:\\Users\\amyrm\\anaconda3\\Lib\\site-packages\\numpy\\lib\\function_base.py:2889: RuntimeWarning: Degrees of freedom <= 0 for slice\n",
      "  c = cov(x, y, rowvar, dtype=dtype)\n",
      "C:\\Users\\amyrm\\anaconda3\\Lib\\site-packages\\numpy\\lib\\function_base.py:2748: RuntimeWarning: divide by zero encountered in divide\n",
      "  c *= np.true_divide(1, fact)\n",
      "C:\\Users\\amyrm\\anaconda3\\Lib\\site-packages\\numpy\\lib\\function_base.py:2748: RuntimeWarning: invalid value encountered in multiply\n",
      "  c *= np.true_divide(1, fact)\n",
      "C:\\Users\\amyrm\\Documents\\GitHub\\SMP-Sea-Ice\\smpfunc.py:133: RuntimeWarning: invalid value encountered in scalar divide\n",
      "  mae = np.sum(np.abs(result['mean_samp']-result['RHO']))/np.ma.count(result['RHO'])\n",
      "C:\\Users\\amyrm\\AppData\\Local\\Temp\\ipykernel_12040\\3892097099.py:42: DeprecationWarning: Conversion of an array with ndim > 0 to a scalar is deprecated, and will error in future. Ensure you extract a single element from your array before performing this operation. (Deprecated NumPy 1.25.)\n",
      "  min_scaling_coeff = random_tests[int(min_scaling_idx)]\n",
      "C:\\Users\\amyrm\\AppData\\Local\\Temp\\ipykernel_12040\\3892097099.py:47: DeprecationWarning: Conversion of an array with ndim > 0 to a scalar is deprecated, and will error in future. Ensure you extract a single element from your array before performing this operation. (Deprecated NumPy 1.25.)\n",
      "  result = compare_profiles[int(min_scaling_idx)].assign(l=smpfunc.extract_samples(dist, scaled_l, density_df.relative_height.values, CUTTER_SIZE).mean_samp,\n",
      "C:\\Users\\amyrm\\AppData\\Local\\Temp\\ipykernel_12040\\3892097099.py:60: RuntimeWarning: invalid value encountered in log\n",
      "  density_k2020 = coeffs[0] + coeffs[1] * np.log(scaled_force_median) \\\n",
      "C:\\Users\\amyrm\\AppData\\Local\\Temp\\ipykernel_12040\\3892097099.py:61: RuntimeWarning: invalid value encountered in log\n",
      "  + coeffs[2] * np.log(scaled_force_median) * scaled_l \\\n",
      "C:\\Users\\amyrm\\AppData\\Local\\Temp\\ipykernel_12040\\3892097099.py:90: DeprecationWarning: Conversion of an array with ndim > 0 to a scalar is deprecated, and will error in future. Ensure you extract a single element from your array before performing this operation. (Deprecated NumPy 1.25.)\n",
      "  ax2.plot(scaled_profiles[int(min_scaling_idx)][1],\n",
      "C:\\Users\\amyrm\\AppData\\Local\\Temp\\ipykernel_12040\\3892097099.py:91: DeprecationWarning: Conversion of an array with ndim > 0 to a scalar is deprecated, and will error in future. Ensure you extract a single element from your array before performing this operation. (Deprecated NumPy 1.25.)\n",
      "  scaled_profiles[int(min_scaling_idx)][0], color = 'k')\n",
      "C:\\Users\\amyrm\\AppData\\Local\\Temp\\ipykernel_12040\\3892097099.py:101: DeprecationWarning: Conversion of an array with ndim > 0 to a scalar is deprecated, and will error in future. Ensure you extract a single element from your array before performing this operation. (Deprecated NumPy 1.25.)\n",
      "  ax3.plot(density_k2020 ,scaled_profiles[int(min_scaling_idx)][0],\n"
     ]
    },
    {
     "name": "stdout",
     "output_type": "stream",
     "text": [
      "PS122-3_37-39\n",
      "i= 38\n",
      "S49M2556\n"
     ]
    },
    {
     "name": "stderr",
     "output_type": "stream",
     "text": [
      "C:\\Users\\amyrm\\anaconda3\\Lib\\site-packages\\numpy\\lib\\function_base.py:520: RuntimeWarning: Mean of empty slice.\n",
      "  avg = a.mean(axis, **keepdims_kw)\n",
      "C:\\Users\\amyrm\\anaconda3\\Lib\\site-packages\\numpy\\core\\_methods.py:121: RuntimeWarning: invalid value encountered in divide\n",
      "  ret = um.true_divide(\n",
      "C:\\Users\\amyrm\\anaconda3\\Lib\\site-packages\\numpy\\lib\\function_base.py:2889: RuntimeWarning: Degrees of freedom <= 0 for slice\n",
      "  c = cov(x, y, rowvar, dtype=dtype)\n",
      "C:\\Users\\amyrm\\anaconda3\\Lib\\site-packages\\numpy\\lib\\function_base.py:2748: RuntimeWarning: divide by zero encountered in divide\n",
      "  c *= np.true_divide(1, fact)\n",
      "C:\\Users\\amyrm\\anaconda3\\Lib\\site-packages\\numpy\\lib\\function_base.py:2748: RuntimeWarning: invalid value encountered in multiply\n",
      "  c *= np.true_divide(1, fact)\n",
      "C:\\Users\\amyrm\\Documents\\GitHub\\SMP-Sea-Ice\\smpfunc.py:133: RuntimeWarning: invalid value encountered in scalar divide\n",
      "  mae = np.sum(np.abs(result['mean_samp']-result['RHO']))/np.ma.count(result['RHO'])\n",
      "C:\\Users\\amyrm\\AppData\\Local\\Temp\\ipykernel_12040\\3892097099.py:42: DeprecationWarning: Conversion of an array with ndim > 0 to a scalar is deprecated, and will error in future. Ensure you extract a single element from your array before performing this operation. (Deprecated NumPy 1.25.)\n",
      "  min_scaling_coeff = random_tests[int(min_scaling_idx)]\n",
      "C:\\Users\\amyrm\\AppData\\Local\\Temp\\ipykernel_12040\\3892097099.py:47: DeprecationWarning: Conversion of an array with ndim > 0 to a scalar is deprecated, and will error in future. Ensure you extract a single element from your array before performing this operation. (Deprecated NumPy 1.25.)\n",
      "  result = compare_profiles[int(min_scaling_idx)].assign(l=smpfunc.extract_samples(dist, scaled_l, density_df.relative_height.values, CUTTER_SIZE).mean_samp,\n",
      "C:\\Users\\amyrm\\AppData\\Local\\Temp\\ipykernel_12040\\3892097099.py:90: DeprecationWarning: Conversion of an array with ndim > 0 to a scalar is deprecated, and will error in future. Ensure you extract a single element from your array before performing this operation. (Deprecated NumPy 1.25.)\n",
      "  ax2.plot(scaled_profiles[int(min_scaling_idx)][1],\n",
      "C:\\Users\\amyrm\\AppData\\Local\\Temp\\ipykernel_12040\\3892097099.py:91: DeprecationWarning: Conversion of an array with ndim > 0 to a scalar is deprecated, and will error in future. Ensure you extract a single element from your array before performing this operation. (Deprecated NumPy 1.25.)\n",
      "  scaled_profiles[int(min_scaling_idx)][0], color = 'k')\n",
      "C:\\Users\\amyrm\\AppData\\Local\\Temp\\ipykernel_12040\\3892097099.py:101: DeprecationWarning: Conversion of an array with ndim > 0 to a scalar is deprecated, and will error in future. Ensure you extract a single element from your array before performing this operation. (Deprecated NumPy 1.25.)\n",
      "  ax3.plot(density_k2020 ,scaled_profiles[int(min_scaling_idx)][0],\n"
     ]
    },
    {
     "name": "stdout",
     "output_type": "stream",
     "text": [
      "PS122-3_37-41\n",
      "i= 39\n",
      "S49M2576\n"
     ]
    },
    {
     "name": "stderr",
     "output_type": "stream",
     "text": [
      "C:\\Users\\amyrm\\anaconda3\\Lib\\site-packages\\numpy\\lib\\function_base.py:520: RuntimeWarning: Mean of empty slice.\n",
      "  avg = a.mean(axis, **keepdims_kw)\n",
      "C:\\Users\\amyrm\\anaconda3\\Lib\\site-packages\\numpy\\core\\_methods.py:121: RuntimeWarning: invalid value encountered in divide\n",
      "  ret = um.true_divide(\n",
      "C:\\Users\\amyrm\\anaconda3\\Lib\\site-packages\\numpy\\lib\\function_base.py:2889: RuntimeWarning: Degrees of freedom <= 0 for slice\n",
      "  c = cov(x, y, rowvar, dtype=dtype)\n",
      "C:\\Users\\amyrm\\anaconda3\\Lib\\site-packages\\numpy\\lib\\function_base.py:2748: RuntimeWarning: divide by zero encountered in divide\n",
      "  c *= np.true_divide(1, fact)\n",
      "C:\\Users\\amyrm\\anaconda3\\Lib\\site-packages\\numpy\\lib\\function_base.py:2748: RuntimeWarning: invalid value encountered in multiply\n",
      "  c *= np.true_divide(1, fact)\n",
      "C:\\Users\\amyrm\\Documents\\GitHub\\SMP-Sea-Ice\\smpfunc.py:133: RuntimeWarning: invalid value encountered in scalar divide\n",
      "  mae = np.sum(np.abs(result['mean_samp']-result['RHO']))/np.ma.count(result['RHO'])\n",
      "C:\\Users\\amyrm\\AppData\\Local\\Temp\\ipykernel_12040\\3892097099.py:42: DeprecationWarning: Conversion of an array with ndim > 0 to a scalar is deprecated, and will error in future. Ensure you extract a single element from your array before performing this operation. (Deprecated NumPy 1.25.)\n",
      "  min_scaling_coeff = random_tests[int(min_scaling_idx)]\n",
      "C:\\Users\\amyrm\\AppData\\Local\\Temp\\ipykernel_12040\\3892097099.py:47: DeprecationWarning: Conversion of an array with ndim > 0 to a scalar is deprecated, and will error in future. Ensure you extract a single element from your array before performing this operation. (Deprecated NumPy 1.25.)\n",
      "  result = compare_profiles[int(min_scaling_idx)].assign(l=smpfunc.extract_samples(dist, scaled_l, density_df.relative_height.values, CUTTER_SIZE).mean_samp,\n",
      "C:\\Users\\amyrm\\AppData\\Local\\Temp\\ipykernel_12040\\3892097099.py:90: DeprecationWarning: Conversion of an array with ndim > 0 to a scalar is deprecated, and will error in future. Ensure you extract a single element from your array before performing this operation. (Deprecated NumPy 1.25.)\n",
      "  ax2.plot(scaled_profiles[int(min_scaling_idx)][1],\n",
      "C:\\Users\\amyrm\\AppData\\Local\\Temp\\ipykernel_12040\\3892097099.py:91: DeprecationWarning: Conversion of an array with ndim > 0 to a scalar is deprecated, and will error in future. Ensure you extract a single element from your array before performing this operation. (Deprecated NumPy 1.25.)\n",
      "  scaled_profiles[int(min_scaling_idx)][0], color = 'k')\n",
      "C:\\Users\\amyrm\\AppData\\Local\\Temp\\ipykernel_12040\\3892097099.py:101: DeprecationWarning: Conversion of an array with ndim > 0 to a scalar is deprecated, and will error in future. Ensure you extract a single element from your array before performing this operation. (Deprecated NumPy 1.25.)\n",
      "  ax3.plot(density_k2020 ,scaled_profiles[int(min_scaling_idx)][0],\n"
     ]
    },
    {
     "name": "stdout",
     "output_type": "stream",
     "text": [
      "PS122-3_37-58\n"
     ]
    },
    {
     "data": {
      "text/plain": [
       "<Figure size 1000x800 with 0 Axes>"
      ]
     },
     "metadata": {},
     "output_type": "display_data"
    },
    {
     "data": {
      "text/plain": [
       "<Figure size 1000x800 with 0 Axes>"
      ]
     },
     "metadata": {},
     "output_type": "display_data"
    },
    {
     "data": {
      "text/plain": [
       "<Figure size 1000x800 with 0 Axes>"
      ]
     },
     "metadata": {},
     "output_type": "display_data"
    },
    {
     "data": {
      "text/plain": [
       "<Figure size 1000x800 with 0 Axes>"
      ]
     },
     "metadata": {},
     "output_type": "display_data"
    },
    {
     "data": {
      "text/plain": [
       "<Figure size 1000x800 with 0 Axes>"
      ]
     },
     "metadata": {},
     "output_type": "display_data"
    },
    {
     "data": {
      "text/plain": [
       "<Figure size 1000x800 with 0 Axes>"
      ]
     },
     "metadata": {},
     "output_type": "display_data"
    },
    {
     "data": {
      "text/plain": [
       "<Figure size 1000x800 with 0 Axes>"
      ]
     },
     "metadata": {},
     "output_type": "display_data"
    },
    {
     "data": {
      "text/plain": [
       "<Figure size 1000x800 with 0 Axes>"
      ]
     },
     "metadata": {},
     "output_type": "display_data"
    },
    {
     "data": {
      "text/plain": [
       "<Figure size 1000x800 with 0 Axes>"
      ]
     },
     "metadata": {},
     "output_type": "display_data"
    },
    {
     "data": {
      "text/plain": [
       "<Figure size 1000x800 with 0 Axes>"
      ]
     },
     "metadata": {},
     "output_type": "display_data"
    },
    {
     "data": {
      "text/plain": [
       "<Figure size 1000x800 with 0 Axes>"
      ]
     },
     "metadata": {},
     "output_type": "display_data"
    },
    {
     "data": {
      "text/plain": [
       "<Figure size 1000x800 with 0 Axes>"
      ]
     },
     "metadata": {},
     "output_type": "display_data"
    },
    {
     "data": {
      "text/plain": [
       "<Figure size 1000x800 with 0 Axes>"
      ]
     },
     "metadata": {},
     "output_type": "display_data"
    },
    {
     "data": {
      "text/plain": [
       "<Figure size 1000x800 with 0 Axes>"
      ]
     },
     "metadata": {},
     "output_type": "display_data"
    },
    {
     "data": {
      "text/plain": [
       "<Figure size 1000x800 with 0 Axes>"
      ]
     },
     "metadata": {},
     "output_type": "display_data"
    },
    {
     "data": {
      "text/plain": [
       "<Figure size 1000x800 with 0 Axes>"
      ]
     },
     "metadata": {},
     "output_type": "display_data"
    },
    {
     "data": {
      "text/plain": [
       "<Figure size 1000x800 with 0 Axes>"
      ]
     },
     "metadata": {},
     "output_type": "display_data"
    },
    {
     "data": {
      "text/plain": [
       "<Figure size 1000x800 with 0 Axes>"
      ]
     },
     "metadata": {},
     "output_type": "display_data"
    },
    {
     "data": {
      "text/plain": [
       "<Figure size 1000x800 with 0 Axes>"
      ]
     },
     "metadata": {},
     "output_type": "display_data"
    },
    {
     "data": {
      "text/plain": [
       "<Figure size 1000x800 with 0 Axes>"
      ]
     },
     "metadata": {},
     "output_type": "display_data"
    },
    {
     "data": {
      "text/plain": [
       "<Figure size 1000x800 with 0 Axes>"
      ]
     },
     "metadata": {},
     "output_type": "display_data"
    },
    {
     "data": {
      "text/plain": [
       "<Figure size 1000x800 with 0 Axes>"
      ]
     },
     "metadata": {},
     "output_type": "display_data"
    },
    {
     "data": {
      "text/plain": [
       "<Figure size 1000x800 with 0 Axes>"
      ]
     },
     "metadata": {},
     "output_type": "display_data"
    },
    {
     "data": {
      "text/plain": [
       "<Figure size 1000x800 with 0 Axes>"
      ]
     },
     "metadata": {},
     "output_type": "display_data"
    },
    {
     "data": {
      "text/plain": [
       "<Figure size 1000x800 with 0 Axes>"
      ]
     },
     "metadata": {},
     "output_type": "display_data"
    },
    {
     "data": {
      "text/plain": [
       "<Figure size 1000x800 with 0 Axes>"
      ]
     },
     "metadata": {},
     "output_type": "display_data"
    },
    {
     "data": {
      "text/plain": [
       "<Figure size 1000x800 with 0 Axes>"
      ]
     },
     "metadata": {},
     "output_type": "display_data"
    },
    {
     "data": {
      "text/plain": [
       "<Figure size 1000x800 with 0 Axes>"
      ]
     },
     "metadata": {},
     "output_type": "display_data"
    },
    {
     "data": {
      "text/plain": [
       "<Figure size 1000x800 with 0 Axes>"
      ]
     },
     "metadata": {},
     "output_type": "display_data"
    },
    {
     "data": {
      "text/plain": [
       "<Figure size 1000x800 with 0 Axes>"
      ]
     },
     "metadata": {},
     "output_type": "display_data"
    },
    {
     "data": {
      "text/plain": [
       "<Figure size 1000x800 with 0 Axes>"
      ]
     },
     "metadata": {},
     "output_type": "display_data"
    },
    {
     "data": {
      "text/plain": [
       "<Figure size 1000x800 with 0 Axes>"
      ]
     },
     "metadata": {},
     "output_type": "display_data"
    },
    {
     "data": {
      "text/plain": [
       "<Figure size 1000x800 with 0 Axes>"
      ]
     },
     "metadata": {},
     "output_type": "display_data"
    }
   ],
   "source": [
    "for i in range(7,len(smp_data)):\n",
    "    smp = smp_data[i]\n",
    "    print('i= '+ str(i))\n",
    "    smp_file_num = str(smp.name)\n",
    "    print(smp_file_num)\n",
    "    pit_df  = pit_summary[pit_summary['SMPF'] == smp_file_num] # Select the matching pit\n",
    "    density_df = pit_desnity[pit_desnity['ID'] == pit_df['ID'].values[0]]\n",
    "    \n",
    "    density_df = density_df.assign(relative_height=np.abs(((density_df['TOP']) - CUTTER_SIZE) - density_df['TOP'].max()).values) ## removed *10 here!\n",
    "    # Make first guess at microstructure based on original profile\n",
    "    # l2012 = loewe2012.calc(smp.samples_within_snowpack(), window=WINDOW_SIZE)\n",
    "    # p2015 = proksch2015.calc(smp.samples_within_snowpack(), window=WINDOW_SIZE)\n",
    "    p2015 = loewe2012.calc(smp.samples_within_snowpack(), window=WINDOW_SIZE, overlap=50)\n",
    "    p2015['P2015_density']  = 312.54 + (50.27  * np.log(p2015.force_median)) + (-50.26 * np.log(p2015.force_median)  * p2015.L2012_L ) + (-85.35 * p2015.L2012_L)\n",
    "    \n",
    "    \n",
    "    # Estimate offset of the snow depth and SMP profile\n",
    "    smp_profile_height = p2015.distance.max()\n",
    "    smp_height_diff = 0 #pit_df.MPD.values*1000 - smp_profile_height\n",
    "    \n",
    "    # Create new SMP resampled arrays and determine the number of layers\n",
    "    depth_array = np.arange(0, p2015.distance.max() + smp_height_diff, H_RESAMPLE)\n",
    "    density_array = np.interp(depth_array,p2015.distance,p2015.P2015_density)\n",
    "    force_array = np.interp(depth_array,p2015.distance,p2015.force_median)\n",
    "    l_array = np.interp(depth_array,p2015.distance,p2015.L2012_L)\n",
    "    \n",
    "    smp_df = pd.DataFrame({'distance': depth_array, \n",
    "                           'density': density_array,\n",
    "                           'force_median': force_array,\n",
    "                           'l': l_array})\n",
    "    \n",
    "    num_sections = np.ceil(len(smp_df.index)/L_RESAMPLE).astype(int)\n",
    "    random_tests = [smpfunc.random_stretch(x, MAX_STRETCH_OVERALL, MAX_STRETCH_LAYER) for x in np.repeat(num_sections, NUM_TESTS)] \n",
    "    \n",
    "    scaled_profiles = [smpfunc.scale_profile(test, smp_df.distance.values, smp_df.density.values, L_RESAMPLE, H_RESAMPLE) for test in random_tests]\n",
    "    compare_profiles = [smpfunc.extract_samples(dist, rho, density_df.relative_height.values, CUTTER_SIZE) for dist, rho in scaled_profiles]\n",
    "    compare_profiles = [pd.concat([profile, density_df.reset_index()], axis=1, sort=False) for profile in compare_profiles]\n",
    "    retrieved_skill = [smpfunc.calc_skill(profile, CUTTER_SIZE) for profile in compare_profiles]\n",
    "    retrieved_skill = pd.DataFrame(retrieved_skill,columns = ['r','rmse','rmse_corr','mae'])\n",
    "\n",
    "    min_scaling_idx = retrieved_skill.sort_values(['r', 'rmse_corr'], ascending=[False, True]).head(1).index.values\n",
    "    min_scaling_coeff = random_tests[int(min_scaling_idx)]\n",
    "    \n",
    "    dist, scaled_l =  smpfunc.scale_profile(min_scaling_coeff, smp_df.distance.values, smp_df.l.values, L_RESAMPLE, H_RESAMPLE)\n",
    "    dist, scaled_force_median = smpfunc.scale_profile(min_scaling_coeff, smp_df.distance.values, smp_df.force_median.values, L_RESAMPLE, H_RESAMPLE)\n",
    "    \n",
    "    result = compare_profiles[int(min_scaling_idx)].assign(l=smpfunc.extract_samples(dist, scaled_l, density_df.relative_height.values, CUTTER_SIZE).mean_samp,\n",
    "                                              force_median=smpfunc.extract_samples(dist, scaled_force_median, density_df.relative_height.values, CUTTER_SIZE).mean_samp)\n",
    "\n",
    "\n",
    "    layer_thickness_scaled = L_RESAMPLE + (min_scaling_coeff * L_RESAMPLE)\n",
    "    layer_height_scalled = layer_thickness_scaled.cumsum()\n",
    "    \n",
    "    layer_thickness = np.repeat(L_RESAMPLE, num_sections)\n",
    "    layer_height = layer_thickness.cumsum()\n",
    "\n",
    "    # Change in thickness\n",
    "    # print((depth_array.max() - layer_thickness_scaled.sum())/depth_array.max())\n",
    "\n",
    "    density_k2020 = coeffs[0] + coeffs[1] * np.log(scaled_force_median) \\\n",
    "          + coeffs[2] * np.log(scaled_force_median) * scaled_l \\\n",
    "          + coeffs[3] * scaled_l\n",
    "\n",
    "    ## Plot figure!!!!!!!!!!\n",
    "\n",
    "    f, (ax1, ax2, ax3) = plt.subplots(1, 3, sharey=True, figsize=(10,8))\n",
    "\n",
    "    ax1.tick_params(axis='both', which='major', labelsize=axis_value_size)\n",
    "    ax2.tick_params(axis='both', which='major', labelsize=axis_value_size)\n",
    "    \n",
    "    xmax = 700\n",
    "    xmin = 100\n",
    "    \n",
    "    for l in layer_height:\n",
    "        ax1.axhline(y=l, color = 'k', alpha = 0.5, ls = 'dashed')\n",
    "    \n",
    "    ax1.step(result.RHO, result.relative_height, color = 'r') ## WHY result.relative_height-15 here??\n",
    "    ax2.step(result.RHO, result.relative_height, color = 'r')\n",
    "    ax3.step(result.RHO, result.relative_height, color = 'r', \n",
    "             label =  r'$\\rho_{\\mathrm{pit}}$')\n",
    "    \n",
    "    ax1.plot(density_array, depth_array, color = 'k')\n",
    "    \n",
    "    for l in layer_height_scalled:\n",
    "        ax2.axhline(y=l, color = 'k', alpha = 0.5, ls = 'dashed')\n",
    "        ax3.axhline(y=l, color = 'k', alpha = 0.5, ls = 'dashed')\n",
    "    \n",
    "    \n",
    "        \n",
    "    ax2.plot(scaled_profiles[int(min_scaling_idx)][1],\n",
    "             scaled_profiles[int(min_scaling_idx)][0], color = 'k')\n",
    "    \n",
    "    \n",
    "    for i in np.arange(0, len(layer_height)-1):\n",
    "        xy = (xmin, layer_height_scalled[i])\n",
    "        xy1 = (xmax,layer_height[i])\n",
    "        con = ConnectionPatch(xyA=xy, xyB=xy1, coordsA=\"data\", coordsB=\"data\",\n",
    "                           axesA=ax2, axesB=ax1, color=\"k\", alpha = 0.5, ls = 'dashed')\n",
    "        ax2.add_artist(con)\n",
    "        \n",
    "    ax3.plot(density_k2020 ,scaled_profiles[int(min_scaling_idx)][0], \n",
    "             color = 'k', label = r'$\\rho_{\\mathrm{smp}}$')\n",
    "    \n",
    "    # ax1.set_ylim(0,600)\n",
    "    \n",
    "    ax1.set_xlim(xmin,xmax)\n",
    "    ax2.set_xlim(xmin,xmax)\n",
    "    ax3.set_xlim(xmin,xmax)\n",
    "    \n",
    "    ax3.axhline(y=l, color = 'k', alpha = 0.5, ls = 'dashed', label = 'Layer')\n",
    "    \n",
    "    ax1.set_ylabel('Depth below air-snow interface [mm]', fontsize=axis_label_size)\n",
    "    ax2.set_xlabel('Snow density [kg m$\\mathregular{^{-3}}$]', fontsize=axis_label_size)\n",
    "    ax1.set_title('(a) First guess')\n",
    "    ax2.set_title('(b) Layer scaled')\n",
    "    ax3.set_title('(c) Calibrated')\n",
    "    \n",
    "    ax1.invert_yaxis()\n",
    "    ax2.invert_yaxis()\n",
    "    ax3.invert_yaxis()\n",
    "    \n",
    "    ax3.legend(fontsize=12, facecolor='white', framealpha=1)\n",
    "    event=result.ID.iloc[0].replace(\"/\", \"-\")\n",
    "    print(event)\n",
    "    plt.suptitle(event)\n",
    "    \n",
    "    f.savefig('./output/figures/event_Fig03_matching_lowres/'+event+'.png', format='png')\n",
    "    f.savefig('./output/figures/event_Fig03_matching_lowres/'+event+'.pdf', format='pdf', dpi = 300)\n",
    "    f.clf()"
   ]
  },
  {
   "cell_type": "markdown",
   "metadata": {},
   "source": [
    "#### Figure 3 with caption\n",
    "\n",
    "<img src=\"./output/figures/Fig03_matching_lowres.png\" alt=\"Figure 3\" style=\"width: 500px;\"/>\n",
    "\n",
    "#### Example of the SMP processing workflow to align first guess estimates of ρ_smp (Black lines) and snow pit measurements  (Red lines). Profiles are divided in arbitrary layers of 5 cm and randomly scaled in thickness. A best fit candidate is selected where RMSE between the snow density estimates and observations are minimized. The matching process is used to account for differences in the target snowpack between the two methods. The example shown is for Eureka site 5 on MYI."
   ]
  },
  {
   "cell_type": "code",
   "execution_count": null,
   "metadata": {},
   "outputs": [],
   "source": [
    "# Correlation after alignment\n",
    "np.corrcoef(result.RHO, result.mean_samp)[1][0]"
   ]
  },
  {
   "cell_type": "code",
   "execution_count": null,
   "metadata": {},
   "outputs": [],
   "source": [
    "# RMSE after alignment\n",
    "np.sqrt(np.mean(result.RHO-result.mean_samp)**2)"
   ]
  },
  {
   "cell_type": "code",
   "execution_count": null,
   "metadata": {},
   "outputs": [],
   "source": []
  }
 ],
 "metadata": {
  "kernelspec": {
   "display_name": "Python 3 (ipykernel)",
   "language": "python",
   "name": "python3"
  },
  "language_info": {
   "codemirror_mode": {
    "name": "ipython",
    "version": 3
   },
   "file_extension": ".py",
   "mimetype": "text/x-python",
   "name": "python",
   "nbconvert_exporter": "python",
   "pygments_lexer": "ipython3",
   "version": "3.11.5"
  }
 },
 "nbformat": 4,
 "nbformat_minor": 4
}
