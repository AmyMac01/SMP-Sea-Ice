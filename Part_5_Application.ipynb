{
 "cells": [
  {
   "cell_type": "markdown",
   "metadata": {},
   "source": [
    "# Simulating density errors in wide-band FMCW and freeboard retrievals"
   ]
  },
  {
   "cell_type": "code",
   "execution_count": 1,
   "metadata": {},
   "outputs": [],
   "source": [
    "import os\n",
    "import pickle\n",
    "import pandas as pd\n",
    "import numpy as np\n",
    "from matplotlib import pyplot as plt\n",
    "from pyproj import Proj\n",
    "\n",
    "C = 299792458 #Vacuum speed of light\n",
    "\n",
    "# Plot settings\n",
    "axis_value_size = 12\n",
    "axis_label_size = 14"
   ]
  },
  {
   "cell_type": "code",
   "execution_count": 2,
   "metadata": {},
   "outputs": [],
   "source": [
    "# W99 Constants and methods\n",
    "# I've adapted Stefan Hendricks' approach to W99 estimates \n",
    "# Full credit to Stefan for code within this cell\n",
    "# see https://github.com/shendric/pysiral\n",
    "\n",
    "sd_coefs = np.array([\n",
    "        [28.01, 0.1270, -1.1833, -0.1164, -0.0051, 0.0243, 7.6, -0.06, 0.07, 4.6],\n",
    "        [30.28, 0.1056, -0.5908, -0.0263, -0.0049, 0.0044, 7.9, -0.06, 0.08, 5.5],\n",
    "        [33.89, 0.5486, -0.1996, 0.0280, 0.0216, -0.0176, 9.4, -0.04, 0.10, 6.2],\n",
    "        [36.80, 0.4046, -0.4005, 0.0256, 0.0024, -0.0641, 9.4, -0.09, 0.09, 6.1],\n",
    "        [36.93, 0.0214, -1.1795, -0.1076, -0.0244, -0.0142, 10.6, -0.21, 0.09, 6.3],\n",
    "        [36.59, 0.7021, -1.4819, -0.1195, -0.0009, -0.0603, 14.1, -0.16, 0.12, 8.1],\n",
    "        [11.02, 0.3008, -1.2591, -0.0811, -0.0043, -0.0959, 9.5, 0.02, 0.10, 6.7],\n",
    "        [4.64, 0.3100, -0.6350, -0.0655, 0.0059, -0.0005, 4.6, -0.01, 0.05, 3.3],\n",
    "        [15.81, 0.2119, -1.0292, -0.0868, -0.0177, -0.0723, 7.8, -0.03, 0.06, 3.8],\n",
    "        [22.66, 0.3594, -1.3483, -0.1063, 0.0051, -0.0577, 8.0, -0.08, 0.06, 4.0],\n",
    "        [25.57, 0.1496, -1.4643, -0.1409, -0.0079, -0.0258, 7.9, -0.05, 0.07, 4.3],\n",
    "        [26.67, -0.1876, -1.4229, -0.1413, -0.0316, -0.0029, 8.2, -0.06, 0.07, 4.8]])\n",
    "\n",
    "swe_coefs = np.array([\n",
    "        [8.37, -0.0270, -0.3400, -0.0319, -0.0056, -0.0005, 2.5, -0.005, 0.024, 1.6],\n",
    "        [9.43, 0.0058, -0.1309, 0.0017, -0.0021, -0.0072, 2.6, -0.007, 0.028, 1.8],\n",
    "        [10.74, 0.1618, 0.0276, 0.0213, 0.0076, -0.0125, 3.1, 0.007, 0.032, 2.1],\n",
    "        [11.67, 0.0841, -0.1328, 0.0081, -0.0003, -0.0301, 3.2, -0.013, 0.032, 2.1],\n",
    "        [11.80, -0.0043, -0.4284, -0.0380, -0.0071, -0.0063, 3.5, -0.047, 0.033, 2.2],\n",
    "        [12.48, 0.2084, -0.5739, -0.0468, -0.0023, -0.0253, 4.9, -0.030, 0.044, 2.9],\n",
    "        [4.01, 0.0970, -0.4930, -0.0333, -0.0026, -0.0343, 3.5, 0.008, 0.037, 2.4],\n",
    "        [1.08, 0.0712, -0.1450, -0.0155, 0.0014, -0.0000, 1.1, -0.001, 0.012, 0.8],\n",
    "        [3.84, 0.0393, -0.2107, -0.0182, -0.0053, -0.0190, 2.0, -0.003, 0.016, 1.0],\n",
    "        [6.24, 0.1158, -0.2803, -0.0215, 0.0015, -0.0176, 2.3, -0.005, 0.021, 1.4],\n",
    "        [7.54, 0.0567, -0.3201, -0.0284, -0.0032, -0.0129, 2.4, -0.000, 0.023, 1.5],\n",
    "        [8.00, -0.0540, -0.3650, -0.0362, -0.0112, -0.0035, 2.5, -0.003, 0.024, 1.5]])\n",
    "\n",
    "def get_sd_coefs(month):\n",
    "    return sd_coefs[month-1, 0:6]\n",
    "\n",
    "def get_swe_coefs(month):\n",
    "    return swe_coefs[month-1, 0:6]\n",
    "\n",
    "def get_snow_depth(month, l2x, l2y):\n",
    "        sd = get_sd_coefs(month)\n",
    "        snow_depth = sd[0] + sd[1]*l2x + sd[2]*l2y + sd[3]*l2x*l2y + sd[4]*l2x*l2x + sd[5]*l2y*l2y\n",
    "        snow_depth *= 0.01\n",
    "        return snow_depth\n",
    "    \n",
    "def get_snow_density(snow_depth, month, l2x, l2y):\n",
    "        # get snow water equivalent coefs\n",
    "        swe = get_swe_coefs(month)\n",
    "        snow_water_equivalent = swe[0] + swe[1]*l2x + swe[2]*l2y + swe[3]*l2x*l2y + swe[4]*l2x*l2x + swe[5]*l2y*l2y\n",
    "        snow_water_equivalent *= 0.01\n",
    "\n",
    "        # Convert sd and swe to snow density\n",
    "        snow_density = snow_water_equivalent/snow_depth*water_density\n",
    "        return snow_density\n",
    "    \n",
    "earth_radius = 6371000.8\n",
    "water_density = 1024.0"
   ]
  },
  {
   "cell_type": "code",
   "execution_count": 3,
   "metadata": {},
   "outputs": [],
   "source": [
    "def snow_refractive_index(snow_density, perm_ice = 3.15):\n",
    "    perm_snow = (1 + 0.51 * snow_density/1000) ** 3\n",
    "    n_snow = np.sqrt(perm_snow) # Permittivity to refractive index\n",
    "    return n_snow"
   ]
  },
  {
   "cell_type": "code",
   "execution_count": 4,
   "metadata": {},
   "outputs": [],
   "source": [
    "def c_in_snow(snow_density, C = 299792458):\n",
    "    return C*((1+0.51*snow_density/1000)**(-1.5))"
   ]
  },
  {
   "cell_type": "code",
   "execution_count": 5,
   "metadata": {},
   "outputs": [
    {
     "data": {
      "text/html": [
       "<div>\n",
       "<style scoped>\n",
       "    .dataframe tbody tr th:only-of-type {\n",
       "        vertical-align: middle;\n",
       "    }\n",
       "\n",
       "    .dataframe tbody tr th {\n",
       "        vertical-align: top;\n",
       "    }\n",
       "\n",
       "    .dataframe thead th {\n",
       "        text-align: right;\n",
       "    }\n",
       "</style>\n",
       "<table border=\"1\" class=\"dataframe\">\n",
       "  <thead>\n",
       "    <tr style=\"text-align: right;\">\n",
       "      <th></th>\n",
       "      <th>file_name</th>\n",
       "      <th>site_name</th>\n",
       "      <th>ice_type</th>\n",
       "      <th>latitude</th>\n",
       "      <th>longitude</th>\n",
       "      <th>penetration</th>\n",
       "      <th>density_f</th>\n",
       "      <th>density_h</th>\n",
       "      <th>density_r</th>\n",
       "      <th>fraction_f</th>\n",
       "      <th>fraction_h</th>\n",
       "      <th>fraction_r</th>\n",
       "      <th>mean_weighted_density</th>\n",
       "    </tr>\n",
       "  </thead>\n",
       "  <tbody>\n",
       "    <tr>\n",
       "      <th>0</th>\n",
       "      <td>S34M1840</td>\n",
       "      <td>Alert_2_MYI</td>\n",
       "      <td>MYI</td>\n",
       "      <td>83.983345</td>\n",
       "      <td>-66.351509</td>\n",
       "      <td>501.816095</td>\n",
       "      <td>351.309129</td>\n",
       "      <td>233.568333</td>\n",
       "      <td>319.221392</td>\n",
       "      <td>0.368159</td>\n",
       "      <td>0.537313</td>\n",
       "      <td>0.094527</td>\n",
       "      <td>285.012248</td>\n",
       "    </tr>\n",
       "  </tbody>\n",
       "</table>\n",
       "</div>"
      ],
      "text/plain": [
       "  file_name    site_name ice_type   latitude  longitude  penetration  \\\n",
       "0  S34M1840  Alert_2_MYI      MYI  83.983345 -66.351509   501.816095   \n",
       "\n",
       "    density_f   density_h   density_r  fraction_f  fraction_h  fraction_r  \\\n",
       "0  351.309129  233.568333  319.221392    0.368159    0.537313    0.094527   \n",
       "\n",
       "   mean_weighted_density  \n",
       "0             285.012248  "
      ]
     },
     "execution_count": 5,
     "metadata": {},
     "output_type": "execute_result"
    }
   ],
   "source": [
    "#Load all the profile summary data\n",
    "site_path = './output/sites'\n",
    "summary_files = []\n",
    "for i in os.listdir(site_path):\n",
    "    if os.path.isfile(os.path.join(site_path,i)) and 'Summary' in i:\n",
    "        summary_files.append(os.path.join(site_path, i))\n",
    "        \n",
    "summary_list = []\n",
    "for filename in summary_files:\n",
    "    df = pd.read_pickle(filename)\n",
    "    summary_list.append(df)\n",
    "\n",
    "summary_df = pd.concat(summary_list, axis=0, ignore_index=True)\n",
    "summary_df.head(1)"
   ]
  },
  {
   "cell_type": "code",
   "execution_count": 6,
   "metadata": {},
   "outputs": [],
   "source": [
    "# A few bad profiles to drop where the pack is thin\n",
    "summary_df.drop(summary_df[summary_df['file_name'] == 'S34M0399'].index, inplace = True)\n",
    "summary_df.drop(summary_df[summary_df['file_name'] == 'S34M0401'].index, inplace = True)"
   ]
  },
  {
   "cell_type": "code",
   "execution_count": 7,
   "metadata": {},
   "outputs": [
    {
     "data": {
      "text/html": [
       "<div>\n",
       "<style scoped>\n",
       "    .dataframe tbody tr th:only-of-type {\n",
       "        vertical-align: middle;\n",
       "    }\n",
       "\n",
       "    .dataframe tbody tr th {\n",
       "        vertical-align: top;\n",
       "    }\n",
       "\n",
       "    .dataframe thead th {\n",
       "        text-align: right;\n",
       "    }\n",
       "</style>\n",
       "<table border=\"1\" class=\"dataframe\">\n",
       "  <thead>\n",
       "    <tr style=\"text-align: right;\">\n",
       "      <th></th>\n",
       "      <th>relative_height</th>\n",
       "      <th>l</th>\n",
       "      <th>force_median</th>\n",
       "      <th>layer_type</th>\n",
       "      <th>layer_label</th>\n",
       "      <th>site_name</th>\n",
       "      <th>file_name</th>\n",
       "      <th>density</th>\n",
       "    </tr>\n",
       "  </thead>\n",
       "  <tbody>\n",
       "    <tr>\n",
       "      <th>0</th>\n",
       "      <td>0.0</td>\n",
       "      <td>0.492178</td>\n",
       "      <td>0.110858</td>\n",
       "      <td>1</td>\n",
       "      <td>R</td>\n",
       "      <td>Alert_2_MYI</td>\n",
       "      <td>S34M1840</td>\n",
       "      <td>214.357532</td>\n",
       "    </tr>\n",
       "  </tbody>\n",
       "</table>\n",
       "</div>"
      ],
      "text/plain": [
       "   relative_height         l  force_median  layer_type layer_label  \\\n",
       "0              0.0  0.492178      0.110858           1           R   \n",
       "\n",
       "     site_name file_name     density  \n",
       "0  Alert_2_MYI  S34M1840  214.357532  "
      ]
     },
     "execution_count": 7,
     "metadata": {},
     "output_type": "execute_result"
    }
   ],
   "source": [
    "#Load all the profile measurement\n",
    "site_path = './output/sites'\n",
    "data_files = []\n",
    "for i in os.listdir(site_path):\n",
    "    if os.path.isfile(os.path.join(site_path,i)) and 'Data' in i:\n",
    "        data_files.append(os.path.join(site_path, i))\n",
    "        \n",
    "data_list = []\n",
    "for filename in data_files:\n",
    "    df = pd.read_pickle(filename)\n",
    "    data_list.append(df)\n",
    "\n",
    "data_df = pd.concat(data_list, axis=0, ignore_index=True)\n",
    "data_df.head(1)"
   ]
  },
  {
   "cell_type": "code",
   "execution_count": 8,
   "metadata": {},
   "outputs": [],
   "source": [
    "static_density = 300 # in kg m-3\n",
    "bin_height = 0.0025\n",
    "profile_names = summary_df.file_name.unique()\n",
    "\n",
    "delta_h_static = []\n",
    "delta_h_w99 = []\n",
    "delta_h_smp = []\n",
    "\n",
    "c_cs_w99 = []\n",
    "c_cs_smp = []\n",
    "\n",
    "w99_rho_latlon = []\n",
    "\n",
    "p = Proj(proj=\"stere\", lat_0=90, lon_0=-90, lat_ts=70)\n",
    "\n",
    "\n",
    "for profile in profile_names:\n",
    "    profile_df = data_df[data_df['file_name'] == profile]\n",
    "    profile_summary = summary_df[summary_df['file_name'] == profile_df['file_name'].iloc[0]]\n",
    "    x, y =p(profile_summary.longitude.values[0],profile_summary.latitude.values[0])\n",
    "    w99x = x / (earth_radius * np.pi / 180)\n",
    "    w99y = y / (earth_radius * np.pi / 180)\n",
    "    w99_sd = get_snow_depth(4, w99x, w99y)\n",
    "    w99_rho = get_snow_density(w99_sd, 4, w99x, w99y)\n",
    "    \n",
    "    w99_rho_latlon.append(w99_rho)\n",
    "                   \n",
    "    profile_heights = profile_df['relative_height']/1000\n",
    "    profile_density =  profile_df['density']\n",
    "    bin_height_array = np.repeat(bin_height,len(profile_heights))\n",
    "    profile_thickness = profile_heights.max()\n",
    "    \n",
    "    c_cs_w99.append(c_in_snow(w99_rho)/C)\n",
    "    c_cs_smp.append((c_in_snow(profile_density)/C).mean())\n",
    "    \n",
    "    delta_h_w99.append(profile_thickness*(C/c_in_snow(w99_rho)-1))\n",
    "    delta_h_static.append(profile_thickness*(C/c_in_snow(static_density)-1))\n",
    "    delta_h_smp.append((bin_height_array*(C/c_in_snow(profile_density)-1)).sum())\n",
    "    "
   ]
  },
  {
   "cell_type": "code",
   "execution_count": 9,
   "metadata": {
    "scrolled": true
   },
   "outputs": [
    {
     "data": {
      "text/plain": [
       "array(['Alert_2_MYI', 'Alert_3_MYI', 'Alert_5_MYI', 'Alert_6_MYI',\n",
       "       'Alert_7_MYI', 'Alert_8_MYI', 'Eureka_1_FYI', 'Eureka_2_FYI',\n",
       "       'Eureka_3_FYI', 'Eureka_4_FYI', 'Eureka_5_MYI', 'Eureka_6_FYI',\n",
       "       'Eureka_7_FYI', 'Eureka_8_MYI'], dtype=object)"
      ]
     },
     "execution_count": 9,
     "metadata": {},
     "output_type": "execute_result"
    }
   ],
   "source": [
    "summary_df['site_name'].unique()"
   ]
  },
  {
   "cell_type": "code",
   "execution_count": 10,
   "metadata": {},
   "outputs": [],
   "source": [
    "summary_df['delta_h_smp'] = np.array(delta_h_smp)\n",
    "summary_df['delta_h_static'] = np.array(delta_h_static)\n",
    "summary_df['delta_h_w99'] = np.array(delta_h_static)\n",
    "summary_df['delta_h_error'] = summary_df['delta_h_smp'] - summary_df['delta_h_w99'] \n",
    "summary_df['w99_rho'] = w99_rho_latlon\n",
    "summary_df['c_cs_w99'] = c_cs_w99\n",
    "summary_df['c_cs_smp'] = c_cs_smp\n",
    "summary_df['delta_h_error_static'] = summary_df['delta_h_smp'] - summary_df['delta_h_static']"
   ]
  },
  {
   "cell_type": "code",
   "execution_count": 11,
   "metadata": {},
   "outputs": [],
   "source": [
    "# Campaign names were missing...\n",
    "campaign = np.repeat('E', len(summary_df))\n",
    "campaign[summary_df['site_name'].str.contains('Alert')] = 'A'\n",
    "summary_df['campaign'] = campaign"
   ]
  },
  {
   "cell_type": "code",
   "execution_count": 12,
   "metadata": {},
   "outputs": [],
   "source": [
    "swe_w99 = summary_df['w99_rho'] * summary_df['penetration']/1000\n",
    "swe_smp= summary_df['mean_weighted_density'] * summary_df['penetration']/1000"
   ]
  },
  {
   "cell_type": "code",
   "execution_count": 13,
   "metadata": {},
   "outputs": [
    {
     "data": {
      "image/png": "[encoded data removed]",
      "text/plain": [
       "<Figure size 432x576 with 2 Axes>"
      ]
     },
     "metadata": {
      "needs_background": "light"
     },
     "output_type": "display_data"
    }
   ],
   "source": [
    "f, (ax1, ax2) = plt.subplots(2, 1, sharex=True, figsize=(6,8))\n",
    "ax1.tick_params(axis='both', which='major', labelsize=axis_value_size)\n",
    "ax2.tick_params(axis='both', which='major', labelsize=axis_value_size)\n",
    "\n",
    "ax1.scatter(summary_df['penetration']/100, summary_df['delta_h_smp'], \n",
    "            color = 'k', s  = 5, label = '$\\delta_{p}^{W99}$')\n",
    "ax1.scatter(summary_df['penetration']/100, summary_df['delta_h_w99'], \n",
    "            color = 'r', s  = 5, alpha = 0.85, label = '$\\delta_{p}^{SMP}$')\n",
    "ax1.set_ylabel('$\\delta_{p}$ [m]' ,fontsize=axis_label_size)\n",
    "\n",
    "ax2.scatter(summary_df[summary_df['ice_type'] == 'FYI']['penetration']/100, \n",
    "            summary_df[summary_df['ice_type'] == 'FYI']['delta_h_smp'] \\\n",
    "            - summary_df[summary_df['ice_type'] == 'FYI']['delta_h_w99'],\n",
    "            color = 'k', s = 5, label = 'FYI')\n",
    "\n",
    "\n",
    "ax2.scatter(summary_df[summary_df['ice_type'] == 'MYI']['penetration']/100, \n",
    "            summary_df[summary_df['ice_type'] == 'MYI']['delta_h_smp'] \\\n",
    "            - summary_df[summary_df['ice_type'] == 'MYI']['delta_h_w99'],\n",
    "            color = 'deepskyblue', s = 5, label = 'MYI')\n",
    "\n",
    "\n",
    "ax2.set_ylabel('$\\delta_{p}^{SMP}$ - $\\delta_{p}^{W99}$ [m]',fontsize=axis_label_size)\n",
    "\n",
    "ax2.set_xlabel('$h_{s}$ [m]' ,fontsize=axis_label_size)\n",
    "ax1.legend(fontsize=axis_label_size, markerscale=4)\n",
    "ax2.legend(loc = 3 ,fontsize=axis_label_size, markerscale=4)\n",
    "#lgnd2.legendHandles[0]._legmarker.set_markersize(6)\n",
    "\n",
    "f.savefig('./output/figures/Fig11_Applicaiton.png', format='png')"
   ]
  },
  {
   "cell_type": "code",
   "execution_count": 14,
   "metadata": {},
   "outputs": [
    {
     "data": {
      "text/html": [
       "<div>\n",
       "<style scoped>\n",
       "    .dataframe tbody tr th:only-of-type {\n",
       "        vertical-align: middle;\n",
       "    }\n",
       "\n",
       "    .dataframe tbody tr th {\n",
       "        vertical-align: top;\n",
       "    }\n",
       "\n",
       "    .dataframe thead th {\n",
       "        text-align: right;\n",
       "    }\n",
       "</style>\n",
       "<table border=\"1\" class=\"dataframe\">\n",
       "  <thead>\n",
       "    <tr style=\"text-align: right;\">\n",
       "      <th></th>\n",
       "      <th></th>\n",
       "      <th>count</th>\n",
       "      <th>mean</th>\n",
       "      <th>std</th>\n",
       "      <th>min</th>\n",
       "      <th>25%</th>\n",
       "      <th>50%</th>\n",
       "      <th>75%</th>\n",
       "      <th>max</th>\n",
       "    </tr>\n",
       "    <tr>\n",
       "      <th>campaign</th>\n",
       "      <th>ice_type</th>\n",
       "      <th></th>\n",
       "      <th></th>\n",
       "      <th></th>\n",
       "      <th></th>\n",
       "      <th></th>\n",
       "      <th></th>\n",
       "      <th></th>\n",
       "      <th></th>\n",
       "    </tr>\n",
       "  </thead>\n",
       "  <tbody>\n",
       "    <tr>\n",
       "      <th>A</th>\n",
       "      <th>MYI</th>\n",
       "      <td>6300.0</td>\n",
       "      <td>9.2</td>\n",
       "      <td>2.8</td>\n",
       "      <td>2.8</td>\n",
       "      <td>6.9</td>\n",
       "      <td>9.5</td>\n",
       "      <td>10.7</td>\n",
       "      <td>15.6</td>\n",
       "    </tr>\n",
       "    <tr>\n",
       "      <th rowspan=\"2\" valign=\"top\">E</th>\n",
       "      <th>FYI</th>\n",
       "      <td>40200.0</td>\n",
       "      <td>4.8</td>\n",
       "      <td>2.4</td>\n",
       "      <td>0.7</td>\n",
       "      <td>3.1</td>\n",
       "      <td>4.3</td>\n",
       "      <td>6.1</td>\n",
       "      <td>11.9</td>\n",
       "    </tr>\n",
       "    <tr>\n",
       "      <th>MYI</th>\n",
       "      <td>14800.0</td>\n",
       "      <td>7.1</td>\n",
       "      <td>4.1</td>\n",
       "      <td>1.2</td>\n",
       "      <td>3.8</td>\n",
       "      <td>6.6</td>\n",
       "      <td>9.8</td>\n",
       "      <td>21.2</td>\n",
       "    </tr>\n",
       "  </tbody>\n",
       "</table>\n",
       "</div>"
      ],
      "text/plain": [
       "                     count  mean  std  min  25%  50%   75%   max\n",
       "campaign ice_type                                               \n",
       "A        MYI        6300.0   9.2  2.8  2.8  6.9  9.5  10.7  15.6\n",
       "E        FYI       40200.0   4.8  2.4  0.7  3.1  4.3   6.1  11.9\n",
       "         MYI       14800.0   7.1  4.1  1.2  3.8  6.6   9.8  21.2"
      ]
     },
     "execution_count": 14,
     "metadata": {},
     "output_type": "execute_result"
    }
   ],
   "source": [
    "np.round(summary_df.groupby(['campaign', 'ice_type'])['delta_h_smp'].describe(), 3)*100"
   ]
  },
  {
   "cell_type": "code",
   "execution_count": 15,
   "metadata": {},
   "outputs": [
    {
     "data": {
      "text/html": [
       "<div>\n",
       "<style scoped>\n",
       "    .dataframe tbody tr th:only-of-type {\n",
       "        vertical-align: middle;\n",
       "    }\n",
       "\n",
       "    .dataframe tbody tr th {\n",
       "        vertical-align: top;\n",
       "    }\n",
       "\n",
       "    .dataframe thead th {\n",
       "        text-align: right;\n",
       "    }\n",
       "</style>\n",
       "<table border=\"1\" class=\"dataframe\">\n",
       "  <thead>\n",
       "    <tr style=\"text-align: right;\">\n",
       "      <th></th>\n",
       "      <th></th>\n",
       "      <th>count</th>\n",
       "      <th>mean</th>\n",
       "      <th>std</th>\n",
       "      <th>min</th>\n",
       "      <th>25%</th>\n",
       "      <th>50%</th>\n",
       "      <th>75%</th>\n",
       "      <th>max</th>\n",
       "    </tr>\n",
       "    <tr>\n",
       "      <th>campaign</th>\n",
       "      <th>ice_type</th>\n",
       "      <th></th>\n",
       "      <th></th>\n",
       "      <th></th>\n",
       "      <th></th>\n",
       "      <th></th>\n",
       "      <th></th>\n",
       "      <th></th>\n",
       "      <th></th>\n",
       "    </tr>\n",
       "  </thead>\n",
       "  <tbody>\n",
       "    <tr>\n",
       "      <th>A</th>\n",
       "      <th>MYI</th>\n",
       "      <td>6300.0</td>\n",
       "      <td>9.4</td>\n",
       "      <td>2.6</td>\n",
       "      <td>2.5</td>\n",
       "      <td>7.8</td>\n",
       "      <td>9.3</td>\n",
       "      <td>11.5</td>\n",
       "      <td>14.3</td>\n",
       "    </tr>\n",
       "    <tr>\n",
       "      <th rowspan=\"2\" valign=\"top\">E</th>\n",
       "      <th>FYI</th>\n",
       "      <td>40200.0</td>\n",
       "      <td>4.3</td>\n",
       "      <td>2.1</td>\n",
       "      <td>0.6</td>\n",
       "      <td>2.9</td>\n",
       "      <td>4.0</td>\n",
       "      <td>5.4</td>\n",
       "      <td>11.8</td>\n",
       "    </tr>\n",
       "    <tr>\n",
       "      <th>MYI</th>\n",
       "      <td>14800.0</td>\n",
       "      <td>7.7</td>\n",
       "      <td>4.4</td>\n",
       "      <td>1.4</td>\n",
       "      <td>4.1</td>\n",
       "      <td>6.8</td>\n",
       "      <td>10.7</td>\n",
       "      <td>21.4</td>\n",
       "    </tr>\n",
       "  </tbody>\n",
       "</table>\n",
       "</div>"
      ],
      "text/plain": [
       "                     count  mean  std  min  25%  50%   75%   max\n",
       "campaign ice_type                                               \n",
       "A        MYI        6300.0   9.4  2.6  2.5  7.8  9.3  11.5  14.3\n",
       "E        FYI       40200.0   4.3  2.1  0.6  2.9  4.0   5.4  11.8\n",
       "         MYI       14800.0   7.7  4.4  1.4  4.1  6.8  10.7  21.4"
      ]
     },
     "execution_count": 15,
     "metadata": {},
     "output_type": "execute_result"
    }
   ],
   "source": [
    "np.round(summary_df.groupby(['campaign', 'ice_type'])['delta_h_w99'].describe(), 3)*100"
   ]
  },
  {
   "cell_type": "code",
   "execution_count": 16,
   "metadata": {
    "scrolled": true
   },
   "outputs": [
    {
     "data": {
      "text/html": [
       "<div>\n",
       "<style scoped>\n",
       "    .dataframe tbody tr th:only-of-type {\n",
       "        vertical-align: middle;\n",
       "    }\n",
       "\n",
       "    .dataframe tbody tr th {\n",
       "        vertical-align: top;\n",
       "    }\n",
       "\n",
       "    .dataframe thead th {\n",
       "        text-align: right;\n",
       "    }\n",
       "</style>\n",
       "<table border=\"1\" class=\"dataframe\">\n",
       "  <thead>\n",
       "    <tr style=\"text-align: right;\">\n",
       "      <th></th>\n",
       "      <th></th>\n",
       "      <th>count</th>\n",
       "      <th>mean</th>\n",
       "      <th>std</th>\n",
       "      <th>min</th>\n",
       "      <th>25%</th>\n",
       "      <th>50%</th>\n",
       "      <th>75%</th>\n",
       "      <th>max</th>\n",
       "    </tr>\n",
       "    <tr>\n",
       "      <th>campaign</th>\n",
       "      <th>ice_type</th>\n",
       "      <th></th>\n",
       "      <th></th>\n",
       "      <th></th>\n",
       "      <th></th>\n",
       "      <th></th>\n",
       "      <th></th>\n",
       "      <th></th>\n",
       "      <th></th>\n",
       "    </tr>\n",
       "  </thead>\n",
       "  <tbody>\n",
       "    <tr>\n",
       "      <th>A</th>\n",
       "      <th>MYI</th>\n",
       "      <td>6300.0</td>\n",
       "      <td>9.4</td>\n",
       "      <td>2.6</td>\n",
       "      <td>2.5</td>\n",
       "      <td>7.8</td>\n",
       "      <td>9.3</td>\n",
       "      <td>11.5</td>\n",
       "      <td>14.3</td>\n",
       "    </tr>\n",
       "    <tr>\n",
       "      <th rowspan=\"2\" valign=\"top\">E</th>\n",
       "      <th>FYI</th>\n",
       "      <td>40200.0</td>\n",
       "      <td>4.3</td>\n",
       "      <td>2.1</td>\n",
       "      <td>0.6</td>\n",
       "      <td>2.9</td>\n",
       "      <td>4.0</td>\n",
       "      <td>5.4</td>\n",
       "      <td>11.8</td>\n",
       "    </tr>\n",
       "    <tr>\n",
       "      <th>MYI</th>\n",
       "      <td>14800.0</td>\n",
       "      <td>7.7</td>\n",
       "      <td>4.4</td>\n",
       "      <td>1.4</td>\n",
       "      <td>4.1</td>\n",
       "      <td>6.8</td>\n",
       "      <td>10.7</td>\n",
       "      <td>21.4</td>\n",
       "    </tr>\n",
       "  </tbody>\n",
       "</table>\n",
       "</div>"
      ],
      "text/plain": [
       "                     count  mean  std  min  25%  50%   75%   max\n",
       "campaign ice_type                                               \n",
       "A        MYI        6300.0   9.4  2.6  2.5  7.8  9.3  11.5  14.3\n",
       "E        FYI       40200.0   4.3  2.1  0.6  2.9  4.0   5.4  11.8\n",
       "         MYI       14800.0   7.7  4.4  1.4  4.1  6.8  10.7  21.4"
      ]
     },
     "execution_count": 16,
     "metadata": {},
     "output_type": "execute_result"
    }
   ],
   "source": [
    "np.round(summary_df.groupby(['campaign', 'ice_type'])['delta_h_w99'].describe(), 3)*100"
   ]
  },
  {
   "cell_type": "code",
   "execution_count": 17,
   "metadata": {
    "scrolled": true
   },
   "outputs": [
    {
     "data": {
      "text/plain": [
       "campaign  ice_type\n",
       "A         MYI        -0.3\n",
       "E         FYI         0.5\n",
       "          MYI        -0.6\n",
       "Name: delta_h_error, dtype: float64"
      ]
     },
     "execution_count": 17,
     "metadata": {},
     "output_type": "execute_result"
    }
   ],
   "source": [
    "np.round(summary_df.groupby(['campaign', 'ice_type'])['delta_h_error'].mean(), 3)*100"
   ]
  },
  {
   "cell_type": "code",
   "execution_count": 18,
   "metadata": {
    "scrolled": true
   },
   "outputs": [
    {
     "data": {
      "text/plain": [
       "campaign  ice_type\n",
       "A         MYI        -0.8\n",
       "E         FYI         2.7\n",
       "          MYI        -1.8\n",
       "dtype: float64"
      ]
     },
     "execution_count": 18,
     "metadata": {},
     "output_type": "execute_result"
    }
   ],
   "source": [
    "np.round((round(summary_df.groupby(['campaign', 'ice_type'])['delta_h_error'].mean(),3)*100/(np.round(summary_df.groupby(['campaign', 'ice_type'])['penetration'].mean(), 3)/10))*100, 1)"
   ]
  },
  {
   "cell_type": "code",
   "execution_count": 19,
   "metadata": {
    "scrolled": true
   },
   "outputs": [
    {
     "data": {
      "text/plain": [
       "ice_type\n",
       "FYI    0.005\n",
       "MYI   -0.005\n",
       "Name: delta_h_error, dtype: float64"
      ]
     },
     "execution_count": 19,
     "metadata": {},
     "output_type": "execute_result"
    }
   ],
   "source": [
    "np.round(summary_df.groupby(['ice_type'])['delta_h_error'].mean(),3)"
   ]
  },
  {
   "cell_type": "code",
   "execution_count": 20,
   "metadata": {
    "scrolled": true
   },
   "outputs": [
    {
     "data": {
      "text/html": [
       "<div>\n",
       "<style scoped>\n",
       "    .dataframe tbody tr th:only-of-type {\n",
       "        vertical-align: middle;\n",
       "    }\n",
       "\n",
       "    .dataframe tbody tr th {\n",
       "        vertical-align: top;\n",
       "    }\n",
       "\n",
       "    .dataframe thead th {\n",
       "        text-align: right;\n",
       "    }\n",
       "</style>\n",
       "<table border=\"1\" class=\"dataframe\">\n",
       "  <thead>\n",
       "    <tr style=\"text-align: right;\">\n",
       "      <th></th>\n",
       "      <th>count</th>\n",
       "      <th>mean</th>\n",
       "      <th>std</th>\n",
       "      <th>min</th>\n",
       "      <th>25%</th>\n",
       "      <th>50%</th>\n",
       "      <th>75%</th>\n",
       "      <th>max</th>\n",
       "    </tr>\n",
       "    <tr>\n",
       "      <th>ice_type</th>\n",
       "      <th></th>\n",
       "      <th></th>\n",
       "      <th></th>\n",
       "      <th></th>\n",
       "      <th></th>\n",
       "      <th></th>\n",
       "      <th></th>\n",
       "      <th></th>\n",
       "    </tr>\n",
       "  </thead>\n",
       "  <tbody>\n",
       "    <tr>\n",
       "      <th>FYI</th>\n",
       "      <td>40200.0</td>\n",
       "      <td>0.5</td>\n",
       "      <td>0.7</td>\n",
       "      <td>-5.3</td>\n",
       "      <td>0.0</td>\n",
       "      <td>0.5</td>\n",
       "      <td>0.9</td>\n",
       "      <td>2.8</td>\n",
       "    </tr>\n",
       "    <tr>\n",
       "      <th>MYI</th>\n",
       "      <td>21100.0</td>\n",
       "      <td>-0.5</td>\n",
       "      <td>0.9</td>\n",
       "      <td>-2.7</td>\n",
       "      <td>-1.1</td>\n",
       "      <td>-0.6</td>\n",
       "      <td>-0.1</td>\n",
       "      <td>2.4</td>\n",
       "    </tr>\n",
       "  </tbody>\n",
       "</table>\n",
       "</div>"
      ],
      "text/plain": [
       "            count  mean  std  min  25%  50%  75%  max\n",
       "ice_type                                             \n",
       "FYI       40200.0   0.5  0.7 -5.3  0.0  0.5  0.9  2.8\n",
       "MYI       21100.0  -0.5  0.9 -2.7 -1.1 -0.6 -0.1  2.4"
      ]
     },
     "execution_count": 20,
     "metadata": {},
     "output_type": "execute_result"
    }
   ],
   "source": [
    "np.round(summary_df.groupby(['ice_type'])['delta_h_error'].describe(), 3)*100"
   ]
  },
  {
   "cell_type": "code",
   "execution_count": 21,
   "metadata": {
    "scrolled": true
   },
   "outputs": [
    {
     "data": {
      "text/html": [
       "<div>\n",
       "<style scoped>\n",
       "    .dataframe tbody tr th:only-of-type {\n",
       "        vertical-align: middle;\n",
       "    }\n",
       "\n",
       "    .dataframe tbody tr th {\n",
       "        vertical-align: top;\n",
       "    }\n",
       "\n",
       "    .dataframe thead th {\n",
       "        text-align: right;\n",
       "    }\n",
       "</style>\n",
       "<table border=\"1\" class=\"dataframe\">\n",
       "  <thead>\n",
       "    <tr style=\"text-align: right;\">\n",
       "      <th></th>\n",
       "      <th></th>\n",
       "      <th>count</th>\n",
       "      <th>mean</th>\n",
       "      <th>std</th>\n",
       "      <th>min</th>\n",
       "      <th>25%</th>\n",
       "      <th>50%</th>\n",
       "      <th>75%</th>\n",
       "      <th>max</th>\n",
       "    </tr>\n",
       "    <tr>\n",
       "      <th>campaign</th>\n",
       "      <th>ice_type</th>\n",
       "      <th></th>\n",
       "      <th></th>\n",
       "      <th></th>\n",
       "      <th></th>\n",
       "      <th></th>\n",
       "      <th></th>\n",
       "      <th></th>\n",
       "      <th></th>\n",
       "    </tr>\n",
       "  </thead>\n",
       "  <tbody>\n",
       "    <tr>\n",
       "      <th>A</th>\n",
       "      <th>MYI</th>\n",
       "      <td>6300.0</td>\n",
       "      <td>-0.3</td>\n",
       "      <td>1.0</td>\n",
       "      <td>-2.1</td>\n",
       "      <td>-1.0</td>\n",
       "      <td>-0.5</td>\n",
       "      <td>0.3</td>\n",
       "      <td>2.0</td>\n",
       "    </tr>\n",
       "    <tr>\n",
       "      <th rowspan=\"2\" valign=\"top\">E</th>\n",
       "      <th>FYI</th>\n",
       "      <td>40200.0</td>\n",
       "      <td>0.5</td>\n",
       "      <td>0.7</td>\n",
       "      <td>-5.3</td>\n",
       "      <td>0.0</td>\n",
       "      <td>0.5</td>\n",
       "      <td>0.9</td>\n",
       "      <td>2.8</td>\n",
       "    </tr>\n",
       "    <tr>\n",
       "      <th>MYI</th>\n",
       "      <td>14800.0</td>\n",
       "      <td>-0.6</td>\n",
       "      <td>0.8</td>\n",
       "      <td>-2.7</td>\n",
       "      <td>-1.1</td>\n",
       "      <td>-0.7</td>\n",
       "      <td>-0.2</td>\n",
       "      <td>2.4</td>\n",
       "    </tr>\n",
       "  </tbody>\n",
       "</table>\n",
       "</div>"
      ],
      "text/plain": [
       "                     count  mean  std  min  25%  50%  75%  max\n",
       "campaign ice_type                                             \n",
       "A        MYI        6300.0  -0.3  1.0 -2.1 -1.0 -0.5  0.3  2.0\n",
       "E        FYI       40200.0   0.5  0.7 -5.3  0.0  0.5  0.9  2.8\n",
       "         MYI       14800.0  -0.6  0.8 -2.7 -1.1 -0.7 -0.2  2.4"
      ]
     },
     "execution_count": 21,
     "metadata": {},
     "output_type": "execute_result"
    }
   ],
   "source": [
    "np.round(summary_df.groupby(['campaign', 'ice_type'])['delta_h_error'].describe(), 3)*100"
   ]
  },
  {
   "cell_type": "code",
   "execution_count": 22,
   "metadata": {},
   "outputs": [
    {
     "data": {
      "text/html": [
       "<div>\n",
       "<style scoped>\n",
       "    .dataframe tbody tr th:only-of-type {\n",
       "        vertical-align: middle;\n",
       "    }\n",
       "\n",
       "    .dataframe tbody tr th {\n",
       "        vertical-align: top;\n",
       "    }\n",
       "\n",
       "    .dataframe thead th {\n",
       "        text-align: right;\n",
       "    }\n",
       "</style>\n",
       "<table border=\"1\" class=\"dataframe\">\n",
       "  <thead>\n",
       "    <tr style=\"text-align: right;\">\n",
       "      <th></th>\n",
       "      <th></th>\n",
       "      <th>count</th>\n",
       "      <th>mean</th>\n",
       "      <th>std</th>\n",
       "      <th>min</th>\n",
       "      <th>25%</th>\n",
       "      <th>50%</th>\n",
       "      <th>75%</th>\n",
       "      <th>max</th>\n",
       "    </tr>\n",
       "    <tr>\n",
       "      <th>campaign</th>\n",
       "      <th>ice_type</th>\n",
       "      <th></th>\n",
       "      <th></th>\n",
       "      <th></th>\n",
       "      <th></th>\n",
       "      <th></th>\n",
       "      <th></th>\n",
       "      <th></th>\n",
       "      <th></th>\n",
       "    </tr>\n",
       "  </thead>\n",
       "  <tbody>\n",
       "    <tr>\n",
       "      <th>A</th>\n",
       "      <th>MYI</th>\n",
       "      <td>63.0</td>\n",
       "      <td>84.852626</td>\n",
       "      <td>1.022082</td>\n",
       "      <td>83.442131</td>\n",
       "      <td>83.983414</td>\n",
       "      <td>84.857788</td>\n",
       "      <td>85.444664</td>\n",
       "      <td>86.284805</td>\n",
       "    </tr>\n",
       "    <tr>\n",
       "      <th rowspan=\"2\" valign=\"top\">E</th>\n",
       "      <th>FYI</th>\n",
       "      <td>402.0</td>\n",
       "      <td>79.980447</td>\n",
       "      <td>0.072977</td>\n",
       "      <td>79.842346</td>\n",
       "      <td>79.965073</td>\n",
       "      <td>79.983921</td>\n",
       "      <td>80.021599</td>\n",
       "      <td>80.080154</td>\n",
       "    </tr>\n",
       "    <tr>\n",
       "      <th>MYI</th>\n",
       "      <td>148.0</td>\n",
       "      <td>79.910790</td>\n",
       "      <td>0.084050</td>\n",
       "      <td>79.812958</td>\n",
       "      <td>79.813622</td>\n",
       "      <td>79.982334</td>\n",
       "      <td>79.982895</td>\n",
       "      <td>79.983727</td>\n",
       "    </tr>\n",
       "  </tbody>\n",
       "</table>\n",
       "</div>"
      ],
      "text/plain": [
       "                   count       mean       std        min        25%  \\\n",
       "campaign ice_type                                                     \n",
       "A        MYI        63.0  84.852626  1.022082  83.442131  83.983414   \n",
       "E        FYI       402.0  79.980447  0.072977  79.842346  79.965073   \n",
       "         MYI       148.0  79.910790  0.084050  79.812958  79.813622   \n",
       "\n",
       "                         50%        75%        max  \n",
       "campaign ice_type                                   \n",
       "A        MYI       84.857788  85.444664  86.284805  \n",
       "E        FYI       79.983921  80.021599  80.080154  \n",
       "         MYI       79.982334  79.982895  79.983727  "
      ]
     },
     "execution_count": 22,
     "metadata": {},
     "output_type": "execute_result"
    }
   ],
   "source": [
    "summary_df.groupby(['campaign', 'ice_type'])['latitude'].describe()"
   ]
  },
  {
   "cell_type": "code",
   "execution_count": 23,
   "metadata": {},
   "outputs": [
    {
     "data": {
      "text/html": [
       "<div>\n",
       "<style scoped>\n",
       "    .dataframe tbody tr th:only-of-type {\n",
       "        vertical-align: middle;\n",
       "    }\n",
       "\n",
       "    .dataframe tbody tr th {\n",
       "        vertical-align: top;\n",
       "    }\n",
       "\n",
       "    .dataframe thead th {\n",
       "        text-align: right;\n",
       "    }\n",
       "</style>\n",
       "<table border=\"1\" class=\"dataframe\">\n",
       "  <thead>\n",
       "    <tr style=\"text-align: right;\">\n",
       "      <th></th>\n",
       "      <th></th>\n",
       "      <th>count</th>\n",
       "      <th>mean</th>\n",
       "      <th>std</th>\n",
       "      <th>min</th>\n",
       "      <th>25%</th>\n",
       "      <th>50%</th>\n",
       "      <th>75%</th>\n",
       "      <th>max</th>\n",
       "    </tr>\n",
       "    <tr>\n",
       "      <th>campaign</th>\n",
       "      <th>ice_type</th>\n",
       "      <th></th>\n",
       "      <th></th>\n",
       "      <th></th>\n",
       "      <th></th>\n",
       "      <th></th>\n",
       "      <th></th>\n",
       "      <th></th>\n",
       "      <th></th>\n",
       "    </tr>\n",
       "  </thead>\n",
       "  <tbody>\n",
       "    <tr>\n",
       "      <th>A</th>\n",
       "      <th>MYI</th>\n",
       "      <td>63.0</td>\n",
       "      <td>317.308566</td>\n",
       "      <td>2.834172</td>\n",
       "      <td>313.279269</td>\n",
       "      <td>314.942495</td>\n",
       "      <td>317.444840</td>\n",
       "      <td>319.031614</td>\n",
       "      <td>321.147020</td>\n",
       "    </tr>\n",
       "    <tr>\n",
       "      <th rowspan=\"2\" valign=\"top\">E</th>\n",
       "      <th>FYI</th>\n",
       "      <td>402.0</td>\n",
       "      <td>298.121467</td>\n",
       "      <td>0.446058</td>\n",
       "      <td>297.291961</td>\n",
       "      <td>297.961102</td>\n",
       "      <td>298.133275</td>\n",
       "      <td>298.386184</td>\n",
       "      <td>298.737010</td>\n",
       "    </tr>\n",
       "    <tr>\n",
       "      <th>MYI</th>\n",
       "      <td>148.0</td>\n",
       "      <td>297.668950</td>\n",
       "      <td>0.480318</td>\n",
       "      <td>297.109629</td>\n",
       "      <td>297.113700</td>\n",
       "      <td>298.076770</td>\n",
       "      <td>298.081086</td>\n",
       "      <td>298.087535</td>\n",
       "    </tr>\n",
       "  </tbody>\n",
       "</table>\n",
       "</div>"
      ],
      "text/plain": [
       "                   count        mean       std         min         25%  \\\n",
       "campaign ice_type                                                        \n",
       "A        MYI        63.0  317.308566  2.834172  313.279269  314.942495   \n",
       "E        FYI       402.0  298.121467  0.446058  297.291961  297.961102   \n",
       "         MYI       148.0  297.668950  0.480318  297.109629  297.113700   \n",
       "\n",
       "                          50%         75%         max  \n",
       "campaign ice_type                                      \n",
       "A        MYI       317.444840  319.031614  321.147020  \n",
       "E        FYI       298.133275  298.386184  298.737010  \n",
       "         MYI       298.076770  298.081086  298.087535  "
      ]
     },
     "execution_count": 23,
     "metadata": {},
     "output_type": "execute_result"
    }
   ],
   "source": [
    "summary_df.groupby(['campaign', 'ice_type'])['w99_rho'].describe()"
   ]
  },
  {
   "cell_type": "code",
   "execution_count": 24,
   "metadata": {},
   "outputs": [
    {
     "data": {
      "text/html": [
       "<div>\n",
       "<style scoped>\n",
       "    .dataframe tbody tr th:only-of-type {\n",
       "        vertical-align: middle;\n",
       "    }\n",
       "\n",
       "    .dataframe tbody tr th {\n",
       "        vertical-align: top;\n",
       "    }\n",
       "\n",
       "    .dataframe thead th {\n",
       "        text-align: right;\n",
       "    }\n",
       "</style>\n",
       "<table border=\"1\" class=\"dataframe\">\n",
       "  <thead>\n",
       "    <tr style=\"text-align: right;\">\n",
       "      <th></th>\n",
       "      <th></th>\n",
       "      <th>count</th>\n",
       "      <th>mean</th>\n",
       "      <th>std</th>\n",
       "      <th>min</th>\n",
       "      <th>25%</th>\n",
       "      <th>50%</th>\n",
       "      <th>75%</th>\n",
       "      <th>max</th>\n",
       "    </tr>\n",
       "    <tr>\n",
       "      <th>campaign</th>\n",
       "      <th>ice_type</th>\n",
       "      <th></th>\n",
       "      <th></th>\n",
       "      <th></th>\n",
       "      <th></th>\n",
       "      <th></th>\n",
       "      <th></th>\n",
       "      <th></th>\n",
       "      <th></th>\n",
       "    </tr>\n",
       "  </thead>\n",
       "  <tbody>\n",
       "    <tr>\n",
       "      <th>A</th>\n",
       "      <th>MYI</th>\n",
       "      <td>63.0</td>\n",
       "      <td>0.094</td>\n",
       "      <td>0.026</td>\n",
       "      <td>0.025</td>\n",
       "      <td>0.078</td>\n",
       "      <td>0.093</td>\n",
       "      <td>0.115</td>\n",
       "      <td>0.143</td>\n",
       "    </tr>\n",
       "    <tr>\n",
       "      <th rowspan=\"2\" valign=\"top\">E</th>\n",
       "      <th>FYI</th>\n",
       "      <td>402.0</td>\n",
       "      <td>0.043</td>\n",
       "      <td>0.021</td>\n",
       "      <td>0.006</td>\n",
       "      <td>0.029</td>\n",
       "      <td>0.040</td>\n",
       "      <td>0.054</td>\n",
       "      <td>0.118</td>\n",
       "    </tr>\n",
       "    <tr>\n",
       "      <th>MYI</th>\n",
       "      <td>148.0</td>\n",
       "      <td>0.077</td>\n",
       "      <td>0.044</td>\n",
       "      <td>0.014</td>\n",
       "      <td>0.041</td>\n",
       "      <td>0.068</td>\n",
       "      <td>0.107</td>\n",
       "      <td>0.214</td>\n",
       "    </tr>\n",
       "  </tbody>\n",
       "</table>\n",
       "</div>"
      ],
      "text/plain": [
       "                   count   mean    std    min    25%    50%    75%    max\n",
       "campaign ice_type                                                        \n",
       "A        MYI        63.0  0.094  0.026  0.025  0.078  0.093  0.115  0.143\n",
       "E        FYI       402.0  0.043  0.021  0.006  0.029  0.040  0.054  0.118\n",
       "         MYI       148.0  0.077  0.044  0.014  0.041  0.068  0.107  0.214"
      ]
     },
     "execution_count": 24,
     "metadata": {},
     "output_type": "execute_result"
    }
   ],
   "source": [
    "np.round(summary_df.groupby(['campaign', 'ice_type'])['delta_h_w99'].describe(), 3)"
   ]
  },
  {
   "cell_type": "code",
   "execution_count": 25,
   "metadata": {},
   "outputs": [
    {
     "data": {
      "text/html": [
       "<div>\n",
       "<style scoped>\n",
       "    .dataframe tbody tr th:only-of-type {\n",
       "        vertical-align: middle;\n",
       "    }\n",
       "\n",
       "    .dataframe tbody tr th {\n",
       "        vertical-align: top;\n",
       "    }\n",
       "\n",
       "    .dataframe thead th {\n",
       "        text-align: right;\n",
       "    }\n",
       "</style>\n",
       "<table border=\"1\" class=\"dataframe\">\n",
       "  <thead>\n",
       "    <tr style=\"text-align: right;\">\n",
       "      <th></th>\n",
       "      <th>file_name</th>\n",
       "      <th>site_name</th>\n",
       "      <th>ice_type</th>\n",
       "      <th>latitude</th>\n",
       "      <th>longitude</th>\n",
       "      <th>penetration</th>\n",
       "      <th>density_f</th>\n",
       "      <th>density_h</th>\n",
       "      <th>density_r</th>\n",
       "      <th>fraction_f</th>\n",
       "      <th>...</th>\n",
       "      <th>mean_weighted_density</th>\n",
       "      <th>delta_h_smp</th>\n",
       "      <th>delta_h_static</th>\n",
       "      <th>delta_h_w99</th>\n",
       "      <th>delta_h_error</th>\n",
       "      <th>w99_rho</th>\n",
       "      <th>c_cs_w99</th>\n",
       "      <th>c_cs_smp</th>\n",
       "      <th>delta_h_error_static</th>\n",
       "      <th>campaign</th>\n",
       "    </tr>\n",
       "  </thead>\n",
       "  <tbody>\n",
       "    <tr>\n",
       "      <th>0</th>\n",
       "      <td>S34M1840</td>\n",
       "      <td>Alert_2_MYI</td>\n",
       "      <td>MYI</td>\n",
       "      <td>83.983345</td>\n",
       "      <td>-66.351509</td>\n",
       "      <td>501.816095</td>\n",
       "      <td>351.309129</td>\n",
       "      <td>233.568333</td>\n",
       "      <td>319.221392</td>\n",
       "      <td>0.368159</td>\n",
       "      <td>...</td>\n",
       "      <td>285.012248</td>\n",
       "      <td>0.113617</td>\n",
       "      <td>0.119033</td>\n",
       "      <td>0.119033</td>\n",
       "      <td>-0.005416</td>\n",
       "      <td>314.942294</td>\n",
       "      <td>0.799769</td>\n",
       "      <td>0.816895</td>\n",
       "      <td>-0.005416</td>\n",
       "      <td>A</td>\n",
       "    </tr>\n",
       "  </tbody>\n",
       "</table>\n",
       "<p>1 rows × 22 columns</p>\n",
       "</div>"
      ],
      "text/plain": [
       "  file_name    site_name ice_type   latitude  longitude  penetration  \\\n",
       "0  S34M1840  Alert_2_MYI      MYI  83.983345 -66.351509   501.816095   \n",
       "\n",
       "    density_f   density_h   density_r  fraction_f  ...  mean_weighted_density  \\\n",
       "0  351.309129  233.568333  319.221392    0.368159  ...             285.012248   \n",
       "\n",
       "   delta_h_smp  delta_h_static  delta_h_w99  delta_h_error     w99_rho  \\\n",
       "0     0.113617        0.119033     0.119033      -0.005416  314.942294   \n",
       "\n",
       "   c_cs_w99  c_cs_smp  delta_h_error_static  campaign  \n",
       "0  0.799769  0.816895             -0.005416         A  \n",
       "\n",
       "[1 rows x 22 columns]"
      ]
     },
     "execution_count": 25,
     "metadata": {},
     "output_type": "execute_result"
    }
   ],
   "source": [
    "summary_df.head(1)"
   ]
  },
  {
   "cell_type": "code",
   "execution_count": 26,
   "metadata": {},
   "outputs": [
    {
     "name": "stdout",
     "output_type": "stream",
     "text": [
      "campaign  ice_type\n",
      "A         MYI         397.0\n",
      "E         FYI         182.0\n",
      "          MYI         326.0\n",
      "Name: penetration, dtype: float64\n"
     ]
    }
   ],
   "source": [
    "bins = np.arange(100, 1000, 10)\n",
    "summary_bin = pd.cut(summary_df['penetration'], bins)\n",
    "\n",
    "np.round(summary_df.groupby(['campaign'])['c_cs_smp'].describe(),3)\n",
    "\n",
    "pen_mean = summary_df.groupby(['campaign', 'ice_type'])['penetration'].mean()\n",
    "print(np.round(pen_mean))"
   ]
  },
  {
   "cell_type": "code",
   "execution_count": 27,
   "metadata": {},
   "outputs": [
    {
     "data": {
      "text/plain": [
       "0.03"
      ]
     },
     "execution_count": 27,
     "metadata": {},
     "output_type": "execute_result"
    }
   ],
   "source": [
    "sample_range = 10\n",
    "depth_ref = pen_mean[1]\n",
    "d_pen_min = summary_df[(summary_df['penetration']<=depth_ref+sample_range) &(summary_df['penetration']>=depth_ref-sample_range)]['delta_h_smp'].min()\n",
    "d_pen_max = summary_df[(summary_df['penetration']<=depth_ref+sample_range) &(summary_df['penetration']>=depth_ref-sample_range)]['delta_h_smp'].max()\n",
    "d_pen_mean = summary_df[(summary_df['penetration']<=depth_ref+sample_range) &(summary_df['penetration']>=depth_ref-sample_range)]['delta_h_smp'].mean()\n",
    "d_pen_std = summary_df[(summary_df['penetration']<=depth_ref+sample_range) &(summary_df['penetration']>=depth_ref-sample_range)]['delta_h_smp'].std()\n",
    "\n",
    "np.round(d_pen_max- d_pen_min,3) # in m"
   ]
  },
  {
   "cell_type": "code",
   "execution_count": 28,
   "metadata": {},
   "outputs": [
    {
     "data": {
      "text/plain": [
       "0.023806646711717398"
      ]
     },
     "execution_count": 28,
     "metadata": {},
     "output_type": "execute_result"
    }
   ],
   "source": [
    "sample_range = 50\n",
    "d_pen_min = summary_df[(summary_df['penetration']<=depth_ref+sample_range) &(summary_df['penetration']>=depth_ref-sample_range)]['delta_h_w99'].min()\n",
    "d_pen_max = summary_df[(summary_df['penetration']<=depth_ref+sample_range) &(summary_df['penetration']>=depth_ref-sample_range)]['delta_h_w99'].max()\n",
    "d_pen_max- d_pen_min"
   ]
  },
  {
   "cell_type": "code",
   "execution_count": 29,
   "metadata": {},
   "outputs": [],
   "source": [
    "binned_pen_min = summary_df.groupby(summary_bin)['delta_h_smp'].min()\n",
    "binned_pen_max = summary_df.groupby(summary_bin)['delta_h_smp'].max()\n",
    "binned_pen_range = binned_pen_max.values - binned_pen_min.values"
   ]
  },
  {
   "cell_type": "code",
   "execution_count": 30,
   "metadata": {},
   "outputs": [
    {
     "data": {
      "text/plain": [
       "ice_type                       \n",
       "FYI       latitude                -0.040973\n",
       "          longitude               -0.062501\n",
       "          penetration              0.955644\n",
       "          density_f                0.510240\n",
       "          density_h                0.403445\n",
       "          density_r                0.233891\n",
       "          fraction_f               0.496308\n",
       "          fraction_h               0.120684\n",
       "          fraction_r              -0.752807\n",
       "          mean_weighted_density    0.276701\n",
       "          delta_h_smp              1.000000\n",
       "          delta_h_static           0.955919\n",
       "          delta_h_w99              0.955919\n",
       "          delta_h_error            0.511244\n",
       "          w99_rho                 -0.035908\n",
       "          c_cs_w99                 0.035886\n",
       "          c_cs_smp                -0.273859\n",
       "          delta_h_error_static     0.511244\n",
       "MYI       latitude                 0.244107\n",
       "          longitude                0.212065\n",
       "          penetration              0.976645\n",
       "          density_f                0.446163\n",
       "          density_h                0.375108\n",
       "          density_r                0.149380\n",
       "          fraction_f               0.055930\n",
       "          fraction_h               0.318614\n",
       "          fraction_r              -0.708912\n",
       "          mean_weighted_density    0.317889\n",
       "          delta_h_smp              1.000000\n",
       "          delta_h_static           0.976650\n",
       "          delta_h_w99              0.976650\n",
       "          delta_h_error            0.001495\n",
       "          w99_rho                  0.246158\n",
       "          c_cs_w99                -0.246202\n",
       "          c_cs_smp                -0.322976\n",
       "          delta_h_error_static     0.001495\n",
       "Name: delta_h_smp, dtype: float64"
      ]
     },
     "execution_count": 30,
     "metadata": {},
     "output_type": "execute_result"
    }
   ],
   "source": [
    "# Correlations between SMP classification properties and delta_h\n",
    "summary_df.groupby('ice_type').corr()['delta_h_smp']"
   ]
  },
  {
   "cell_type": "code",
   "execution_count": 31,
   "metadata": {},
   "outputs": [
    {
     "data": {
      "text/plain": [
       "-3.0"
      ]
     },
     "execution_count": 31,
     "metadata": {},
     "output_type": "execute_result"
    }
   ],
   "source": [
    "# Differences in wave speed from layered measurements\n",
    "c_in_slab = c_in_snow(summary_df['density_r'].mean())\n",
    "c_in_other = c_in_snow((summary_df['density_f'].mean()  + summary_df['density_h'].mean() )/2)\n",
    "np.round((((c_in_slab - c_in_other) / c_in_slab) *100),1)"
   ]
  }
 ],
 "metadata": {
  "kernelspec": {
   "display_name": "Python 3",
   "language": "python",
   "name": "python3"
  },
  "language_info": {
   "codemirror_mode": {
    "name": "ipython",
    "version": 3
   },
   "file_extension": ".py",
   "mimetype": "text/x-python",
   "name": "python",
   "nbconvert_exporter": "python",
   "pygments_lexer": "ipython3",
   "version": "3.7.5"
  }
 },
 "nbformat": 4,
 "nbformat_minor": 2
}
