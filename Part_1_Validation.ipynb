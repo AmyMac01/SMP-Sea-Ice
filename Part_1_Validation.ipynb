{
 "cells": [
  {
   "cell_type": "markdown",
   "metadata": {},
   "source": [
    "# Alignment of SMP and Snow Pits / Evaluation of Proksch (P15) coefficients\n",
    "*Josh King and Mike Brady, Environment and Climate Change Canada, 2020*\n",
    "\n",
    "This workbook introduces a snow on sea ice calibration procedure for SMP-derived estimates of density first introduced in [Proksch, et al., 2015](https://agupubs.onlinelibrary.wiley.com/doi/10.1002/2014JF003266). Where indicated, the work modifies portions of the [SMP python package from SLF](https://github.com/slf-dot-ch/snowmicropyn) and uses a number of open source community packages to facilitate processing.\n",
    "\n",
    "I'm still not great at GIS in python so the maps in the publication were done in ESRI ArcMap.\n",
    "\n",
    "### ***Alignment takes a long time due to the large number of scaling candidates. If you want to skip that part and just load the result set, set `skip_alignment` below to `True`.***\n",
    "\n",
    "### Notes on settings and constants\n",
    "**CUTTER_SIZE** defines the half height in mm of the density cutter used as reference. Can be changed to accommodate different sampler sizes. No need to change this for ECCC data. \n",
    "\n",
    "**WINDOW_SIZE** defines the size of the rolling window used in SLF shot noise calculations. A 5 mm window was used in [Proksch, et al., 2015](https://agupubs.onlinelibrary.wiley.com/doi/10.1002/2014JF003266) when there was separation between the SMP and density cutter. Increasing the window reduces sensitivity to sharp transitions and reduces resolution of the analysis. However, moving to something like 2.5 mm makes comparison difficult as some of the very fine structure resolved is very different over the ~10 cm separation between the SMP and density profiles. \n",
    "\n",
    "**NUM_TESTS** defines how many random scaling configurations to test against when attempting to align the SMP and snow pit data. We brute-force the alignment in our paper so `NUM_TESTS` must be large to ensure the test space searched is sufficient. A lower number of tests risks poor alignment and therefore poor calibration. In the paper we use 10k permutations.\n",
    "\n",
    "**MAX_STRETCH_LAYER** and **MAX_STRETCH_OVERALL** define how much an individual layer can be eroded or dilated, and the maximum change in total length of the SMP profile, respectively. We allow a rather large 70% change to individual layers to accommodate pinching out but restrict the total change to 10% to avoid overfitting.\n",
    "\n",
    "**H_RESAMPLE** and **L_RESAMPLE** define the resampled resolution of the SMP and the layer size used for matching profiles. These terms are interactive with the layer stretching and should be evaluated carefully if changed."
   ]
  },
  {
   "cell_type": "code",
   "execution_count": 1,
   "metadata": {},
   "outputs": [],
   "source": [
    "# Community packages\n",
    "import os \n",
    "import numpy as np\n",
    "import pandas as pd\n",
    "import warnings\n",
    "warnings.simplefilter(action='ignore', category=FutureWarning)\n",
    "\n",
    "from scipy import stats\n",
    "from statsmodels.formula.api import ols\n",
    "\n",
    "from matplotlib import pyplot as plt\n",
    "plt.rcParams[\"font.family\"] = \"Times New Roman\"\n",
    "\n",
    "# Local packages\n",
    "import smpfunc # SMP helper functions\n",
    "\n",
    "# Import SLF SMP Package\n",
    "# To ensure compatablility build from the environment.yml\n",
    "from snowmicropyn import Profile, proksch2015, loewe2012\n",
    "\n",
    "# Import field data\n",
    "pit_summary = pd.read_csv(\"./data/Pit/pit_summary.csv\")\n",
    "pit_density = pd.read_csv(\"./data/Pit/pit_density.csv\")\n",
    "input_data = os.path.abspath(\"./data/SMP/Calibration\")\n",
    "\n",
    "# Set constants\n",
    "CUTTER_SIZE = 15  # Half the height of the density cutter in mm\n",
    "WINDOW_SIZE = 5  # SMP analysis window in mm\n",
    "H_RESAMPLE = 1  # Delta height in mm for standardized SMP profiles\n",
    "L_RESAMPLE = 50  # Layer unit height in mm for SMP matching\n",
    "MAX_STRETCH_LAYER = 0.75  # Max layer change in % of height\n",
    "MAX_STRETCH_OVERALL = 0.15  # Max profile change in % of total height\n",
    "NUM_TESTS = 10000  # Number of scaling candidates to generate for alignment testing \n",
    "\n",
    "# Set conditions\n",
    "skip_alignment = True # Set as true to just load the results from a pickle instead of reprocessing\n",
    "paper_conditions = True # Set as true to reproduce the paper results with seeding\n",
    "\n",
    "# Small differences in comparison to the paper will occur if a seed is not set.\n",
    "# This is mainly because we use a brute-force approach for matching the SMP and \n",
    "# snow pit profiles with a modest search size (specified by NUM_TESTS).\n",
    "if paper_conditions:\n",
    "    np.random.seed(2019) \n",
    "\n",
    "os.makedirs('./output/figures', exist_ok=True)    \n",
    "\n",
    "# Helper functions\n",
    "def rmse(data):\n",
    "    return np.sqrt(np.mean(data**2))\n",
    "\n",
    "def load_smp(smp_file):\n",
    "    p = Profile.load(smp_file)\n",
    "    p = smpfunc.preprocess(p, smoothing = 0, noise_threshold = 0.01)\n",
    "    ground  = p.detect_ground()\n",
    "    surface  = p.detect_surface()\n",
    "    return p"
   ]
  },
  {
   "cell_type": "markdown",
   "metadata": {},
   "source": [
    "Load the SMP calibration profiles at each snow pit (n = 25).  \n",
    "Preprocess each SMP file to remove noise and detect ground and air interfaces."
   ]
  },
  {
   "cell_type": "code",
   "execution_count": 2,
   "metadata": {},
   "outputs": [
    {
     "name": "stdout",
     "output_type": "stream",
     "text": [
      "SMP calibration profiles loaded: 25\n"
     ]
    }
   ],
   "source": [
    "file_list = []\n",
    "for file in os.listdir(input_data):\n",
    "    if file.endswith(\".pnt\"):\n",
    "        file_list.append(os.path.join(input_data, file))\n",
    "        \n",
    "smp_data = [load_smp(file) for file in file_list]\n",
    "\n",
    "print(\"SMP calibration profiles loaded: {}\".format(len(smp_data)))"
   ]
  },
  {
   "cell_type": "markdown",
   "metadata": {},
   "source": [
    "### Summary information on the snow pit properties\n",
    "\n",
    "**pit_summary** holds summary information on all now pits. Here is a breakdown of the variables within:\n",
    "  - **ID**: Site identification code  \n",
    "  - **IOP**: Campaign identity code where a = Alert and e = Eureka  \n",
    "  - **ICE**: Ice surface type where m = MYI and f = FYI  \n",
    "  - **DOY**: Day of year  \n",
    "  - **Date**: Date snow pit was completed  \n",
    "  - **SITEID**: Campaign-specific site identification code  \n",
    "  - **LAT** and **LON** decimal degree WGS-84 coordinates  \n",
    "  - **PITFILE**: Internal ECCC snow pit file names (Available on request)  \n",
    "  - **SMPF**: Last 4 digits of the corresponding SMP file name  \n",
    "  - **MPD** Average of nearby Magnaprobe measured snow thickness  \n",
    "  - **SD**: Total snow pit thickness  \n",
    "  - **PD**: Operator-recorded SMP penetration, better to check directly from SMPF  \n",
    "  - **OFF**: Offset between retracted SMP tip and the snow surface. When mounted on the support structure this generally does not change unless there is settling  \n",
    "  - **NOTESMP**: SMP operator notes  \n",
    "  - **NOTESPIT**: Snow pit operator notes  "
   ]
  },
  {
   "cell_type": "code",
   "execution_count": 3,
   "metadata": {},
   "outputs": [
    {
     "data": {
      "text/html": [
       "<div>\n",
       "<style scoped>\n",
       "    .dataframe tbody tr th:only-of-type {\n",
       "        vertical-align: middle;\n",
       "    }\n",
       "\n",
       "    .dataframe tbody tr th {\n",
       "        vertical-align: top;\n",
       "    }\n",
       "\n",
       "    .dataframe thead th {\n",
       "        text-align: right;\n",
       "    }\n",
       "</style>\n",
       "<table border=\"1\" class=\"dataframe\">\n",
       "  <thead>\n",
       "    <tr style=\"text-align: right;\">\n",
       "      <th></th>\n",
       "      <th>ID</th>\n",
       "      <th>IOP</th>\n",
       "      <th>ICE</th>\n",
       "      <th>DOY</th>\n",
       "      <th>Date</th>\n",
       "      <th>SITEID</th>\n",
       "      <th>LAT</th>\n",
       "      <th>LON</th>\n",
       "      <th>PITFILE</th>\n",
       "      <th>SMPF</th>\n",
       "      <th>MPD</th>\n",
       "      <th>SD</th>\n",
       "      <th>PD</th>\n",
       "      <th>OFF</th>\n",
       "      <th>NOTESMP</th>\n",
       "      <th>NOTESPIT</th>\n",
       "    </tr>\n",
       "  </thead>\n",
       "  <tbody>\n",
       "    <tr>\n",
       "      <th>0</th>\n",
       "      <td>1</td>\n",
       "      <td>a</td>\n",
       "      <td>m</td>\n",
       "      <td>101</td>\n",
       "      <td>11/04/2017</td>\n",
       "      <td>3</td>\n",
       "      <td>83.98343</td>\n",
       "      <td>-66.35089</td>\n",
       "      <td>170411_Site3_Pit1</td>\n",
       "      <td>1848</td>\n",
       "      <td>0.52</td>\n",
       "      <td>0.45</td>\n",
       "      <td>0.6</td>\n",
       "      <td>0.16</td>\n",
       "      <td>Probe went down fine. Tilted forward a few deg...</td>\n",
       "      <td>Completed ~100 m away from the aircraft landin...</td>\n",
       "    </tr>\n",
       "  </tbody>\n",
       "</table>\n",
       "</div>"
      ],
      "text/plain": [
       "   ID IOP ICE  DOY        Date  SITEID       LAT       LON            PITFILE  \\\n",
       "0   1   a   m  101  11/04/2017       3  83.98343 -66.35089  170411_Site3_Pit1   \n",
       "\n",
       "   SMPF   MPD    SD   PD   OFF  \\\n",
       "0  1848  0.52  0.45  0.6  0.16   \n",
       "\n",
       "                                             NOTESMP  \\\n",
       "0  Probe went down fine. Tilted forward a few deg...   \n",
       "\n",
       "                                            NOTESPIT  \n",
       "0  Completed ~100 m away from the aircraft landin...  "
      ]
     },
     "execution_count": 3,
     "metadata": {},
     "output_type": "execute_result"
    }
   ],
   "source": [
    "pit_summary.head(1)"
   ]
  },
  {
   "cell_type": "code",
   "execution_count": 4,
   "metadata": {},
   "outputs": [
    {
     "name": "stdout",
     "output_type": "stream",
     "text": [
      "SMP profile total: 25\n",
      "Snow pit total: 25\n",
      "\n",
      "Density total: 219\n",
      "\n",
      "Snow pits by campaign:\n",
      "e    20\n",
      "a     5\n",
      "Name: IOP, dtype: int64\n",
      "\n",
      "Snow pits by ice type:\n",
      "f    17\n",
      "m     8\n",
      "Name: ICE, dtype: int64\n",
      "\n",
      "Density measurements by layer type:\n",
      "F    88\n",
      "H    86\n",
      "R    36\n",
      "I     6\n",
      "N     3\n",
      "Name: TYPE, dtype: int64\n"
     ]
    }
   ],
   "source": [
    "print('SMP profile total: %i' % len(smp_data))\n",
    "print('Snow pit total: %i' % len(pit_summary))\n",
    "print('\\nDensity total: %i' % len(pit_density))\n",
    "print('\\nSnow pits by campaign:')\n",
    "print(pit_summary.IOP.value_counts())\n",
    "print('\\nSnow pits by ice type:')\n",
    "print(pit_summary.ICE.value_counts())\n",
    "\n",
    "# Note: The small number of recent snow measurements were rolled into rounded classification\n",
    "#       for the paper. In the future many more measurements are needed to chracterize recent snow\n",
    "\n",
    "print('\\nDensity measurements by layer type:')\n",
    "print(pit_density.TYPE.value_counts())"
   ]
  },
  {
   "cell_type": "markdown",
   "metadata": {},
   "source": [
    "### Extraction of corresponding snow pit density and SMP properties\n",
    "This section relies on functions imported from `smpfunc.py`. We iterate through all the SMP profiles that are associated with snow pits and do the following:\n",
    "\n",
    "1. Restructure the snow pit density estimates into a dataframe (`density_df`)  \n",
    "2. Make first guess estimates of density using the P15 coefficients (`p2015`)  \n",
    "3. Resample the SMP and snow pit arrays to a common thickness axis  \n",
    "4. Generate scaling candidates (`random_tests`) according to `L_RESAMPLE`, `NUM_TESTS`, `MAX_STRETCH_OVERALL`, and `MAX_STRETCH_LAYER` \n",
    "5. Scale the profiles and extract the SMP estimates corresponding with each density cutter measurement (`compare_profiles`)  \n",
    "6. Evaluate retrieval skill according to correlation and rmse (`retrieved_skill`)  \n",
    "7. Save properties of the best scaling candidate for further analysis  "
   ]
  },
  {
   "cell_type": "code",
   "execution_count": 5,
   "metadata": {},
   "outputs": [
    {
     "name": "stdout",
     "output_type": "stream",
     "text": [
      "Finished with S34M0295\n",
      "Finished with S34M0309\n",
      "Finished with S34M0315\n",
      "Finished with S34M0335\n",
      "Finished with S34M0361\n",
      "Finished with S34M0439\n",
      "Finished with S34M0462\n",
      "Finished with S34M0509\n",
      "Finished with S34M0526\n",
      "Finished with S34M0541\n",
      "Finished with S34M0633\n",
      "Finished with S34M0649\n",
      "Finished with S34M0666\n",
      "Finished with S34M0735\n",
      "Finished with S34M0752\n",
      "Finished with S34M0776\n",
      "Finished with S34M0844\n",
      "Finished with S34M0869\n",
      "Finished with S34M0875\n",
      "Finished with S34M0956\n",
      "Finished with S34M1848\n",
      "Finished with S34M1856\n",
      "Finished with S34M1874\n",
      "Finished with S34M1894\n",
      "Finished with S34M1908\n",
      "Average scaling: 0.078\n"
     ]
    }
   ],
   "source": [
    "comparison_df = pd.DataFrame()\n",
    "min_scaling_coeff = []\n",
    "\n",
    "if not skip_alignment:\n",
    "    for smp in smp_data:\n",
    "        smp_file_num = int(smp.name[-4:])\n",
    "        pit_df  = pit_summary[pit_summary['SMPF'] == smp_file_num] # Select the matching pit\n",
    "        density_df = pit_density[pit_density['ID'] == pit_df['ID'].values[0]]\n",
    "        density_df = density_df.assign(relative_height=np.abs(((density_df['TOP']*10) - CUTTER_SIZE) - density_df['TOP'].max()*10).values)\n",
    "\n",
    "        # Make first guess at microstructure based on original profile\n",
    "        l2012 = loewe2012.calc(smp.samples_within_snowpack(), window=WINDOW_SIZE)\n",
    "        p2015 = proksch2015.calc(smp.samples_within_snowpack(), window=WINDOW_SIZE)\n",
    "\n",
    "        # Estimate offset of the snow depth and SMP profile\n",
    "        smp_profile_height = p2015.distance.max()\n",
    "        smp_height_diff = pit_df.MPD.values*1000 - smp_profile_height\n",
    "\n",
    "        # Create new SMP resampled arrays and determine the number of layers\n",
    "        depth_array = np.arange(0, p2015.distance.max() + smp_height_diff, H_RESAMPLE)\n",
    "        density_array = np.interp(depth_array,p2015.distance,p2015.P2015_density)\n",
    "        force_array = np.interp(depth_array,p2015.distance,l2012.force_median)\n",
    "        l_array = np.interp(depth_array,p2015.distance,l2012.L2012_L)\n",
    "\n",
    "        smp_df = pd.DataFrame({'distance': depth_array, \n",
    "                               'density': density_array,\n",
    "                               'force_median': force_array,\n",
    "                               'l': l_array})\n",
    "\n",
    "        # Generate a selection of random transformations to evaluate brute-force alignment\n",
    "        # We use a brute force approach because there was no gradient that could be used to optimize the relationship\n",
    "        num_sections = np.ceil(len(smp_df.index)/L_RESAMPLE).astype(int)\n",
    "        random_tests = [smpfunc.random_stretch(x, MAX_STRETCH_OVERALL, MAX_STRETCH_LAYER) for x in np.repeat(num_sections, NUM_TESTS)] \n",
    "\n",
    "        scaled_profiles = [smpfunc.scale_profile(test, smp_df.distance.values, smp_df.density.values, L_RESAMPLE, H_RESAMPLE) for test in random_tests]\n",
    "        compare_profiles = [smpfunc.extract_samples(dist, rho, density_df.relative_height.values, CUTTER_SIZE) for dist, rho in scaled_profiles]\n",
    "        compare_profiles = [pd.concat([profile, density_df.reset_index()], axis=1, sort=False) for profile in compare_profiles]\n",
    "        retrieved_skill = [smpfunc.calc_skill(profile, CUTTER_SIZE) for profile in compare_profiles]\n",
    "        retrieved_skill = pd.DataFrame(retrieved_skill,columns = ['r','rmse','rmse_corr','mae'])\n",
    "\n",
    "        min_scaling_idx = retrieved_skill.sort_values(['r', 'rmse_corr'], ascending=[False, True]).head(1).index.values\n",
    "        min_scaling_coeff.append(random_tests[int(min_scaling_idx)])\n",
    "        \n",
    "        dist, scaled_l =  smpfunc.scale_profile(min_scaling_coeff[-1], smp_df.distance.values, smp_df.l.values, L_RESAMPLE, H_RESAMPLE)\n",
    "        dist, scaled_force_median = smpfunc.scale_profile(min_scaling_coeff[-1], smp_df.distance.values, smp_df.force_median.values, L_RESAMPLE, H_RESAMPLE)\n",
    "\n",
    "        result = compare_profiles[int(min_scaling_idx)].assign(l=smpfunc.extract_samples(dist, scaled_l, density_df.relative_height.values, CUTTER_SIZE).mean_samp,\n",
    "                                                  force_median=smpfunc.extract_samples(dist, scaled_force_median, density_df.relative_height.values, CUTTER_SIZE).mean_samp)\n",
    "        comparison_df = comparison_df.append(result, ignore_index=True)\n",
    "        print(\"Finished with {}\".format(smp.name))\n",
    "    \n",
    "    # Summary of scaling\n",
    "    smp_thickness = [p.samples_within_snowpack().distance.max() for p in smp_data]\n",
    "    scaling_total = [s.sum() for s in min_scaling_coeff]\n",
    "    scaling_mean_abs =  np.round(np.abs(np.array(scaling_total)).mean(), 3)\n",
    "    print('Average scaling: %0.3f' % scaling_mean_abs) # in %\n",
    "\n",
    "    # save the results to a local file since tbe brute-force method takes a while to compute\n",
    "    comparison_df.to_pickle(\"./output/smp_pit_comparison.pkl\")\n",
    "else:\n",
    "    # Load previously-generated results if desired\n",
    "    comparison_df = pd.read_pickle('./output/smp_pit_comparison.pkl')"
   ]
  },
  {
   "cell_type": "markdown",
   "metadata": {},
   "source": [
    "### Filtering of results\n",
    "Apply a few rules to clean up the data:\n",
    "1. Drop comparisons where any field is not a number (`NaN`), this can occur when a density sample overlaps with no SMP data (ie. depth hoar omissions)\n",
    "2. Drop comparisons where the density cutter is not fully within the SMP profile (identified by the SMP count)\n",
    "3. Drop comparisons where there is new snow or ice in the sample (Not enough samples to support robust analysis)"
   ]
  },
  {
   "cell_type": "code",
   "execution_count": 6,
   "metadata": {},
   "outputs": [
    {
     "data": {
      "text/html": [
       "<div>\n",
       "<style scoped>\n",
       "    .dataframe tbody tr th:only-of-type {\n",
       "        vertical-align: middle;\n",
       "    }\n",
       "\n",
       "    .dataframe tbody tr th {\n",
       "        vertical-align: top;\n",
       "    }\n",
       "\n",
       "    .dataframe thead th {\n",
       "        text-align: right;\n",
       "    }\n",
       "</style>\n",
       "<table border=\"1\" class=\"dataframe\">\n",
       "  <thead>\n",
       "    <tr style=\"text-align: right;\">\n",
       "      <th></th>\n",
       "      <th>count_samp</th>\n",
       "      <th>mean_samp</th>\n",
       "      <th>median_samp</th>\n",
       "      <th>stdev_samp</th>\n",
       "      <th>index</th>\n",
       "      <th>ID</th>\n",
       "      <th>TOP</th>\n",
       "      <th>BOTTOM</th>\n",
       "      <th>RHO</th>\n",
       "      <th>NOTES</th>\n",
       "      <th>TYPE</th>\n",
       "      <th>relative_height</th>\n",
       "      <th>l</th>\n",
       "      <th>force_median</th>\n",
       "      <th>error</th>\n",
       "    </tr>\n",
       "  </thead>\n",
       "  <tbody>\n",
       "    <tr>\n",
       "      <th>0</th>\n",
       "      <td>31</td>\n",
       "      <td>584.201003</td>\n",
       "      <td>617.731699</td>\n",
       "      <td>6.604018e+01</td>\n",
       "      <td>209</td>\n",
       "      <td>24</td>\n",
       "      <td>18.0</td>\n",
       "      <td>11.5</td>\n",
       "      <td>442.5</td>\n",
       "      <td>-9999</td>\n",
       "      <td>R</td>\n",
       "      <td>15.0</td>\n",
       "      <td>0.172577</td>\n",
       "      <td>10.598897</td>\n",
       "      <td>141.701003</td>\n",
       "    </tr>\n",
       "    <tr>\n",
       "      <th>1</th>\n",
       "      <td>31</td>\n",
       "      <td>464.755238</td>\n",
       "      <td>536.770771</td>\n",
       "      <td>1.224404e+02</td>\n",
       "      <td>210</td>\n",
       "      <td>24</td>\n",
       "      <td>11.5</td>\n",
       "      <td>9.0</td>\n",
       "      <td>385.5</td>\n",
       "      <td>-9999</td>\n",
       "      <td>F</td>\n",
       "      <td>80.0</td>\n",
       "      <td>0.370917</td>\n",
       "      <td>6.120971</td>\n",
       "      <td>79.255238</td>\n",
       "    </tr>\n",
       "    <tr>\n",
       "      <th>2</th>\n",
       "      <td>31</td>\n",
       "      <td>276.171140</td>\n",
       "      <td>281.557287</td>\n",
       "      <td>1.966974e+01</td>\n",
       "      <td>211</td>\n",
       "      <td>24</td>\n",
       "      <td>9.0</td>\n",
       "      <td>2.0</td>\n",
       "      <td>199.0</td>\n",
       "      <td>-9999</td>\n",
       "      <td>H</td>\n",
       "      <td>105.0</td>\n",
       "      <td>0.813759</td>\n",
       "      <td>0.446445</td>\n",
       "      <td>77.171140</td>\n",
       "    </tr>\n",
       "    <tr>\n",
       "      <th>3</th>\n",
       "      <td>31</td>\n",
       "      <td>281.557287</td>\n",
       "      <td>281.557287</td>\n",
       "      <td>5.684342e-14</td>\n",
       "      <td>212</td>\n",
       "      <td>24</td>\n",
       "      <td>2.0</td>\n",
       "      <td>0.0</td>\n",
       "      <td>358.0</td>\n",
       "      <td>-9999</td>\n",
       "      <td>F</td>\n",
       "      <td>175.0</td>\n",
       "      <td>0.685753</td>\n",
       "      <td>0.315619</td>\n",
       "      <td>-76.442713</td>\n",
       "    </tr>\n",
       "    <tr>\n",
       "      <th>4</th>\n",
       "      <td>31</td>\n",
       "      <td>681.181976</td>\n",
       "      <td>690.728469</td>\n",
       "      <td>6.660636e+01</td>\n",
       "      <td>213</td>\n",
       "      <td>25</td>\n",
       "      <td>22.5</td>\n",
       "      <td>11.5</td>\n",
       "      <td>480.0</td>\n",
       "      <td>-9999</td>\n",
       "      <td>R</td>\n",
       "      <td>15.0</td>\n",
       "      <td>0.178738</td>\n",
       "      <td>36.294175</td>\n",
       "      <td>201.181976</td>\n",
       "    </tr>\n",
       "  </tbody>\n",
       "</table>\n",
       "</div>"
      ],
      "text/plain": [
       "   count_samp   mean_samp  median_samp    stdev_samp  index  ID   TOP  BOTTOM  \\\n",
       "0          31  584.201003   617.731699  6.604018e+01    209  24  18.0    11.5   \n",
       "1          31  464.755238   536.770771  1.224404e+02    210  24  11.5     9.0   \n",
       "2          31  276.171140   281.557287  1.966974e+01    211  24   9.0     2.0   \n",
       "3          31  281.557287   281.557287  5.684342e-14    212  24   2.0     0.0   \n",
       "4          31  681.181976   690.728469  6.660636e+01    213  25  22.5    11.5   \n",
       "\n",
       "     RHO  NOTES TYPE  relative_height         l  force_median       error  \n",
       "0  442.5  -9999    R             15.0  0.172577     10.598897  141.701003  \n",
       "1  385.5  -9999    F             80.0  0.370917      6.120971   79.255238  \n",
       "2  199.0  -9999    H            105.0  0.813759      0.446445   77.171140  \n",
       "3  358.0  -9999    F            175.0  0.685753      0.315619  -76.442713  \n",
       "4  480.0  -9999    R             15.0  0.178738     36.294175  201.181976  "
      ]
     },
     "execution_count": 6,
     "metadata": {},
     "output_type": "execute_result"
    }
   ],
   "source": [
    "result = comparison_df.dropna() \n",
    "result = result[result['count_samp']>=CUTTER_SIZE*2] # Remove comparisons outside the profile\n",
    "result = result[~result['TYPE'].isin(['N', 'I'])] # Remove new snow and ice because we don't have enough samples\n",
    "result['error'] = result['mean_samp']-result['RHO']\n",
    "result.head()"
   ]
  },
  {
   "cell_type": "markdown",
   "metadata": {},
   "source": [
    "### Compare extracted SMP density against *in situ*\n",
    "SMP density estimates using the Proksch et. al. 2015 coefficients are compared here"
   ]
  },
  {
   "cell_type": "code",
   "execution_count": 7,
   "metadata": {},
   "outputs": [
    {
     "name": "stdout",
     "output_type": "stream",
     "text": [
      "Proksch et al. 2015 Eval.\n",
      "N: 196\n",
      "RMSE: 125.0\n",
      "bias: 104.0\n",
      "r^2: 0.72\n"
     ]
    }
   ],
   "source": [
    "# P2015 evaluation stats\n",
    "p2015_rmse = np.sqrt(np.mean(result['error']**2))\n",
    "p2015_bias = (result['error']).mean()\n",
    "p2015_r2 = np.ma.corrcoef(result['mean_samp'],result['RHO'])[0, 1]**2\n",
    "p2015_n = len(result['mean_samp'])\n",
    "p2015_p = stats.pearsonr(result['mean_samp'],result['RHO'])[1]\n",
    "\n",
    "print('Proksch et al. 2015 Eval.')\n",
    "print('N: %i' % p2015_n)\n",
    "print('RMSE: %0.1f' % np.round(p2015_rmse))\n",
    "print('bias: %0.1f' % np.round(p2015_bias))\n",
    "print('r^2: %0.2f' % p2015_r2)"
   ]
  },
  {
   "cell_type": "code",
   "execution_count": 8,
   "metadata": {},
   "outputs": [
    {
     "data": {
      "image/png": "[encoded data removed]",
      "text/plain": [
       "<Figure size 864x360 with 2 Axes>"
      ]
     },
     "metadata": {
      "needs_background": "light"
     },
     "output_type": "display_data"
    }
   ],
   "source": [
    "# Paper figure 4 (Top) with caption\n",
    "# 'Evaluation of the SMP density model parametrization of Proksch et al. (2015) (P15; Top) \n",
    "#  and recalibrated coefficients for snow on sea ice (K20b; Bottom). \n",
    "#  In both cases the model is evaluated against manual density cutter measurements of snow density.'\n",
    "\n",
    "axis_value_size = 12\n",
    "axis_label_size = 14\n",
    "\n",
    "line_start = 100\n",
    "line_end = 700\n",
    "point_size = 8\n",
    "\n",
    "f, (ax1, ax2) = plt.subplots(1, 2, sharey=False, figsize=(12,5))\n",
    "ax1.tick_params(axis='both', which='major', labelsize=axis_value_size)\n",
    "ax2.tick_params(axis='both', which='major', labelsize=axis_value_size)\n",
    "\n",
    "ax1.scatter(result['RHO'], result['mean_samp'], \n",
    "            s = point_size, color ='black', zorder = 1000)\n",
    "ax1.plot([line_start, line_end], [line_start, line_end], \n",
    "         'k-', color = 'gray' ,alpha= 0.8, zorder = 500)\n",
    "\n",
    "ax1.set_xlim(line_start,line_end)\n",
    "ax1.set_ylim(line_start,line_end)\n",
    "\n",
    "rho_bin_size = 20 #in kg m-3\n",
    "common_bin = np.arange(line_start,line_end, rho_bin_size)\n",
    "hist_kws = dict(density=True, bins=common_bin, histtype=\"stepfilled\", linewidth=1.25)\n",
    "ax2.ticklabel_format(axis='y',style='sci', scilimits=(1,5), useMathText=False)\n",
    "\n",
    "ax2.hist(result['RHO'], alpha = 1, edgecolor=\"black\", \n",
    "         color = 'grey', label = 'Pit', **hist_kws)\n",
    "ax2.hist(result['mean_samp'], alpha = 0.6, edgecolor=\"black\", \n",
    "         color = 'deepskyblue', label = 'SMP', **hist_kws)\n",
    "\n",
    "ax1.text(550, 150,'N: %i \\nRMSE: %i \\nR$^2$: %0.2f'%(p2015_n, p2015_rmse, p2015_r2),  fontsize=12)\n",
    "ax1.set_ylabel('SMP P15 density [kg m$\\mathregular{^{-3}}$]', fontsize=axis_label_size)\n",
    "ax1.set_xlabel('Snow pit density [kg m$\\mathregular{^{-3}}$]', fontsize=axis_label_size)\n",
    "ax2.set_ylabel('PDF', fontsize=axis_label_size)\n",
    "ax2.set_xlabel('Snow density [kg m$\\mathregular{^{-3}}$]', fontsize=axis_label_size)\n",
    "ax2.legend(edgecolor = 'black',  fontsize=axis_value_size)\n",
    "ax2.set_xlim(line_start,line_end);"
   ]
  },
  {
   "cell_type": "code",
   "execution_count": 9,
   "metadata": {},
   "outputs": [
    {
     "data": {
      "text/plain": [
       "0.41"
      ]
     },
     "execution_count": 9,
     "metadata": {},
     "output_type": "execute_result"
    }
   ],
   "source": [
    "# Error as a % of mean density\n",
    "np.round(rmse(result.error)/ result['RHO'].mean(),2)"
   ]
  },
  {
   "cell_type": "code",
   "execution_count": 10,
   "metadata": {},
   "outputs": [
    {
     "data": {
      "text/plain": [
       "TYPE\n",
       "F    134.870551\n",
       "H     95.622354\n",
       "R    165.192983\n",
       "Name: error, dtype: float64"
      ]
     },
     "execution_count": 10,
     "metadata": {},
     "output_type": "execute_result"
    }
   ],
   "source": [
    "# RMSE by layer type\n",
    "result.groupby('TYPE')['error'].apply(rmse)"
   ]
  },
  {
   "cell_type": "code",
   "execution_count": 11,
   "metadata": {},
   "outputs": [
    {
     "data": {
      "text/plain": [
       "campaign\n",
       "a     97.933150\n",
       "e    134.927592\n",
       "Name: error, dtype: float64"
      ]
     },
     "execution_count": 11,
     "metadata": {},
     "output_type": "execute_result"
    }
   ],
   "source": [
    "# Errors by campaign (a = alert, e = eureka)\n",
    "campaign_tag = []\n",
    "ice_tag = []\n",
    "lat_tag = []\n",
    "lon_tag = []\n",
    "for x in result['ID']:\n",
    "    ice_tag.append(np.asarray(pit_summary[pit_summary['ID']== x]['ICE'].values))\n",
    "    campaign_tag.append(np.asarray(pit_summary[pit_summary['ID']== x]['IOP'].values))\n",
    "    lat_tag.append(np.asarray(pit_summary[pit_summary['ID']== x]['LAT'].values))\n",
    "    lon_tag.append(np.asarray(pit_summary[pit_summary['ID']== x]['LON'].values))\n",
    "\n",
    "result['campaign'] = np.hstack(campaign_tag)\n",
    "result['ice_type'] = np.hstack(ice_tag)\n",
    "result['lat'] = np.hstack(lat_tag)\n",
    "result['long'] = np.hstack(lon_tag)\n",
    "\n",
    "result.groupby('campaign')['error'].apply(rmse)"
   ]
  },
  {
   "cell_type": "code",
   "execution_count": 12,
   "metadata": {},
   "outputs": [
    {
     "data": {
      "text/plain": [
       "ice_type\n",
       "f    153.150085\n",
       "m     86.272081\n",
       "Name: error, dtype: float64"
      ]
     },
     "execution_count": 12,
     "metadata": {},
     "output_type": "execute_result"
    }
   ],
   "source": [
    "# Errors by ice type (f = fyi, m = myi)\n",
    "result.groupby('ice_type')['error'].apply(rmse)"
   ]
  },
  {
   "cell_type": "code",
   "execution_count": 13,
   "metadata": {},
   "outputs": [],
   "source": [
    "# Export the dataset\n",
    "result.to_pickle(\"./output/smp_pit_filtered.pkl\")"
   ]
  }
 ],
 "metadata": {
  "kernelspec": {
   "display_name": "Python 3",
   "language": "python",
   "name": "python3"
  },
  "language_info": {
   "codemirror_mode": {
    "name": "ipython",
    "version": 3
   },
   "file_extension": ".py",
   "mimetype": "text/x-python",
   "name": "python",
   "nbconvert_exporter": "python",
   "pygments_lexer": "ipython3",
   "version": "3.7.3"
  }
 },
 "nbformat": 4,
 "nbformat_minor": 2
}
